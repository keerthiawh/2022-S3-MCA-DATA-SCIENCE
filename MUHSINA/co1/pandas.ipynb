{
 "cells": [
  {
   "cell_type": "code",
   "execution_count": 1,
   "id": "216c8dff",
   "metadata": {},
   "outputs": [
    {
     "name": "stdout",
     "output_type": "stream",
     "text": [
      "x    1\n",
      "y    2\n",
      "z    3\n",
      "dtype: int64\n"
     ]
    }
   ],
   "source": [
    "import pandas as pd\n",
    "a=[1,2,3]\n",
    "print(pd.Series(a,index=['x','y','z']))"
   ]
  },
  {
   "cell_type": "code",
   "execution_count": 2,
   "id": "b3ee1dd4",
   "metadata": {},
   "outputs": [
    {
     "name": "stdout",
     "output_type": "stream",
     "text": [
      "<class 'pandas.core.frame.DataFrame'>\n",
      "\n",
      "\n",
      "    Ingredient  Sweetness  Crunchiness   FoodType\n",
      "0        apple         10            9      fruit\n",
      "1        bacon          1            4    protein\n",
      "2       banana         10            1      fruit\n",
      "3       carrot          7           10  vegetable\n",
      "4       celery          3           10  vegetable\n",
      "5       cheese          1            1    protein\n",
      "6     cucumber          2            8  vegetable\n",
      "7         fish          3            1    protein\n",
      "8        grape          8            5      fruit\n",
      "9   green bean          3            7  vegetable\n",
      "10     lettuce          1            9  vegetable\n",
      "11        nuts          3            6    protein\n",
      "12      orange          7            3      fruit\n",
      "13        pear         10            7      fruit\n",
      "14      shrimp          2            3    protein\n"
     ]
    }
   ],
   "source": [
    "import pandas as pd\n",
    "df=pd.read_csv('food.csv')\n",
    "print(type(df))\n",
    "print('\\n')\n",
    "print(df)"
   ]
  },
  {
   "cell_type": "code",
   "execution_count": 4,
   "id": "c5cbd1cd",
   "metadata": {},
   "outputs": [
    {
     "name": "stdout",
     "output_type": "stream",
     "text": [
      "\n",
      "\n",
      "<class 'pandas.core.frame.DataFrame'>\n",
      "RangeIndex: 15 entries, 0 to 14\n",
      "Data columns (total 4 columns):\n",
      " #   Column       Non-Null Count  Dtype \n",
      "---  ------       --------------  ----- \n",
      " 0   Ingredient   15 non-null     object\n",
      " 1   Sweetness    15 non-null     int64 \n",
      " 2   Crunchiness  15 non-null     int64 \n",
      " 3   FoodType     15 non-null     object\n",
      "dtypes: int64(2), object(2)\n",
      "memory usage: 608.0+ bytes\n",
      "None\n"
     ]
    }
   ],
   "source": [
    "print('\\n')\n",
    "print(df.info())"
   ]
  },
  {
   "cell_type": "code",
   "execution_count": 5,
   "id": "67b1d1da",
   "metadata": {},
   "outputs": [
    {
     "name": "stdout",
     "output_type": "stream",
     "text": [
      "\n",
      "\n",
      "  Ingredient  Sweetness  Crunchiness   FoodType\n",
      "0      apple         10            9      fruit\n",
      "1      bacon          1            4    protein\n",
      "2     banana         10            1      fruit\n",
      "3     carrot          7           10  vegetable\n",
      "4     celery          3           10  vegetable\n",
      "\n",
      "\n",
      "   Ingredient  Sweetness  Crunchiness FoodType\n",
      "13       pear         10            7    fruit\n",
      "14     shrimp          2            3  protein\n"
     ]
    }
   ],
   "source": [
    "print('\\n')\n",
    "print(df.head(5))\n",
    "print('\\n')\n",
    "print(df.tail(2))"
   ]
  },
  {
   "cell_type": "code",
   "execution_count": 6,
   "id": "0ad7d7c2",
   "metadata": {},
   "outputs": [
    {
     "name": "stdout",
     "output_type": "stream",
     "text": [
      "(15, 4)\n"
     ]
    }
   ],
   "source": [
    "print(df.shape)"
   ]
  },
  {
   "cell_type": "code",
   "execution_count": 7,
   "id": "51394ec0",
   "metadata": {},
   "outputs": [
    {
     "name": "stdout",
     "output_type": "stream",
     "text": [
      "       Sweetness  Crunchiness\n",
      "count  15.000000    15.000000\n",
      "mean    4.733333     5.600000\n",
      "std     3.514595     3.290679\n",
      "min     1.000000     1.000000\n",
      "25%     2.000000     3.000000\n",
      "50%     3.000000     6.000000\n",
      "75%     7.500000     8.500000\n",
      "max    10.000000    10.000000\n"
     ]
    }
   ],
   "source": [
    "print(df.describe())"
   ]
  },
  {
   "cell_type": "code",
   "execution_count": 9,
   "id": "2588bca0",
   "metadata": {},
   "outputs": [
    {
     "name": "stdout",
     "output_type": "stream",
     "text": [
      "             Sweetness  Crunchiness\n",
      "Sweetness     1.000000     0.070407\n",
      "Crunchiness   0.070407     1.000000\n"
     ]
    }
   ],
   "source": [
    "print(df.corr(method='pearson'))"
   ]
  },
  {
   "cell_type": "code",
   "execution_count": 10,
   "id": "3a2295cc",
   "metadata": {},
   "outputs": [
    {
     "name": "stdout",
     "output_type": "stream",
     "text": [
      "\n",
      "\n",
      "  Ingredient  Sweetness  Crunchiness FoodType\n",
      "0      apple         10            9    fruit\n",
      "1      bacon          1            4  protein\n",
      "2     banana         10            1    fruit\n",
      "\n",
      "\n",
      "   Sweetness  Crunchiness\n",
      "2         10            1\n",
      "3          7           10\n"
     ]
    }
   ],
   "source": [
    "print('\\n')\n",
    "print(df[:3])\n",
    "print('\\n')\n",
    "print(df.iloc[2:4,1:3])"
   ]
  },
  {
   "cell_type": "code",
   "execution_count": 11,
   "id": "08015931",
   "metadata": {},
   "outputs": [
    {
     "name": "stdout",
     "output_type": "stream",
     "text": [
      "<class 'pandas.core.frame.DataFrame'>\n",
      "\n",
      "\n",
      "    Ingredient Sweetness  Crunchiness   FoodType\n",
      "0        apple        10            9      fruit\n",
      "1        bacon         1            4    protein\n",
      "2       banana        10            1      fruit\n",
      "3       carrot         7           10  vegetable\n",
      "4       celery       NaN           10  vegetable\n",
      "5       cheese         1            1    protein\n",
      "6     cucumber         2            8  vegetable\n",
      "7         fish         3            1        123\n",
      "8        grape         8            5      fruit\n",
      "9   green bean         3            7  vegetable\n",
      "10     lettuce        AA            9  vegetable\n",
      "11        nuts         3            6    protein\n",
      "12      orange         7            3      fruit\n",
      "13        pear        10            7      fruit\n",
      "14      shrimp         2            3    protein\n",
      "15      shrimp         2            3    protein\n",
      "16      banana        10            1      fruit\n"
     ]
    }
   ],
   "source": [
    "df=pd.read_csv('food_cleaning.csv')\n",
    "print(type(df))\n",
    "print('\\n')\n",
    "print(df)"
   ]
  },
  {
   "cell_type": "code",
   "execution_count": 12,
   "id": "d769d9dd",
   "metadata": {},
   "outputs": [
    {
     "name": "stdout",
     "output_type": "stream",
     "text": [
      "    Ingredient Sweetness  Crunchiness   FoodType\n",
      "0        apple        10            9      fruit\n",
      "1        bacon         1            4    protein\n",
      "2       banana        10            1      fruit\n",
      "3       carrot         7           10  vegetable\n",
      "5       cheese         1            1    protein\n",
      "6     cucumber         2            8  vegetable\n",
      "7         fish         3            1        123\n",
      "8        grape         8            5      fruit\n",
      "9   green bean         3            7  vegetable\n",
      "10     lettuce        AA            9  vegetable\n",
      "11        nuts         3            6    protein\n",
      "12      orange         7            3      fruit\n",
      "13        pear        10            7      fruit\n",
      "14      shrimp         2            3    protein\n",
      "15      shrimp         2            3    protein\n",
      "16      banana        10            1      fruit\n"
     ]
    }
   ],
   "source": [
    "new_data=df.dropna()\n",
    "print(new_data)"
   ]
  },
  {
   "cell_type": "code",
   "execution_count": 13,
   "id": "49e74c68",
   "metadata": {},
   "outputs": [
    {
     "name": "stdout",
     "output_type": "stream",
     "text": [
      "    Ingredient Sweetness  Crunchiness   FoodType\n",
      "0        apple        10            9      fruit\n",
      "1        bacon         1            4    protein\n",
      "2       banana        10            1      fruit\n",
      "3       carrot         7           10  vegetable\n",
      "4       celery       NaN           10  vegetable\n",
      "5       cheese         1            1    protein\n",
      "6     cucumber         2            8  vegetable\n",
      "7         fish         3            1        123\n",
      "8        grape         8            5      fruit\n",
      "9   green bean         3            7  vegetable\n",
      "10     lettuce        AA            9  vegetable\n",
      "11        nuts         3            6    protein\n",
      "12      orange         7            3      fruit\n",
      "13        pear        10            7      fruit\n",
      "14      shrimp         2            3    protein\n"
     ]
    }
   ],
   "source": [
    "df.duplicated().any()\n",
    "df.drop_duplicates(inplace=True)\n",
    "print(df)"
   ]
  },
  {
   "cell_type": "code",
   "execution_count": 18,
   "id": "84932cc9",
   "metadata": {},
   "outputs": [
    {
     "name": "stdout",
     "output_type": "stream",
     "text": [
      "    Ingredient Sweetness  Crunchiness   FoodType\n",
      "0        apple        10          9.0      fruit\n",
      "1        bacon         1          4.0    protein\n",
      "2       banana        10          1.0      fruit\n",
      "3       carrot         7         10.0  vegetable\n",
      "4       celery       NaN         10.0  vegetable\n",
      "5       cheese         1          1.0    protein\n",
      "6     cucumber         2          8.0  vegetable\n",
      "7         fish         3          1.0        123\n",
      "8        grape         8          5.0      fruit\n",
      "9   green bean         3          7.0  vegetable\n",
      "10     lettuce        AA          9.0  vegetable\n",
      "11        nuts         3          6.0    protein\n",
      "12      orange         7          3.0      fruit\n",
      "13        pear        10          7.0      fruit\n",
      "14      shrimp         2          3.0    protein\n"
     ]
    }
   ],
   "source": [
    "df['Crunchiness']=df['Crunchiness'].astype('float')\n",
    "print(df)"
   ]
  },
  {
   "cell_type": "code",
   "execution_count": 19,
   "id": "d03e474c",
   "metadata": {},
   "outputs": [
    {
     "name": "stdout",
     "output_type": "stream",
     "text": [
      "    Ingredient Sweetness  Crunchiness   FoodType\n",
      "0        apple        10          9.0      fruit\n",
      "1        bacon         1          4.0    protein\n",
      "2       banana        10          1.0      fruit\n",
      "3       carrot         7         10.0  vegetable\n",
      "5       cheese         1          1.0    protein\n",
      "6     cucumber         2          8.0  vegetable\n",
      "7         fish         3          1.0        123\n",
      "8        grape         8          5.0      fruit\n",
      "9   green bean         3          7.0  vegetable\n",
      "10     lettuce        AA          9.0  vegetable\n",
      "11        nuts         3          6.0    protein\n",
      "12      orange         7          3.0      fruit\n",
      "13        pear        10          7.0      fruit\n",
      "14      shrimp         2          3.0    protein\n"
     ]
    }
   ],
   "source": [
    "df.dropna(inplace=True)\n",
    "print(df)"
   ]
  },
  {
   "cell_type": "code",
   "execution_count": 24,
   "id": "d842b685",
   "metadata": {},
   "outputs": [
    {
     "name": "stdout",
     "output_type": "stream",
     "text": [
      "<class 'pandas.core.frame.DataFrame'>\n",
      "    Ingredient  Sweetness  Crunchiness   FoodType\n",
      "0        apple       10.0            9      fruit\n",
      "1        bacon        1.0            4    protein\n",
      "2       banana       10.0            1      fruit\n",
      "3       carrot        7.0           10  vegetable\n",
      "4       celery        NaN           10  vegetable\n",
      "5       cheese        1.0            1    protein\n",
      "6     cucumber        2.0            8  vegetable\n",
      "7         fish        3.0            1        123\n",
      "8        grape        8.0            5      fruit\n",
      "9   green bean        3.0            7  vegetable\n",
      "10     lettuce        8.0            9  vegetable\n",
      "11        nuts        3.0            6    protein\n",
      "12      orange        7.0            3      fruit\n",
      "13        pear       10.0            7      fruit\n",
      "14      shrimp        2.0            3    protein\n",
      "15      shrimp        2.0            3    protein\n",
      "16      banana       10.0            1      fruit\n"
     ]
    }
   ],
   "source": [
    "import pandas as pd\n",
    "df=pd.read_csv('food_cleaning.csv')\n",
    "print(type(df))\n",
    "print(df)"
   ]
  },
  {
   "cell_type": "code",
   "execution_count": 28,
   "id": "0fdb460c",
   "metadata": {},
   "outputs": [
    {
     "name": "stdout",
     "output_type": "stream",
     "text": [
      "    Ingredient  Sweetness  Crunchiness   FoodType\n",
      "0        apple       10.0            9      fruit\n",
      "1        bacon        1.0            4    protein\n",
      "2       banana       10.0            1      fruit\n",
      "3       carrot        7.0           10  vegetable\n",
      "4       celery        3.0           10  vegetable\n",
      "5       cheese        1.0            1    protein\n",
      "6     cucumber        2.0            8  vegetable\n",
      "7         fish        3.0            1        123\n",
      "8        grape        8.0            5      fruit\n",
      "9   green bean        3.0            7  vegetable\n",
      "10     lettuce        8.0            9  vegetable\n",
      "11        nuts        3.0            6    protein\n",
      "12      orange        7.0            3      fruit\n",
      "13        pear       10.0            7      fruit\n",
      "14      shrimp        2.0            3    protein\n",
      "15      shrimp        2.0            3    protein\n",
      "16      banana       10.0            1      fruit\n"
     ]
    }
   ],
   "source": [
    "df['Sweetness'].fillna(3,inplace=True)\n",
    "print(df)"
   ]
  },
  {
   "cell_type": "code",
   "execution_count": null,
   "id": "dacef643",
   "metadata": {},
   "outputs": [],
   "source": []
  }
 ],
 "metadata": {
  "kernelspec": {
   "display_name": "Python 3 (ipykernel)",
   "language": "python",
   "name": "python3"
  },
  "language_info": {
   "codemirror_mode": {
    "name": "ipython",
    "version": 3
   },
   "file_extension": ".py",
   "mimetype": "text/x-python",
   "name": "python",
   "nbconvert_exporter": "python",
   "pygments_lexer": "ipython3",
   "version": "3.9.7"
  }
 },
 "nbformat": 4,
 "nbformat_minor": 5
}
