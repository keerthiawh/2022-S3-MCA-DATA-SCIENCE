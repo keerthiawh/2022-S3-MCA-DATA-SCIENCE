{
 "cells": [
  {
   "cell_type": "code",
   "execution_count": 5,
   "id": "23181bb0",
   "metadata": {},
   "outputs": [],
   "source": [
    "import pandas as pd\n",
    "from sklearn.metrics import accuracy_score,confusion_matrix,ConfusionMatrixDisplay\n",
    "from sklearn.naive_bayes import GaussianNB\n",
    "from sklearn.preprocessing import LabelEncoder\n",
    "from sklearn.model_selection import train_test_split\n",
    "import matplotlib.pyplot as plt\n",
    "from sklearn import datasets"
   ]
  },
  {
   "cell_type": "code",
   "execution_count": 9,
   "id": "ac9587ef",
   "metadata": {},
   "outputs": [],
   "source": [
    "iris=datasets.load_iris()"
   ]
  },
  {
   "cell_type": "code",
   "execution_count": 10,
   "id": "44ed7dd5",
   "metadata": {},
   "outputs": [],
   "source": [
    "x=iris.data"
   ]
  },
  {
   "cell_type": "code",
   "execution_count": 11,
   "id": "41401959",
   "metadata": {},
   "outputs": [],
   "source": [
    "y=iris.target"
   ]
  },
  {
   "cell_type": "code",
   "execution_count": 13,
   "id": "31cf35f6",
   "metadata": {},
   "outputs": [
    {
     "name": "stdout",
     "output_type": "stream",
     "text": [
      ".. _iris_dataset:\n",
      "\n",
      "Iris plants dataset\n",
      "--------------------\n",
      "\n",
      "**Data Set Characteristics:**\n",
      "\n",
      "    :Number of Instances: 150 (50 in each of three classes)\n",
      "    :Number of Attributes: 4 numeric, predictive attributes and the class\n",
      "    :Attribute Information:\n",
      "        - sepal length in cm\n",
      "        - sepal width in cm\n",
      "        - petal length in cm\n",
      "        - petal width in cm\n",
      "        - class:\n",
      "                - Iris-Setosa\n",
      "                - Iris-Versicolour\n",
      "                - Iris-Virginica\n",
      "                \n",
      "    :Summary Statistics:\n",
      "\n",
      "    ============== ==== ==== ======= ===== ====================\n",
      "                    Min  Max   Mean    SD   Class Correlation\n",
      "    ============== ==== ==== ======= ===== ====================\n",
      "    sepal length:   4.3  7.9   5.84   0.83    0.7826\n",
      "    sepal width:    2.0  4.4   3.05   0.43   -0.4194\n",
      "    petal length:   1.0  6.9   3.76   1.76    0.9490  (high!)\n",
      "    petal width:    0.1  2.5   1.20   0.76    0.9565  (high!)\n",
      "    ============== ==== ==== ======= ===== ====================\n",
      "\n",
      "    :Missing Attribute Values: None\n",
      "    :Class Distribution: 33.3% for each of 3 classes.\n",
      "    :Creator: R.A. Fisher\n",
      "    :Donor: Michael Marshall (MARSHALL%PLU@io.arc.nasa.gov)\n",
      "    :Date: July, 1988\n",
      "\n",
      "The famous Iris database, first used by Sir R.A. Fisher. The dataset is taken\n",
      "from Fisher's paper. Note that it's the same as in R, but not as in the UCI\n",
      "Machine Learning Repository, which has two wrong data points.\n",
      "\n",
      "This is perhaps the best known database to be found in the\n",
      "pattern recognition literature.  Fisher's paper is a classic in the field and\n",
      "is referenced frequently to this day.  (See Duda & Hart, for example.)  The\n",
      "data set contains 3 classes of 50 instances each, where each class refers to a\n",
      "type of iris plant.  One class is linearly separable from the other 2; the\n",
      "latter are NOT linearly separable from each other.\n",
      "\n",
      ".. topic:: References\n",
      "\n",
      "   - Fisher, R.A. \"The use of multiple measurements in taxonomic problems\"\n",
      "     Annual Eugenics, 7, Part II, 179-188 (1936); also in \"Contributions to\n",
      "     Mathematical Statistics\" (John Wiley, NY, 1950).\n",
      "   - Duda, R.O., & Hart, P.E. (1973) Pattern Classification and Scene Analysis.\n",
      "     (Q327.D83) John Wiley & Sons.  ISBN 0-471-22361-1.  See page 218.\n",
      "   - Dasarathy, B.V. (1980) \"Nosing Around the Neighborhood: A New System\n",
      "     Structure and Classification Rule for Recognition in Partially Exposed\n",
      "     Environments\".  IEEE Transactions on Pattern Analysis and Machine\n",
      "     Intelligence, Vol. PAMI-2, No. 1, 67-71.\n",
      "   - Gates, G.W. (1972) \"The Reduced Nearest Neighbor Rule\".  IEEE Transactions\n",
      "     on Information Theory, May 1972, 431-433.\n",
      "   - See also: 1988 MLC Proceedings, 54-64.  Cheeseman et al\"s AUTOCLASS II\n",
      "     conceptual clustering system finds 3 classes in the data.\n",
      "   - Many, many more ...\n"
     ]
    }
   ],
   "source": [
    "print(iris.DESCR)"
   ]
  },
  {
   "cell_type": "code",
   "execution_count": 14,
   "id": "d4f53c2d",
   "metadata": {},
   "outputs": [
    {
     "name": "stdout",
     "output_type": "stream",
     "text": [
      "['sepal length (cm)', 'sepal width (cm)', 'petal length (cm)', 'petal width (cm)']\n"
     ]
    }
   ],
   "source": [
    "print(iris.feature_names)"
   ]
  },
  {
   "cell_type": "code",
   "execution_count": 15,
   "id": "b117f6e4",
   "metadata": {},
   "outputs": [
    {
     "name": "stdout",
     "output_type": "stream",
     "text": [
      "['setosa' 'versicolor' 'virginica']\n"
     ]
    }
   ],
   "source": [
    "print(iris.target_names)"
   ]
  },
  {
   "cell_type": "code",
   "execution_count": 18,
   "id": "6441f48f",
   "metadata": {},
   "outputs": [],
   "source": [
    "x_train,x_test,y_train,y_test=train_test_split(x,y,test_size=.25,random_state=4)"
   ]
  },
  {
   "cell_type": "code",
   "execution_count": 23,
   "id": "f2265f9e",
   "metadata": {},
   "outputs": [
    {
     "name": "stdout",
     "output_type": "stream",
     "text": [
      "y_test\n",
      " [2 0 2 2 2 1 1 0 0 2 0 0 0 1 2 0 1 0 0 2 0 2 1 0 0 0 0 0 0 2 1 0 2 0 1 2 2\n",
      " 1]\n",
      "y_predict\n",
      " [2 0 2 2 2 1 1 0 0 1 0 0 0 1 2 0 1 0 0 2 0 2 1 0 0 0 0 0 0 2 1 0 2 0 1 2 2\n",
      " 1]\n"
     ]
    }
   ],
   "source": [
    "Nb=GaussianNB()\n",
    "Nb.fit(x_train,y_train)\n",
    "y_predict=Nb.predict(x_test)\n",
    "print(\"y_test\\n\",y_test)\n",
    "print(\"y_predict\\n\",y_predict)"
   ]
  },
  {
   "cell_type": "code",
   "execution_count": 24,
   "id": "6a73039d",
   "metadata": {},
   "outputs": [
    {
     "name": "stdout",
     "output_type": "stream",
     "text": [
      "[[3.66233091e-211 6.23544012e-006 9.99993765e-001]\n",
      " [1.00000000e+000 7.18499096e-016 6.21620187e-021]\n",
      " [2.59528935e-244 5.73046875e-007 9.99999427e-001]\n",
      " [2.15825126e-299 6.99062225e-011 1.00000000e+000]\n",
      " [2.76793699e-254 7.92619292e-007 9.99999207e-001]\n",
      " [1.46242551e-109 9.89739722e-001 1.02602781e-002]\n",
      " [1.33983795e-148 6.36174518e-001 3.63825482e-001]\n",
      " [1.00000000e+000 7.31770622e-021 5.52287329e-025]\n",
      " [1.00000000e+000 1.33399045e-015 9.01972040e-021]\n",
      " [1.91326902e-145 7.64478930e-001 2.35521070e-001]\n",
      " [1.00000000e+000 4.21275253e-017 3.26876866e-023]\n",
      " [1.00000000e+000 1.27858342e-018 3.26622344e-024]\n",
      " [1.00000000e+000 6.46674106e-020 1.33117968e-025]\n",
      " [6.09174615e-117 9.90009829e-001 9.99017115e-003]\n",
      " [4.20990443e-162 7.73590132e-003 9.92264099e-001]\n",
      " [1.00000000e+000 2.48186016e-018 2.69272274e-024]\n",
      " [1.79823442e-046 9.99999140e-001 8.59748483e-007]\n",
      " [1.00000000e+000 5.22906866e-020 9.79771820e-026]\n",
      " [1.00000000e+000 2.41986407e-015 5.47249133e-021]\n",
      " [3.82926790e-147 1.37489221e-001 8.62510779e-001]\n",
      " [1.00000000e+000 6.28871970e-020 1.25328299e-025]\n",
      " [2.49338314e-219 4.69803301e-007 9.99999530e-001]\n",
      " [8.69326495e-112 9.93649700e-001 6.35030039e-003]\n",
      " [1.00000000e+000 1.65280723e-015 1.35784206e-021]\n",
      " [1.00000000e+000 4.26814340e-018 6.00856124e-024]\n",
      " [1.00000000e+000 4.26123788e-019 3.01208614e-024]\n",
      " [1.00000000e+000 9.49574846e-017 2.36184761e-023]\n",
      " [1.00000000e+000 1.87360584e-018 1.78831850e-023]\n",
      " [1.00000000e+000 1.51224906e-016 3.93465313e-022]\n",
      " [8.41407511e-163 1.96652883e-002 9.80334712e-001]\n",
      " [1.97730260e-107 9.92936481e-001 7.06351869e-003]\n",
      " [1.00000000e+000 1.27806708e-019 2.25257693e-025]\n",
      " [4.77219183e-211 3.40727434e-004 9.99659273e-001]\n",
      " [1.00000000e+000 1.09658468e-018 1.01994286e-024]\n",
      " [7.61694759e-039 9.99999480e-001 5.20403113e-007]\n",
      " [5.78592947e-246 3.42430671e-011 1.00000000e+000]\n",
      " [1.05503467e-228 5.09522507e-006 9.99994905e-001]\n",
      " [2.80865523e-074 9.99968722e-001 3.12780860e-005]]\n"
     ]
    }
   ],
   "source": [
    "print(Nb.predict_proba(x_test))"
   ]
  },
  {
   "cell_type": "code",
   "execution_count": 25,
   "id": "22da3167",
   "metadata": {},
   "outputs": [
    {
     "name": "stdout",
     "output_type": "stream",
     "text": [
      "37\n"
     ]
    }
   ],
   "source": [
    "print(accuracy_score(y_test,y_predict,normalize=False))"
   ]
  },
  {
   "cell_type": "code",
   "execution_count": 26,
   "id": "24d1bb52",
   "metadata": {},
   "outputs": [
    {
     "name": "stdout",
     "output_type": "stream",
     "text": [
      "[[18  0  0]\n",
      " [ 0  8  0]\n",
      " [ 0  1 11]]\n"
     ]
    }
   ],
   "source": [
    "cm=confusion_matrix(y_test,y_predict,normalize=None,labels=Nb.classes_)\n",
    "print(cm)"
   ]
  },
  {
   "cell_type": "code",
   "execution_count": 27,
   "id": "19602274",
   "metadata": {},
   "outputs": [
    {
     "data": {
      "text/plain": [
       "<sklearn.metrics._plot.confusion_matrix.ConfusionMatrixDisplay at 0x2ced0024370>"
      ]
     },
     "execution_count": 27,
     "metadata": {},
     "output_type": "execute_result"
    },
    {
     "data": {
      "image/png": "[encoded data removed]",
      "text/plain": [
       "<Figure size 432x288 with 2 Axes>"
      ]
     },
     "metadata": {
      "needs_background": "light"
     },
     "output_type": "display_data"
    }
   ],
   "source": [
    "cm_dis=ConfusionMatrixDisplay(confusion_matrix=cm,display_labels=Nb.classes_)\n",
    "cm_dis.plot()"
   ]
  },
  {
   "cell_type": "code",
   "execution_count": null,
   "id": "28cb5470",
   "metadata": {},
   "outputs": [],
   "source": []
  }
 ],
 "metadata": {
  "kernelspec": {
   "display_name": "Python 3 (ipykernel)",
   "language": "python",
   "name": "python3"
  },
  "language_info": {
   "codemirror_mode": {
    "name": "ipython",
    "version": 3
   },
   "file_extension": ".py",
   "mimetype": "text/x-python",
   "name": "python",
   "nbconvert_exporter": "python",
   "pygments_lexer": "ipython3",
   "version": "3.9.7"
  }
 },
 "nbformat": 4,
 "nbformat_minor": 5
}
