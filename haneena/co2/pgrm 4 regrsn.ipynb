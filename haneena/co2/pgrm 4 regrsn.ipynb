{
 "cells": [
  {
   "cell_type": "code",
   "execution_count": 38,
   "id": "f9e15afa",
   "metadata": {},
   "outputs": [],
   "source": [
    "from sklearn.linear_model import LinearRegression\n",
    "from sklearn.metrics import mean_squared_error,r2_score\n",
    "from sklearn.model_selection import train_test_split\n",
    "from sklearn.preprocessing import LabelEncoder\n",
    "import matplotlib.pyplot as plt\n",
    "\n"
   ]
  },
  {
   "cell_type": "code",
   "execution_count": 47,
   "id": "cf6562df",
   "metadata": {},
   "outputs": [
    {
     "name": "stdout",
     "output_type": "stream",
     "text": [
      "[0 0 0 0 0 0 0 0 0 0 0 0 0 0 0 0 0 0 0 0 0 0 0 0 0 0 0 0 0 0 0 0 0 0 0 0 0\n",
      " 0 0 0 0 0 0 0 0 0 0 0 0 0 1 1 1 1 1 1 1 1 1 1 1 1 1 1 1 1 1 1 1 1 1 1 1 1\n",
      " 1 1 1 1 1 1 1 1 1 1 1 1 1 1 1 1 1 1 1 1 1 1 1 1 1 1 2 2 2 2 2 2 2 2 2 2 2\n",
      " 2 2 2 2 2 2 2 2 2 2 2 2 2 2 2 2 2 2 2 2 2 2 2 2 2 2 2 2 2 2 2 2 2 2 2 2 2\n",
      " 2 2]\n"
     ]
    }
   ],
   "source": [
    "import pandas as pd\n",
    "from sklearn import datasets\n",
    "iris=datasets.load_iris()\n",
    "x_value=iris.data[:,0]\n",
    "y=iris.target\n",
    "print(y)\n"
   ]
  },
  {
   "cell_type": "code",
   "execution_count": 40,
   "id": "bc83f842",
   "metadata": {},
   "outputs": [
    {
     "name": "stdout",
     "output_type": "stream",
     "text": [
      ".. _iris_dataset:\n",
      "\n",
      "Iris plants dataset\n",
      "--------------------\n",
      "\n",
      "**Data Set Characteristics:**\n",
      "\n",
      "    :Number of Instances: 150 (50 in each of three classes)\n",
      "    :Number of Attributes: 4 numeric, predictive attributes and the class\n",
      "    :Attribute Information:\n",
      "        - sepal length in cm\n",
      "        - sepal width in cm\n",
      "        - petal length in cm\n",
      "        - petal width in cm\n",
      "        - class:\n",
      "                - Iris-Setosa\n",
      "                - Iris-Versicolour\n",
      "                - Iris-Virginica\n",
      "                \n",
      "    :Summary Statistics:\n",
      "\n",
      "    ============== ==== ==== ======= ===== ====================\n",
      "                    Min  Max   Mean    SD   Class Correlation\n",
      "    ============== ==== ==== ======= ===== ====================\n",
      "    sepal length:   4.3  7.9   5.84   0.83    0.7826\n",
      "    sepal width:    2.0  4.4   3.05   0.43   -0.4194\n",
      "    petal length:   1.0  6.9   3.76   1.76    0.9490  (high!)\n",
      "    petal width:    0.1  2.5   1.20   0.76    0.9565  (high!)\n",
      "    ============== ==== ==== ======= ===== ====================\n",
      "\n",
      "    :Missing Attribute Values: None\n",
      "    :Class Distribution: 33.3% for each of 3 classes.\n",
      "    :Creator: R.A. Fisher\n",
      "    :Donor: Michael Marshall (MARSHALL%PLU@io.arc.nasa.gov)\n",
      "    :Date: July, 1988\n",
      "\n",
      "The famous Iris database, first used by Sir R.A. Fisher. The dataset is taken\n",
      "from Fisher's paper. Note that it's the same as in R, but not as in the UCI\n",
      "Machine Learning Repository, which has two wrong data points.\n",
      "\n",
      "This is perhaps the best known database to be found in the\n",
      "pattern recognition literature.  Fisher's paper is a classic in the field and\n",
      "is referenced frequently to this day.  (See Duda & Hart, for example.)  The\n",
      "data set contains 3 classes of 50 instances each, where each class refers to a\n",
      "type of iris plant.  One class is linearly separable from the other 2; the\n",
      "latter are NOT linearly separable from each other.\n",
      "\n",
      ".. topic:: References\n",
      "\n",
      "   - Fisher, R.A. \"The use of multiple measurements in taxonomic problems\"\n",
      "     Annual Eugenics, 7, Part II, 179-188 (1936); also in \"Contributions to\n",
      "     Mathematical Statistics\" (John Wiley, NY, 1950).\n",
      "   - Duda, R.O., & Hart, P.E. (1973) Pattern Classification and Scene Analysis.\n",
      "     (Q327.D83) John Wiley & Sons.  ISBN 0-471-22361-1.  See page 218.\n",
      "   - Dasarathy, B.V. (1980) \"Nosing Around the Neighborhood: A New System\n",
      "     Structure and Classification Rule for Recognition in Partially Exposed\n",
      "     Environments\".  IEEE Transactions on Pattern Analysis and Machine\n",
      "     Intelligence, Vol. PAMI-2, No. 1, 67-71.\n",
      "   - Gates, G.W. (1972) \"The Reduced Nearest Neighbor Rule\".  IEEE Transactions\n",
      "     on Information Theory, May 1972, 431-433.\n",
      "   - See also: 1988 MLC Proceedings, 54-64.  Cheeseman et al\"s AUTOCLASS II\n",
      "     conceptual clustering system finds 3 classes in the data.\n",
      "   - Many, many more ...\n"
     ]
    }
   ],
   "source": [
    "print(iris.DESCR)"
   ]
  },
  {
   "cell_type": "code",
   "execution_count": 41,
   "id": "66229945",
   "metadata": {},
   "outputs": [
    {
     "name": "stdout",
     "output_type": "stream",
     "text": [
      "['sepal length (cm)', 'sepal width (cm)', 'petal length (cm)', 'petal width (cm)']\n"
     ]
    }
   ],
   "source": [
    "print(iris.feature_names)"
   ]
  },
  {
   "cell_type": "code",
   "execution_count": 42,
   "id": "a4fe4f5a",
   "metadata": {},
   "outputs": [
    {
     "name": "stdout",
     "output_type": "stream",
     "text": [
      "['setosa' 'versicolor' 'virginica']\n"
     ]
    }
   ],
   "source": [
    "print(iris.target_names)"
   ]
  },
  {
   "cell_type": "code",
   "execution_count": 43,
   "id": "1b5a0977",
   "metadata": {},
   "outputs": [
    {
     "name": "stdout",
     "output_type": "stream",
     "text": [
      "(150, 1)\n",
      "[[5.1]\n",
      " [4.9]\n",
      " [4.7]\n",
      " [4.6]\n",
      " [5. ]\n",
      " [5.4]\n",
      " [4.6]\n",
      " [5. ]\n",
      " [4.4]\n",
      " [4.9]\n",
      " [5.4]\n",
      " [4.8]\n",
      " [4.8]\n",
      " [4.3]\n",
      " [5.8]\n",
      " [5.7]\n",
      " [5.4]\n",
      " [5.1]\n",
      " [5.7]\n",
      " [5.1]\n",
      " [5.4]\n",
      " [5.1]\n",
      " [4.6]\n",
      " [5.1]\n",
      " [4.8]\n",
      " [5. ]\n",
      " [5. ]\n",
      " [5.2]\n",
      " [5.2]\n",
      " [4.7]\n",
      " [4.8]\n",
      " [5.4]\n",
      " [5.2]\n",
      " [5.5]\n",
      " [4.9]\n",
      " [5. ]\n",
      " [5.5]\n",
      " [4.9]\n",
      " [4.4]\n",
      " [5.1]\n",
      " [5. ]\n",
      " [4.5]\n",
      " [4.4]\n",
      " [5. ]\n",
      " [5.1]\n",
      " [4.8]\n",
      " [5.1]\n",
      " [4.6]\n",
      " [5.3]\n",
      " [5. ]\n",
      " [7. ]\n",
      " [6.4]\n",
      " [6.9]\n",
      " [5.5]\n",
      " [6.5]\n",
      " [5.7]\n",
      " [6.3]\n",
      " [4.9]\n",
      " [6.6]\n",
      " [5.2]\n",
      " [5. ]\n",
      " [5.9]\n",
      " [6. ]\n",
      " [6.1]\n",
      " [5.6]\n",
      " [6.7]\n",
      " [5.6]\n",
      " [5.8]\n",
      " [6.2]\n",
      " [5.6]\n",
      " [5.9]\n",
      " [6.1]\n",
      " [6.3]\n",
      " [6.1]\n",
      " [6.4]\n",
      " [6.6]\n",
      " [6.8]\n",
      " [6.7]\n",
      " [6. ]\n",
      " [5.7]\n",
      " [5.5]\n",
      " [5.5]\n",
      " [5.8]\n",
      " [6. ]\n",
      " [5.4]\n",
      " [6. ]\n",
      " [6.7]\n",
      " [6.3]\n",
      " [5.6]\n",
      " [5.5]\n",
      " [5.5]\n",
      " [6.1]\n",
      " [5.8]\n",
      " [5. ]\n",
      " [5.6]\n",
      " [5.7]\n",
      " [5.7]\n",
      " [6.2]\n",
      " [5.1]\n",
      " [5.7]\n",
      " [6.3]\n",
      " [5.8]\n",
      " [7.1]\n",
      " [6.3]\n",
      " [6.5]\n",
      " [7.6]\n",
      " [4.9]\n",
      " [7.3]\n",
      " [6.7]\n",
      " [7.2]\n",
      " [6.5]\n",
      " [6.4]\n",
      " [6.8]\n",
      " [5.7]\n",
      " [5.8]\n",
      " [6.4]\n",
      " [6.5]\n",
      " [7.7]\n",
      " [7.7]\n",
      " [6. ]\n",
      " [6.9]\n",
      " [5.6]\n",
      " [7.7]\n",
      " [6.3]\n",
      " [6.7]\n",
      " [7.2]\n",
      " [6.2]\n",
      " [6.1]\n",
      " [6.4]\n",
      " [7.2]\n",
      " [7.4]\n",
      " [7.9]\n",
      " [6.4]\n",
      " [6.3]\n",
      " [6.1]\n",
      " [7.7]\n",
      " [6.3]\n",
      " [6.4]\n",
      " [6. ]\n",
      " [6.9]\n",
      " [6.7]\n",
      " [6.9]\n",
      " [5.8]\n",
      " [6.8]\n",
      " [6.7]\n",
      " [6.7]\n",
      " [6.3]\n",
      " [6.5]\n",
      " [6.2]\n",
      " [5.9]]\n"
     ]
    }
   ],
   "source": [
    "print(x.shape)\n",
    "x=x_value.reshape(150,1)\n",
    "print(x)"
   ]
  },
  {
   "cell_type": "code",
   "execution_count": null,
   "id": "b7b8b02a",
   "metadata": {},
   "outputs": [],
   "source": [
    "#le=LabelEncoder()\n",
    "#y_new=le.fit_transform(y)\n",
    "#print(y_new)\n"
   ]
  },
  {
   "cell_type": "code",
   "execution_count": 53,
   "id": "4c6386cd",
   "metadata": {},
   "outputs": [
    {
     "name": "stdout",
     "output_type": "stream",
     "text": [
      "------x_train-----\n",
      "[[6.5]\n",
      " [6.7]\n",
      " [6.8]\n",
      " [5.1]\n",
      " [6. ]\n",
      " [6.3]\n",
      " [6.6]\n",
      " [7.7]\n",
      " [5.7]\n",
      " [5. ]\n",
      " [4.8]\n",
      " [5.2]\n",
      " [5.1]\n",
      " [5.5]\n",
      " [7.7]\n",
      " [6.9]\n",
      " [7.3]\n",
      " [6.4]\n",
      " [6.2]\n",
      " [6. ]\n",
      " [7.7]\n",
      " [5.7]\n",
      " [4.8]\n",
      " [5.7]\n",
      " [6.3]\n",
      " [4.8]\n",
      " [4.7]\n",
      " [6.5]\n",
      " [4.6]\n",
      " [6.1]\n",
      " [6.5]\n",
      " [6.7]\n",
      " [5.7]\n",
      " [6.7]\n",
      " [6. ]\n",
      " [5.1]\n",
      " [6. ]\n",
      " [6.4]\n",
      " [6.5]\n",
      " [5. ]\n",
      " [6.3]\n",
      " [5.5]\n",
      " [5.4]\n",
      " [4.9]\n",
      " [5.2]\n",
      " [6.7]\n",
      " [4.4]\n",
      " [6. ]\n",
      " [6.4]\n",
      " [5.9]\n",
      " [5.2]\n",
      " [5.1]\n",
      " [5.8]\n",
      " [4.9]\n",
      " [7.4]\n",
      " [6.2]\n",
      " [7.6]\n",
      " [6.7]\n",
      " [6.3]\n",
      " [6.2]\n",
      " [7.2]\n",
      " [5.6]\n",
      " [5.7]\n",
      " [5.8]\n",
      " [4.5]\n",
      " [5.5]\n",
      " [6.9]\n",
      " [5. ]\n",
      " [6.8]\n",
      " [5. ]\n",
      " [4.8]\n",
      " [6.3]\n",
      " [5.6]\n",
      " [6.8]\n",
      " [5. ]\n",
      " [5.1]\n",
      " [5.9]\n",
      " [4.6]\n",
      " [5.8]\n",
      " [4.8]\n",
      " [6.5]\n",
      " [4.9]\n",
      " [4.6]\n",
      " [6.4]\n",
      " [4.3]\n",
      " [5.6]\n",
      " [4.4]\n",
      " [5.5]\n",
      " [5. ]\n",
      " [5.1]\n",
      " [4.9]\n",
      " [4.9]\n",
      " [4.6]\n",
      " [5.9]\n",
      " [6.1]\n",
      " [5. ]\n",
      " [6.7]\n",
      " [5.7]\n",
      " [6.2]\n",
      " [7. ]\n",
      " [5.8]\n",
      " [5.4]\n",
      " [5. ]\n",
      " [6.1]\n",
      " [6.1]\n",
      " [7.2]\n",
      " [5.7]\n",
      " [6.3]\n",
      " [6.4]\n",
      " [6.3]\n",
      " [6.7]\n",
      " [4.9]]\n",
      "------x_test-----\n",
      "[[5.8]\n",
      " [5.1]\n",
      " [6.6]\n",
      " [5.4]\n",
      " [7.9]\n",
      " [6.3]\n",
      " [6.9]\n",
      " [5.1]\n",
      " [4.7]\n",
      " [6.9]\n",
      " [5.6]\n",
      " [5.4]\n",
      " [7.1]\n",
      " [6.4]\n",
      " [6. ]\n",
      " [4.4]\n",
      " [5.8]\n",
      " [5.6]\n",
      " [5.4]\n",
      " [5. ]\n",
      " [5.5]\n",
      " [5.4]\n",
      " [6.7]\n",
      " [5. ]\n",
      " [7.2]\n",
      " [5.7]\n",
      " [5.5]\n",
      " [5.1]\n",
      " [6.1]\n",
      " [6.3]\n",
      " [6.1]\n",
      " [7.7]\n",
      " [5.6]\n",
      " [6.4]\n",
      " [5.8]\n",
      " [5.3]\n",
      " [5.5]\n",
      " [5.2]]\n",
      "------y_train-----\n",
      "[1 2 2 0 2 2 1 2 0 0 0 1 0 0 2 2 2 2 2 1 2 1 0 2 2 0 0 2 0 2 2 1 1 2 2 0 1\n",
      " 1 2 1 2 1 0 0 0 2 0 1 2 2 0 0 1 0 2 1 2 2 1 2 2 1 0 1 0 1 1 0 1 0 0 2 2 2\n",
      " 0 0 1 0 2 0 2 2 0 2 0 1 0 1 1 0 0 1 0 1 1 0 1 1 1 1 2 0 0 2 1 2 1 2 2 1 2\n",
      " 0]\n",
      "------y_test-----\n",
      "[0 1 1 0 2 1 2 0 0 2 1 0 2 1 1 0 1 1 0 0 1 1 1 0 2 1 0 0 1 2 1 2 1 2 2 0 1\n",
      " 0]\n"
     ]
    }
   ],
   "source": [
    "\n",
    "x_train,x_test,y_train,y_test=train_test_split(x,y_new,test_size=.25,random_state=1)\n",
    "print(\"------x_train-----\")\n",
    "print(x_train)\n",
    "print(\"------x_test-----\")\n",
    "print(x_test)\n",
    "print(\"------y_train-----\")\n",
    "print(y_train)\n",
    "print(\"------y_test-----\")\n",
    "print(y_test)"
   ]
  },
  {
   "cell_type": "code",
   "execution_count": 54,
   "id": "72fe20b9",
   "metadata": {},
   "outputs": [
    {
     "name": "stdout",
     "output_type": "stream",
     "text": [
      "[0 1 1 0 2 1 2 0 0 2 1 0 2 1 1 0 1 1 0 0 1 1 1 0 2 1 0 0 1 2 1 2 1 2 2 0 1\n",
      " 0]\n",
      "[ 1.01195881  0.46418554  1.63798541  0.69894551  2.65527863  1.40322544\n",
      "  1.87274539  0.46418554  0.15117224  1.87274539  0.85545216  0.69894551\n",
      "  2.02925203  1.48147876  1.16846546 -0.08358774  1.01195881  0.85545216\n",
      "  0.69894551  0.38593221  0.77719884  0.69894551  1.71623874  0.38593221\n",
      "  2.10750536  0.93370549  0.77719884  0.46418554  1.24671879  1.40322544\n",
      "  1.24671879  2.49877198  0.85545216  1.48147876  1.01195881  0.62069219\n",
      "  0.77719884  0.54243886]\n"
     ]
    }
   ],
   "source": [
    "sl_reg=LinearRegression()\n",
    "sl_reg.fit(x_train,y_train)\n",
    "y_predict=sl_reg.predict(x_test)\n",
    "print(y_test)\n",
    "print(y_predict)\n"
   ]
  },
  {
   "cell_type": "code",
   "execution_count": 55,
   "id": "8d38a6e6",
   "metadata": {},
   "outputs": [
    {
     "name": "stdout",
     "output_type": "stream",
     "text": [
      "[0.78253325]\n",
      "-3.526734027755462\n"
     ]
    }
   ],
   "source": [
    "print(sl_reg.coef_)\n",
    "print(sl_reg.intercept_)"
   ]
  },
  {
   "cell_type": "code",
   "execution_count": 59,
   "id": "557f26ac",
   "metadata": {},
   "outputs": [
    {
     "data": {
      "text/plain": [
       "Text(0, 0.5, 'sepal length')"
      ]
     },
     "execution_count": 59,
     "metadata": {},
     "output_type": "execute_result"
    },
    {
     "data": {
      "image/png": "[encoded data removed]",
      "text/plain": [
       "<Figure size 432x288 with 1 Axes>"
      ]
     },
     "metadata": {
      "needs_background": "light"
     },
     "output_type": "display_data"
    }
   ],
   "source": [
    "plt.scatter(x_test,y_test,marker='*',color='red')\n",
    "plt.plot(x_test,y_predict,marker='.',color='yellow')\n",
    "plt.xlabel('test data ')\n",
    "plt.ylabel('sepal length')"
   ]
  },
  {
   "cell_type": "code",
   "execution_count": 60,
   "id": "7ffac899",
   "metadata": {},
   "outputs": [
    {
     "name": "stdout",
     "output_type": "stream",
     "text": [
      "0.23328468265180263\n"
     ]
    }
   ],
   "source": [
    "print( mean_squared_error(y_test,y_predict))"
   ]
  },
  {
   "cell_type": "code",
   "execution_count": 61,
   "id": "1fc87fe0",
   "metadata": {},
   "outputs": [
    {
     "name": "stdout",
     "output_type": "stream",
     "text": [
      "0.589191363720484\n"
     ]
    }
   ],
   "source": [
    "print(r2_score(y_test,y_predict))"
   ]
  },
  {
   "cell_type": "code",
   "execution_count": null,
   "id": "5e1d1fbc",
   "metadata": {},
   "outputs": [],
   "source": []
  }
 ],
 "metadata": {
  "kernelspec": {
   "display_name": "Python 3 (ipykernel)",
   "language": "python",
   "name": "python3"
  },
  "language_info": {
   "codemirror_mode": {
    "name": "ipython",
    "version": 3
   },
   "file_extension": ".py",
   "mimetype": "text/x-python",
   "name": "python",
   "nbconvert_exporter": "python",
   "pygments_lexer": "ipython3",
   "version": "3.9.7"
  }
 },
 "nbformat": 4,
 "nbformat_minor": 5
}
