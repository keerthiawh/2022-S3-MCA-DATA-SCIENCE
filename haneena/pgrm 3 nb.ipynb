{
 "cells": [
  {
   "cell_type": "code",
   "execution_count": 5,
   "id": "4cba5bd8",
   "metadata": {},
   "outputs": [],
   "source": [
    "from sklearn.naive_bayes import GaussianNB\n",
    "from sklearn.metrics import accuracy_score,confusion_matrix,ConfusionMatrixDisplay\n",
    "from sklearn.model_selection import train_test_split\n",
    "from sklearn.preprocessing import LabelEncoder\n",
    "import pandas as pd\n",
    "import matplotlib.pyplot as plt\n",
    "from sklearn import datasets\n"
   ]
  },
  {
   "cell_type": "code",
   "execution_count": 7,
   "id": "7dd30eaa",
   "metadata": {},
   "outputs": [
    {
     "name": "stdout",
     "output_type": "stream",
     "text": [
      "[[5.1 3.5 1.4 0.2]\n",
      " [4.9 3.  1.4 0.2]\n",
      " [4.7 3.2 1.3 0.2]\n",
      " [4.6 3.1 1.5 0.2]\n",
      " [5.  3.6 1.4 0.2]\n",
      " [5.4 3.9 1.7 0.4]\n",
      " [4.6 3.4 1.4 0.3]\n",
      " [5.  3.4 1.5 0.2]\n",
      " [4.4 2.9 1.4 0.2]\n",
      " [4.9 3.1 1.5 0.1]\n",
      " [5.4 3.7 1.5 0.2]\n",
      " [4.8 3.4 1.6 0.2]\n",
      " [4.8 3.  1.4 0.1]\n",
      " [4.3 3.  1.1 0.1]\n",
      " [5.8 4.  1.2 0.2]\n",
      " [5.7 4.4 1.5 0.4]\n",
      " [5.4 3.9 1.3 0.4]\n",
      " [5.1 3.5 1.4 0.3]\n",
      " [5.7 3.8 1.7 0.3]\n",
      " [5.1 3.8 1.5 0.3]\n",
      " [5.4 3.4 1.7 0.2]\n",
      " [5.1 3.7 1.5 0.4]\n",
      " [4.6 3.6 1.  0.2]\n",
      " [5.1 3.3 1.7 0.5]\n",
      " [4.8 3.4 1.9 0.2]\n",
      " [5.  3.  1.6 0.2]\n",
      " [5.  3.4 1.6 0.4]\n",
      " [5.2 3.5 1.5 0.2]\n",
      " [5.2 3.4 1.4 0.2]\n",
      " [4.7 3.2 1.6 0.2]\n",
      " [4.8 3.1 1.6 0.2]\n",
      " [5.4 3.4 1.5 0.4]\n",
      " [5.2 4.1 1.5 0.1]\n",
      " [5.5 4.2 1.4 0.2]\n",
      " [4.9 3.1 1.5 0.2]\n",
      " [5.  3.2 1.2 0.2]\n",
      " [5.5 3.5 1.3 0.2]\n",
      " [4.9 3.6 1.4 0.1]\n",
      " [4.4 3.  1.3 0.2]\n",
      " [5.1 3.4 1.5 0.2]\n",
      " [5.  3.5 1.3 0.3]\n",
      " [4.5 2.3 1.3 0.3]\n",
      " [4.4 3.2 1.3 0.2]\n",
      " [5.  3.5 1.6 0.6]\n",
      " [5.1 3.8 1.9 0.4]\n",
      " [4.8 3.  1.4 0.3]\n",
      " [5.1 3.8 1.6 0.2]\n",
      " [4.6 3.2 1.4 0.2]\n",
      " [5.3 3.7 1.5 0.2]\n",
      " [5.  3.3 1.4 0.2]\n",
      " [7.  3.2 4.7 1.4]\n",
      " [6.4 3.2 4.5 1.5]\n",
      " [6.9 3.1 4.9 1.5]\n",
      " [5.5 2.3 4.  1.3]\n",
      " [6.5 2.8 4.6 1.5]\n",
      " [5.7 2.8 4.5 1.3]\n",
      " [6.3 3.3 4.7 1.6]\n",
      " [4.9 2.4 3.3 1. ]\n",
      " [6.6 2.9 4.6 1.3]\n",
      " [5.2 2.7 3.9 1.4]\n",
      " [5.  2.  3.5 1. ]\n",
      " [5.9 3.  4.2 1.5]\n",
      " [6.  2.2 4.  1. ]\n",
      " [6.1 2.9 4.7 1.4]\n",
      " [5.6 2.9 3.6 1.3]\n",
      " [6.7 3.1 4.4 1.4]\n",
      " [5.6 3.  4.5 1.5]\n",
      " [5.8 2.7 4.1 1. ]\n",
      " [6.2 2.2 4.5 1.5]\n",
      " [5.6 2.5 3.9 1.1]\n",
      " [5.9 3.2 4.8 1.8]\n",
      " [6.1 2.8 4.  1.3]\n",
      " [6.3 2.5 4.9 1.5]\n",
      " [6.1 2.8 4.7 1.2]\n",
      " [6.4 2.9 4.3 1.3]\n",
      " [6.6 3.  4.4 1.4]\n",
      " [6.8 2.8 4.8 1.4]\n",
      " [6.7 3.  5.  1.7]\n",
      " [6.  2.9 4.5 1.5]\n",
      " [5.7 2.6 3.5 1. ]\n",
      " [5.5 2.4 3.8 1.1]\n",
      " [5.5 2.4 3.7 1. ]\n",
      " [5.8 2.7 3.9 1.2]\n",
      " [6.  2.7 5.1 1.6]\n",
      " [5.4 3.  4.5 1.5]\n",
      " [6.  3.4 4.5 1.6]\n",
      " [6.7 3.1 4.7 1.5]\n",
      " [6.3 2.3 4.4 1.3]\n",
      " [5.6 3.  4.1 1.3]\n",
      " [5.5 2.5 4.  1.3]\n",
      " [5.5 2.6 4.4 1.2]\n",
      " [6.1 3.  4.6 1.4]\n",
      " [5.8 2.6 4.  1.2]\n",
      " [5.  2.3 3.3 1. ]\n",
      " [5.6 2.7 4.2 1.3]\n",
      " [5.7 3.  4.2 1.2]\n",
      " [5.7 2.9 4.2 1.3]\n",
      " [6.2 2.9 4.3 1.3]\n",
      " [5.1 2.5 3.  1.1]\n",
      " [5.7 2.8 4.1 1.3]\n",
      " [6.3 3.3 6.  2.5]\n",
      " [5.8 2.7 5.1 1.9]\n",
      " [7.1 3.  5.9 2.1]\n",
      " [6.3 2.9 5.6 1.8]\n",
      " [6.5 3.  5.8 2.2]\n",
      " [7.6 3.  6.6 2.1]\n",
      " [4.9 2.5 4.5 1.7]\n",
      " [7.3 2.9 6.3 1.8]\n",
      " [6.7 2.5 5.8 1.8]\n",
      " [7.2 3.6 6.1 2.5]\n",
      " [6.5 3.2 5.1 2. ]\n",
      " [6.4 2.7 5.3 1.9]\n",
      " [6.8 3.  5.5 2.1]\n",
      " [5.7 2.5 5.  2. ]\n",
      " [5.8 2.8 5.1 2.4]\n",
      " [6.4 3.2 5.3 2.3]\n",
      " [6.5 3.  5.5 1.8]\n",
      " [7.7 3.8 6.7 2.2]\n",
      " [7.7 2.6 6.9 2.3]\n",
      " [6.  2.2 5.  1.5]\n",
      " [6.9 3.2 5.7 2.3]\n",
      " [5.6 2.8 4.9 2. ]\n",
      " [7.7 2.8 6.7 2. ]\n",
      " [6.3 2.7 4.9 1.8]\n",
      " [6.7 3.3 5.7 2.1]\n",
      " [7.2 3.2 6.  1.8]\n",
      " [6.2 2.8 4.8 1.8]\n",
      " [6.1 3.  4.9 1.8]\n",
      " [6.4 2.8 5.6 2.1]\n",
      " [7.2 3.  5.8 1.6]\n",
      " [7.4 2.8 6.1 1.9]\n",
      " [7.9 3.8 6.4 2. ]\n",
      " [6.4 2.8 5.6 2.2]\n",
      " [6.3 2.8 5.1 1.5]\n",
      " [6.1 2.6 5.6 1.4]\n",
      " [7.7 3.  6.1 2.3]\n",
      " [6.3 3.4 5.6 2.4]\n",
      " [6.4 3.1 5.5 1.8]\n",
      " [6.  3.  4.8 1.8]\n",
      " [6.9 3.1 5.4 2.1]\n",
      " [6.7 3.1 5.6 2.4]\n",
      " [6.9 3.1 5.1 2.3]\n",
      " [5.8 2.7 5.1 1.9]\n",
      " [6.8 3.2 5.9 2.3]\n",
      " [6.7 3.3 5.7 2.5]\n",
      " [6.7 3.  5.2 2.3]\n",
      " [6.3 2.5 5.  1.9]\n",
      " [6.5 3.  5.2 2. ]\n",
      " [6.2 3.4 5.4 2.3]\n",
      " [5.9 3.  5.1 1.8]]\n",
      "[0 0 0 0 0 0 0 0 0 0 0 0 0 0 0 0 0 0 0 0 0 0 0 0 0 0 0 0 0 0 0 0 0 0 0 0 0\n",
      " 0 0 0 0 0 0 0 0 0 0 0 0 0 1 1 1 1 1 1 1 1 1 1 1 1 1 1 1 1 1 1 1 1 1 1 1 1\n",
      " 1 1 1 1 1 1 1 1 1 1 1 1 1 1 1 1 1 1 1 1 1 1 1 1 1 1 2 2 2 2 2 2 2 2 2 2 2\n",
      " 2 2 2 2 2 2 2 2 2 2 2 2 2 2 2 2 2 2 2 2 2 2 2 2 2 2 2 2 2 2 2 2 2 2 2 2 2\n",
      " 2 2]\n"
     ]
    }
   ],
   "source": [
    "iris=datasets.load_iris()\n",
    "x=iris.data\n",
    "print(x)\n",
    "y=iris.target\n",
    "print(y)"
   ]
  },
  {
   "cell_type": "code",
   "execution_count": 8,
   "id": "3ee12cfd",
   "metadata": {},
   "outputs": [
    {
     "name": "stdout",
     "output_type": "stream",
     "text": [
      "['sepal length (cm)', 'sepal width (cm)', 'petal length (cm)', 'petal width (cm)']\n"
     ]
    }
   ],
   "source": [
    "print(iris.feature_names)"
   ]
  },
  {
   "cell_type": "code",
   "execution_count": 9,
   "id": "bfad11e5",
   "metadata": {},
   "outputs": [
    {
     "name": "stdout",
     "output_type": "stream",
     "text": [
      "['setosa' 'versicolor' 'virginica']\n"
     ]
    }
   ],
   "source": [
    "print(iris.target_names)"
   ]
  },
  {
   "cell_type": "code",
   "execution_count": 10,
   "id": "d0fbeaad",
   "metadata": {},
   "outputs": [
    {
     "name": "stdout",
     "output_type": "stream",
     "text": [
      ".. _iris_dataset:\n",
      "\n",
      "Iris plants dataset\n",
      "--------------------\n",
      "\n",
      "**Data Set Characteristics:**\n",
      "\n",
      "    :Number of Instances: 150 (50 in each of three classes)\n",
      "    :Number of Attributes: 4 numeric, predictive attributes and the class\n",
      "    :Attribute Information:\n",
      "        - sepal length in cm\n",
      "        - sepal width in cm\n",
      "        - petal length in cm\n",
      "        - petal width in cm\n",
      "        - class:\n",
      "                - Iris-Setosa\n",
      "                - Iris-Versicolour\n",
      "                - Iris-Virginica\n",
      "                \n",
      "    :Summary Statistics:\n",
      "\n",
      "    ============== ==== ==== ======= ===== ====================\n",
      "                    Min  Max   Mean    SD   Class Correlation\n",
      "    ============== ==== ==== ======= ===== ====================\n",
      "    sepal length:   4.3  7.9   5.84   0.83    0.7826\n",
      "    sepal width:    2.0  4.4   3.05   0.43   -0.4194\n",
      "    petal length:   1.0  6.9   3.76   1.76    0.9490  (high!)\n",
      "    petal width:    0.1  2.5   1.20   0.76    0.9565  (high!)\n",
      "    ============== ==== ==== ======= ===== ====================\n",
      "\n",
      "    :Missing Attribute Values: None\n",
      "    :Class Distribution: 33.3% for each of 3 classes.\n",
      "    :Creator: R.A. Fisher\n",
      "    :Donor: Michael Marshall (MARSHALL%PLU@io.arc.nasa.gov)\n",
      "    :Date: July, 1988\n",
      "\n",
      "The famous Iris database, first used by Sir R.A. Fisher. The dataset is taken\n",
      "from Fisher's paper. Note that it's the same as in R, but not as in the UCI\n",
      "Machine Learning Repository, which has two wrong data points.\n",
      "\n",
      "This is perhaps the best known database to be found in the\n",
      "pattern recognition literature.  Fisher's paper is a classic in the field and\n",
      "is referenced frequently to this day.  (See Duda & Hart, for example.)  The\n",
      "data set contains 3 classes of 50 instances each, where each class refers to a\n",
      "type of iris plant.  One class is linearly separable from the other 2; the\n",
      "latter are NOT linearly separable from each other.\n",
      "\n",
      ".. topic:: References\n",
      "\n",
      "   - Fisher, R.A. \"The use of multiple measurements in taxonomic problems\"\n",
      "     Annual Eugenics, 7, Part II, 179-188 (1936); also in \"Contributions to\n",
      "     Mathematical Statistics\" (John Wiley, NY, 1950).\n",
      "   - Duda, R.O., & Hart, P.E. (1973) Pattern Classification and Scene Analysis.\n",
      "     (Q327.D83) John Wiley & Sons.  ISBN 0-471-22361-1.  See page 218.\n",
      "   - Dasarathy, B.V. (1980) \"Nosing Around the Neighborhood: A New System\n",
      "     Structure and Classification Rule for Recognition in Partially Exposed\n",
      "     Environments\".  IEEE Transactions on Pattern Analysis and Machine\n",
      "     Intelligence, Vol. PAMI-2, No. 1, 67-71.\n",
      "   - Gates, G.W. (1972) \"The Reduced Nearest Neighbor Rule\".  IEEE Transactions\n",
      "     on Information Theory, May 1972, 431-433.\n",
      "   - See also: 1988 MLC Proceedings, 54-64.  Cheeseman et al\"s AUTOCLASS II\n",
      "     conceptual clustering system finds 3 classes in the data.\n",
      "   - Many, many more ...\n"
     ]
    }
   ],
   "source": [
    "print(iris.DESCR)"
   ]
  },
  {
   "cell_type": "code",
   "execution_count": 12,
   "id": "061c5f0d",
   "metadata": {},
   "outputs": [
    {
     "name": "stdout",
     "output_type": "stream",
     "text": [
      "[0 0 0 0 0 0 0 0 0 0 0 0 0 0 0 0 0 0 0 0 0 0 0 0 0 0 0 0 0 0 0 0 0 0 0 0 0\n",
      " 0 0 0 0 0 0 0 0 0 0 0 0 0 1 1 1 1 1 1 1 1 1 1 1 1 1 1 1 1 1 1 1 1 1 1 1 1\n",
      " 1 1 1 1 1 1 1 1 1 1 1 1 1 1 1 1 1 1 1 1 1 1 1 1 1 1 2 2 2 2 2 2 2 2 2 2 2\n",
      " 2 2 2 2 2 2 2 2 2 2 2 2 2 2 2 2 2 2 2 2 2 2 2 2 2 2 2 2 2 2 2 2 2 2 2 2 2\n",
      " 2 2]\n"
     ]
    }
   ],
   "source": [
    "le=LabelEncoder()\n",
    "y_new=le.fit_transform(y)\n",
    "print(y_new)\n"
   ]
  },
  {
   "cell_type": "code",
   "execution_count": 31,
   "id": "c406bf55",
   "metadata": {},
   "outputs": [
    {
     "name": "stdout",
     "output_type": "stream",
     "text": [
      "[1 0 2 0 1 0 2 0 0 1 1 2 0 1 2 2 1 1 0 1 2 1 0 1 0 1 2 1 2 1 0 2 2 0 1 2 0\n",
      " 2 1 2 1 0 2 1 2 0 2 1 2 1 2 1 1 2 1 1 2 1 1 0 2 0 1 0 1 1 1 1 0 2 2 1 1 1\n",
      " 0 0 2 2 0 0 0 2 0 0 2 2 1 0 0 0 2 1 0 0 2 1 2 0 0 2 1 1 1 2 2 1 2 1 1 2 2\n",
      " 2]\n"
     ]
    }
   ],
   "source": [
    "x_test,x_train,y_test,y_train=train_test_split(x,y_new,test_size=.25,random_state=4)\n",
    "print(y_test)"
   ]
  },
  {
   "cell_type": "code",
   "execution_count": 41,
   "id": "e4ff907b",
   "metadata": {},
   "outputs": [
    {
     "name": "stdout",
     "output_type": "stream",
     "text": [
      "test class\n",
      " [1 0 2 0 1 0 2 0 0 1 1 2 0 1 2 2 1 1 0 1 2 1 0 1 0 1 2 1 2 1 0 2 2 0 1 2 0\n",
      " 2 1 2 1 0 2 1 2 0 2 1 2 1 2 1 1 2 1 1 2 1 1 0 2 0 1 0 1 1 1 1 0 2 2 1 1 1\n",
      " 0 0 2 2 0 0 0 2 0 0 2 2 1 0 0 0 2 1 0 0 2 1 2 0 0 2 1 1 1 2 2 1 2 1 1 2 2\n",
      " 2]\n",
      "\n",
      "predict class\n",
      " [2 0 2 0 1 0 2 0 0 1 1 2 0 1 2 2 1 1 0 1 1 1 0 1 0 1 2 2 2 1 0 1 2 0 1 2 0\n",
      " 2 1 2 1 0 1 1 2 0 2 1 2 1 2 1 2 2 1 1 2 1 1 0 2 0 2 0 1 1 1 1 0 2 2 1 1 1\n",
      " 0 0 2 2 0 0 0 2 0 0 2 2 1 0 0 0 2 2 0 0 2 2 2 0 0 2 1 1 1 2 2 1 2 2 1 2 2\n",
      " 2]\n"
     ]
    }
   ],
   "source": [
    "NB=GaussianNB()\n",
    "NB.fit(x_train,y_train)\n",
    "y_predict=NB.predict(x_test)\n",
    "print(\"test class\\n\",y_test)\n",
    "print(\"\\npredict class\\n\",y_predict)\n"
   ]
  },
  {
   "cell_type": "code",
   "execution_count": 38,
   "id": "4897ebcc",
   "metadata": {},
   "outputs": [
    {
     "name": "stdout",
     "output_type": "stream",
     "text": [
      "[[2.93555785e-114 3.03303414e-001 6.96696586e-001]\n",
      " [1.00000000e+000 5.27319685e-015 1.44772863e-030]\n",
      " [9.69295009e-271 2.31306866e-010 1.00000000e+000]\n",
      " [1.00000000e+000 2.44756642e-014 5.74299387e-030]\n",
      " [2.05104526e-095 8.52929461e-001 1.47070539e-001]\n",
      " [1.00000000e+000 1.31347936e-014 4.36722556e-030]\n",
      " [2.13163014e-224 1.22596994e-005 9.99987740e-001]\n",
      " [1.00000000e+000 5.66284761e-015 1.44083106e-032]\n",
      " [1.00000000e+000 5.47131303e-014 1.04293088e-029]\n",
      " [6.09700977e-094 9.93575986e-001 6.42401389e-003]\n",
      " [6.47940418e-101 9.68984580e-001 3.10154204e-002]\n",
      " [8.14072143e-176 1.02174691e-003 9.98978253e-001]\n",
      " [1.00000000e+000 2.45641594e-014 7.53234532e-030]\n",
      " [2.30817193e-058 9.99998547e-001 1.45321834e-006]\n",
      " [3.08154178e-318 3.92416066e-011 1.00000000e+000]\n",
      " [5.68368259e-248 6.87806149e-007 9.99999312e-001]\n",
      " [6.92304549e-084 9.97161910e-001 2.83809042e-003]\n",
      " [2.68919451e-079 9.99683965e-001 3.16034917e-004]\n",
      " [9.99999502e-001 4.98213105e-007 7.30279409e-021]\n",
      " [2.02029606e-061 9.99990392e-001 9.60833276e-006]\n",
      " [2.42748516e-125 9.83358317e-001 1.66416832e-002]\n",
      " [7.11112152e-080 9.99933621e-001 6.63791204e-005]\n",
      " [1.00000000e+000 4.17003261e-014 7.09427144e-030]\n",
      " [1.24174586e-075 9.99825248e-001 1.74752250e-004]\n",
      " [1.00000000e+000 3.37986131e-014 9.37566095e-030]\n",
      " [1.74733395e-084 9.93670609e-001 6.32939143e-003]\n",
      " [1.41551314e-209 6.56987968e-006 9.99993430e-001]\n",
      " [2.34129095e-144 1.22955775e-002 9.87704422e-001]\n",
      " [1.00192799e-177 4.32262964e-004 9.99567737e-001]\n",
      " [1.70662679e-111 8.59695514e-001 1.40304486e-001]\n",
      " [1.00000000e+000 4.25396100e-014 3.41338698e-030]\n",
      " [5.04634607e-120 9.94505560e-001 5.49443997e-003]\n",
      " [7.90408873e-244 1.05336346e-007 9.99999895e-001]\n",
      " [1.00000000e+000 3.39776600e-011 9.78551594e-026]\n",
      " [1.87769355e-055 9.99999604e-001 3.95691836e-007]\n",
      " [2.30923192e-282 3.40985945e-008 9.99999966e-001]\n",
      " [1.00000000e+000 3.00773713e-015 2.80481496e-031]\n",
      " [9.36910778e-147 7.18058695e-002 9.28194130e-001]\n",
      " [3.79766059e-110 7.67899999e-001 2.32100001e-001]\n",
      " [1.41442004e-154 5.74773603e-002 9.42522640e-001]\n",
      " [1.17291029e-121 8.51446763e-001 1.48553237e-001]\n",
      " [1.00000000e+000 8.11544838e-016 2.84296723e-032]\n",
      " [2.24709568e-144 5.08613559e-001 4.91386441e-001]\n",
      " [3.36122405e-105 8.03703618e-001 1.96296382e-001]\n",
      " [1.26864750e-231 2.52800438e-007 9.99999747e-001]\n",
      " [1.00000000e+000 2.50121901e-014 3.73760235e-030]\n",
      " [2.56910756e-176 2.54904837e-003 9.97450952e-001]\n",
      " [9.34347715e-074 9.99994565e-001 5.43538874e-006]\n",
      " [3.47622584e-205 5.28026794e-006 9.99994720e-001]\n",
      " [2.91559860e-064 9.99983187e-001 1.68127109e-005]\n",
      " [1.10346150e-164 5.34643829e-002 9.46535617e-001]\n",
      " [3.37511244e-074 9.99684473e-001 3.15526665e-004]\n",
      " [2.08306701e-141 1.63763376e-001 8.36236624e-001]\n",
      " [6.59621845e-225 8.88891036e-006 9.99991111e-001]\n",
      " [2.59894933e-076 9.99855901e-001 1.44098780e-004]\n",
      " [2.73507327e-095 9.14909711e-001 8.50902888e-002]\n",
      " [1.26179499e-223 7.62889607e-005 9.99923711e-001]\n",
      " [1.66644139e-057 9.99999428e-001 5.71529558e-007]\n",
      " [3.36075799e-059 9.99993861e-001 6.13931674e-006]\n",
      " [1.00000000e+000 7.05947282e-016 2.39577172e-033]\n",
      " [8.45993358e-251 1.29756103e-007 9.99999870e-001]\n",
      " [9.99999978e-001 2.16348342e-008 3.31494868e-022]\n",
      " [1.67238685e-111 4.82249647e-001 5.17750353e-001]\n",
      " [1.00000000e+000 8.71626749e-015 2.31674638e-030]\n",
      " [2.09039707e-076 9.99968177e-001 3.18231091e-005]\n",
      " [8.70754533e-092 9.96235411e-001 3.76458894e-003]\n",
      " [2.11359234e-073 9.99984313e-001 1.56871631e-005]\n",
      " [2.32755588e-047 9.99999917e-001 8.25436419e-008]\n",
      " [1.00000000e+000 8.00072949e-014 2.38922543e-029]\n",
      " [4.18428424e-219 3.20394281e-006 9.99996796e-001]\n",
      " [3.32721507e-142 1.50749184e-001 8.49250816e-001]\n",
      " [1.14721528e-072 9.99865905e-001 1.34094644e-004]\n",
      " [2.52054707e-035 9.99999997e-001 2.95531830e-009]\n",
      " [3.69055841e-042 9.99999880e-001 1.20118347e-007]\n",
      " [1.00000000e+000 5.80084127e-014 7.65730052e-030]\n",
      " [1.00000000e+000 2.31681158e-014 3.87537374e-030]\n",
      " [1.35428115e-215 1.61203858e-006 9.99998388e-001]\n",
      " [5.69952404e-166 5.20429129e-002 9.47957087e-001]\n",
      " [1.00000000e+000 1.83462610e-016 5.84106204e-033]\n",
      " [1.00000000e+000 7.39393008e-013 1.20900841e-028]\n",
      " [1.00000000e+000 6.87089393e-015 2.17446134e-031]\n",
      " [1.03423442e-221 6.20952613e-006 9.99993790e-001]\n",
      " [1.00000000e+000 3.57562712e-014 4.49208646e-030]\n",
      " [1.00000000e+000 9.37951169e-017 2.18266875e-033]\n",
      " [1.92158549e-162 3.34063081e-002 9.66593692e-001]\n",
      " [1.46404142e-253 7.63451425e-008 9.99999924e-001]\n",
      " [1.55472482e-103 9.88092408e-001 1.19075917e-002]\n",
      " [1.00000000e+000 2.25139806e-014 2.71752433e-030]\n",
      " [1.00000000e+000 6.17144061e-014 2.51412586e-030]\n",
      " [1.00000000e+000 2.39517952e-013 7.68873676e-029]\n",
      " [1.28875234e-290 1.37027097e-010 1.00000000e+000]\n",
      " [2.60719195e-120 4.20722828e-001 5.79277172e-001]\n",
      " [1.00000000e+000 1.34282135e-012 1.35441531e-027]\n",
      " [1.00000000e+000 8.33066009e-015 1.06138378e-030]\n",
      " [2.71946787e-251 1.26139350e-009 9.99999999e-001]\n",
      " [1.63186684e-123 5.83291690e-002 9.41670831e-001]\n",
      " [2.60928867e-143 1.20711984e-001 8.79288016e-001]\n",
      " [1.00000000e+000 2.20660438e-014 5.50080861e-031]\n",
      " [1.00000000e+000 1.39086821e-010 1.61331185e-024]\n",
      " [1.30799367e-182 3.47961337e-004 9.99652039e-001]\n",
      " [2.39621712e-036 9.99999997e-001 2.70511562e-009]\n",
      " [8.43430253e-090 9.98893006e-001 1.10699414e-003]\n",
      " [1.60043428e-079 9.99867704e-001 1.32295518e-004]\n",
      " [6.71863694e-292 3.68370503e-010 1.00000000e+000]\n",
      " [7.11644446e-180 1.89854576e-003 9.98101454e-001]\n",
      " [9.34420427e-096 9.35483708e-001 6.45162917e-002]\n",
      " [3.96498641e-175 1.35468667e-003 9.98645313e-001]\n",
      " [8.62445280e-108 2.08615413e-001 7.91384587e-001]\n",
      " [8.50571818e-089 9.99411555e-001 5.88445435e-004]\n",
      " [9.35296362e-235 2.14034764e-006 9.99997860e-001]\n",
      " [2.82408667e-176 8.44213511e-005 9.99915579e-001]\n",
      " [2.71332385e-270 1.68876918e-009 9.99999998e-001]]\n"
     ]
    }
   ],
   "source": [
    "print(NB.predict_proba(x_test))"
   ]
  },
  {
   "cell_type": "code",
   "execution_count": 34,
   "id": "34d78d08",
   "metadata": {},
   "outputs": [
    {
     "name": "stdout",
     "output_type": "stream",
     "text": [
      "102\n"
     ]
    }
   ],
   "source": [
    "print(accuracy_score(y_test,y_predict,normalize=False))"
   ]
  },
  {
   "cell_type": "code",
   "execution_count": 35,
   "id": "64736a67",
   "metadata": {},
   "outputs": [
    {
     "name": "stdout",
     "output_type": "stream",
     "text": [
      "[[32  0  0]\n",
      " [ 0 35  7]\n",
      " [ 0  3 35]]\n"
     ]
    }
   ],
   "source": [
    "cm=confusion_matrix(y_test,y_predict,normalize=None,labels=NB.classes_)\n",
    "print(cm)\n"
   ]
  },
  {
   "cell_type": "code",
   "execution_count": 36,
   "id": "7d340fb8",
   "metadata": {},
   "outputs": [
    {
     "data": {
      "image/png": "[encoded data removed]",
      "text/plain": [
       "<Figure size 432x288 with 2 Axes>"
      ]
     },
     "metadata": {
      "needs_background": "light"
     },
     "output_type": "display_data"
    }
   ],
   "source": [
    "cm_dis=ConfusionMatrixDisplay(confusion_matrix=cm,display_labels=NB.classes_)\n",
    "cm_dis.plot()\n",
    "plt.show()"
   ]
  },
  {
   "cell_type": "code",
   "execution_count": null,
   "id": "b7d36e7f",
   "metadata": {},
   "outputs": [],
   "source": []
  }
 ],
 "metadata": {
  "kernelspec": {
   "display_name": "Python 3 (ipykernel)",
   "language": "python",
   "name": "python3"
  },
  "language_info": {
   "codemirror_mode": {
    "name": "ipython",
    "version": 3
   },
   "file_extension": ".py",
   "mimetype": "text/x-python",
   "name": "python",
   "nbconvert_exporter": "python",
   "pygments_lexer": "ipython3",
   "version": "3.9.7"
  }
 },
 "nbformat": 4,
 "nbformat_minor": 5
}
