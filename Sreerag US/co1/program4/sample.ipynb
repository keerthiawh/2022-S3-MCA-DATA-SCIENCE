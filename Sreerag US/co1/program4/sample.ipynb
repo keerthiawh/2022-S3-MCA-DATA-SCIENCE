{
 "cells": [
  {
   "cell_type": "code",
   "execution_count": 3,
   "id": "bda26af1-411a-4bb6-8294-47bafb104e9a",
   "metadata": {},
   "outputs": [],
   "source": [
    "import pandas as pd"
   ]
  },
  {
   "cell_type": "code",
   "execution_count": 5,
   "id": "cdc9c9d2-9348-4e85-9791-638beb88a691",
   "metadata": {},
   "outputs": [
    {
     "name": "stdout",
     "output_type": "stream",
     "text": [
      "x    1\n",
      "y    2\n",
      "z    3\n",
      "dtype: int64\n"
     ]
    }
   ],
   "source": [
    "a=[1,2,3]\n",
    "print(pd.Series(a,index=['x','y','z']))"
   ]
  },
  {
   "cell_type": "code",
   "execution_count": 6,
   "id": "fa9e8f2a-d15f-456c-ad2d-28b63f08ba0d",
   "metadata": {},
   "outputs": [
    {
     "name": "stdout",
     "output_type": "stream",
     "text": [
      "day1    100\n",
      "day2    200\n",
      "day3    300\n",
      "dtype: int64\n"
     ]
    }
   ],
   "source": [
    "booking={'day1':100,'day2':200,'day3':300}\n",
    "print(pd.Series(booking))"
   ]
  },
  {
   "cell_type": "code",
   "execution_count": 7,
   "id": "bf0b22cb-9141-4e04-aa69-924274d62e96",
   "metadata": {},
   "outputs": [
    {
     "name": "stdout",
     "output_type": "stream",
     "text": [
      "day1    [100, 300]\n",
      "day2           200\n",
      "day3           300\n",
      "dtype: object\n"
     ]
    }
   ],
   "source": [
    "booking={'day1':[100,300],'day2':200,'day3':300}\n",
    "print(pd.Series(booking))"
   ]
  },
  {
   "cell_type": "code",
   "execution_count": null,
   "id": "ea5eacf8-2244-4c1d-b188-dd7ea958cbe7",
   "metadata": {},
   "outputs": [],
   "source": []
  }
 ],
 "metadata": {
  "kernelspec": {
   "display_name": "Python 3 (ipykernel)",
   "language": "python",
   "name": "python3"
  },
  "language_info": {
   "codemirror_mode": {
    "name": "ipython",
    "version": 3
   },
   "file_extension": ".py",
   "mimetype": "text/x-python",
   "name": "python",
   "nbconvert_exporter": "python",
   "pygments_lexer": "ipython3",
   "version": "3.11.0"
  }
 },
 "nbformat": 4,
 "nbformat_minor": 5
}
