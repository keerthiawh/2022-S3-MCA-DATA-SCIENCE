{
 "cells": [
  {
   "cell_type": "code",
   "execution_count": 57,
   "id": "72da9522-9d1a-41b9-a530-a4c3dbe48fa4",
   "metadata": {},
   "outputs": [],
   "source": [
    "import pandas as pd"
   ]
  },
  {
   "cell_type": "code",
   "execution_count": 58,
   "id": "b5d141a1-86b0-43a0-a649-7ecf1e073572",
   "metadata": {},
   "outputs": [
    {
     "name": "stdout",
     "output_type": "stream",
     "text": [
      "    Ingredient  Sweetness  Crunchiness   FoodType\n",
      "0        apple       10.0            9      fruit\n",
      "1        bacon        1.0            4    protein\n",
      "2       banana       10.0            1      fruit\n",
      "3       carrot        7.0           10  vegetable\n",
      "4       celery        NaN           10  vegetable\n",
      "5       cheese        1.0            1    protein\n",
      "6     cucumber        2.0            8  vegetable\n",
      "7         fish        3.0            1        123\n",
      "8        grape        8.0            5      fruit\n",
      "9   green bean        3.0            7  vegetable\n",
      "10     lettuce        2.0            9  vegetable\n",
      "11        nuts        3.0            6    protein\n",
      "12      orange        7.0            3      fruit\n",
      "13        pear       10.0            7      fruit\n",
      "14      shrimp        2.0            3    protein\n",
      "15      shrimp        2.0            3    protein\n",
      "16      banana       10.0            1      fruit\n"
     ]
    }
   ],
   "source": [
    "pf=pd.read_csv('food_cleaning.csv')\n",
    "print(pf)"
   ]
  },
  {
   "cell_type": "code",
   "execution_count": 59,
   "id": "7b3bce95-2b01-408c-be37-eed0ca0727f7",
   "metadata": {},
   "outputs": [
    {
     "name": "stdout",
     "output_type": "stream",
     "text": [
      "    Ingredient  Sweetness  Crunchiness   FoodType\n",
      "0        apple       10.0            9      fruit\n",
      "1        bacon        1.0            4    protein\n",
      "2       banana       10.0            1      fruit\n",
      "3       carrot        7.0           10  vegetable\n",
      "5       cheese        1.0            1    protein\n",
      "6     cucumber        2.0            8  vegetable\n",
      "7         fish        3.0            1        123\n",
      "8        grape        8.0            5      fruit\n",
      "9   green bean        3.0            7  vegetable\n",
      "10     lettuce        2.0            9  vegetable\n",
      "11        nuts        3.0            6    protein\n",
      "12      orange        7.0            3      fruit\n",
      "13        pear       10.0            7      fruit\n",
      "14      shrimp        2.0            3    protein\n",
      "15      shrimp        2.0            3    protein\n",
      "16      banana       10.0            1      fruit\n"
     ]
    }
   ],
   "source": [
    "new_data=pf.dropna()\n",
    "print(new_data)"
   ]
  },
  {
   "cell_type": "code",
   "execution_count": 62,
   "id": "ca0e0ae2-4b43-4412-a992-b75fbbe6c529",
   "metadata": {},
   "outputs": [
    {
     "data": {
      "text/plain": [
       "True"
      ]
     },
     "execution_count": 62,
     "metadata": {},
     "output_type": "execute_result"
    }
   ],
   "source": [
    "pf.duplicated().any()"
   ]
  },
  {
   "cell_type": "code",
   "execution_count": 63,
   "id": "e7396c7c-5b46-4a44-be98-b897e914b686",
   "metadata": {},
   "outputs": [
    {
     "data": {
      "text/plain": [
       "0     False\n",
       "1     False\n",
       "2     False\n",
       "3     False\n",
       "4     False\n",
       "5     False\n",
       "6     False\n",
       "7     False\n",
       "8     False\n",
       "9     False\n",
       "10    False\n",
       "11    False\n",
       "12    False\n",
       "13    False\n",
       "14    False\n",
       "15     True\n",
       "16     True\n",
       "dtype: bool"
      ]
     },
     "execution_count": 63,
     "metadata": {},
     "output_type": "execute_result"
    }
   ],
   "source": [
    "pf.duplicated()"
   ]
  },
  {
   "cell_type": "code",
   "execution_count": 66,
   "id": "5c61a116-1f23-46cf-9fb7-15315ce6e7f0",
   "metadata": {},
   "outputs": [
    {
     "name": "stdout",
     "output_type": "stream",
     "text": [
      "    Ingredient  Sweetness  Crunchiness   FoodType\n",
      "0        apple       10.0            9      fruit\n",
      "1        bacon        1.0            4    protein\n",
      "2       banana       10.0            1      fruit\n",
      "3       carrot        7.0           10  vegetable\n",
      "4       celery        NaN           10  vegetable\n",
      "5       cheese        1.0            1    protein\n",
      "6     cucumber        2.0            8  vegetable\n",
      "7         fish        3.0            1        123\n",
      "8        grape        8.0            5      fruit\n",
      "9   green bean        3.0            7  vegetable\n",
      "10     lettuce        2.0            9  vegetable\n",
      "11        nuts        3.0            6    protein\n",
      "12      orange        7.0            3      fruit\n",
      "13        pear       10.0            7      fruit\n",
      "14      shrimp        2.0            3    protein\n"
     ]
    }
   ],
   "source": [
    "pf.drop_duplicates(inplace=True)\n",
    "print(pf)"
   ]
  },
  {
   "cell_type": "code",
   "execution_count": 65,
   "id": "f64e410e-97d7-45e2-930d-2451f8145e21",
   "metadata": {},
   "outputs": [
    {
     "data": {
      "text/plain": [
       "0      9.0\n",
       "1      4.0\n",
       "2      1.0\n",
       "3     10.0\n",
       "5      1.0\n",
       "6      8.0\n",
       "7      1.0\n",
       "8      5.0\n",
       "9      7.0\n",
       "10     9.0\n",
       "11     6.0\n",
       "12     3.0\n",
       "13     7.0\n",
       "14     3.0\n",
       "15     3.0\n",
       "16     1.0\n",
       "Name: Crunchiness, dtype: float64"
      ]
     },
     "execution_count": 65,
     "metadata": {},
     "output_type": "execute_result"
    }
   ],
   "source": [
    "new_data['Crunchiness'].astype('float')"
   ]
  },
  {
   "cell_type": "code",
   "execution_count": 72,
   "id": "851dbae3-9c7c-41ff-85bd-7d1276fd9ab0",
   "metadata": {},
   "outputs": [
    {
     "name": "stdout",
     "output_type": "stream",
     "text": [
      "4.875\n"
     ]
    }
   ],
   "source": [
    "mean=new_data['Crunchiness'].mean()\n",
    "print(mean)\n",
    "pf['Sweetness'].fillna(mean,inplace=True)\n"
   ]
  },
  {
   "cell_type": "code",
   "execution_count": 73,
   "id": "3c17fd3f-13b8-4c59-84a2-a9f82103d3d1",
   "metadata": {},
   "outputs": [
    {
     "name": "stdout",
     "output_type": "stream",
     "text": [
      "    Ingredient  Sweetness  Crunchiness   FoodType\n",
      "0        apple     10.000            9      fruit\n",
      "1        bacon      1.000            4    protein\n",
      "2       banana     10.000            1      fruit\n",
      "3       carrot      7.000           10  vegetable\n",
      "4       celery      4.875           10  vegetable\n",
      "5       cheese      1.000            1    protein\n",
      "6     cucumber      2.000            8  vegetable\n",
      "7         fish      3.000            1        123\n",
      "8        grape      8.000            5      fruit\n",
      "9   green bean      3.000            7  vegetable\n",
      "10     lettuce      2.000            9  vegetable\n",
      "11        nuts      3.000            6    protein\n",
      "12      orange      7.000            3      fruit\n",
      "13        pear     10.000            7      fruit\n",
      "14      shrimp      2.000            3    protein\n"
     ]
    }
   ],
   "source": [
    "print(pf)"
   ]
  },
  {
   "cell_type": "code",
   "execution_count": 79,
   "id": "ba34d74e-6292-4ee9-893e-542e9f3f49b5",
   "metadata": {},
   "outputs": [
    {
     "name": "stdout",
     "output_type": "stream",
     "text": [
      "    Ingredient  Sweetness  Crunchiness   FoodType\n",
      "0        apple     10.000            9      fruit\n",
      "2       banana     10.000            1      fruit\n",
      "3       carrot      7.000           10  vegetable\n",
      "4       celery      4.875           10  vegetable\n",
      "6     cucumber      2.000            8  vegetable\n",
      "8        grape      8.000            5      fruit\n",
      "9   green bean      3.000            7  vegetable\n",
      "10     lettuce      2.000            9  vegetable\n",
      "12      orange      7.000            3      fruit\n",
      "13        pear     10.000            7      fruit\n"
     ]
    }
   ],
   "source": [
    "for x in pf.index:\n",
    "    if pf.loc[x,'FoodType']!='fruit' and pf.loc[x,'FoodType']!='vegetable' and pf.loc[x,'FoodType']!='FoodType':\n",
    "        pf.drop(x,inplace=True)\n",
    "print(pf)"
   ]
  },
  {
   "cell_type": "code",
   "execution_count": null,
   "id": "99f81d2e-ba43-4acc-b645-116ad679d543",
   "metadata": {},
   "outputs": [],
   "source": []
  },
  {
   "cell_type": "code",
   "execution_count": null,
   "id": "244643bd-0f1b-494c-918d-b851704e4363",
   "metadata": {},
   "outputs": [],
   "source": []
  }
 ],
 "metadata": {
  "kernelspec": {
   "display_name": "Python 3 (ipykernel)",
   "language": "python",
   "name": "python3"
  },
  "language_info": {
   "codemirror_mode": {
    "name": "ipython",
    "version": 3
   },
   "file_extension": ".py",
   "mimetype": "text/x-python",
   "name": "python",
   "nbconvert_exporter": "python",
   "pygments_lexer": "ipython3",
   "version": "3.11.0"
  }
 },
 "nbformat": 4,
 "nbformat_minor": 5
}
