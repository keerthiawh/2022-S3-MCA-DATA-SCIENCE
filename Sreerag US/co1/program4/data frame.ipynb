{
 "cells": [
  {
   "cell_type": "code",
   "execution_count": 1,
   "id": "52587e88-fe5d-4349-8855-b6390676ac33",
   "metadata": {},
   "outputs": [],
   "source": [
    "import pandas as pd\n"
   ]
  },
  {
   "cell_type": "code",
   "execution_count": 3,
   "id": "efab4cb2-a2b7-45ec-8250-1ff6669cee05",
   "metadata": {},
   "outputs": [
    {
     "name": "stdout",
     "output_type": "stream",
     "text": [
      "    Ingredient  Sweetness  Crunchiness   FoodType\n",
      "0        apple         10            9      fruit\n",
      "1        bacon          1            4    protein\n",
      "2       banana         10            1      fruit\n",
      "3       carrot          7           10  vegetable\n",
      "4       celery          3           10  vegetable\n",
      "5       cheese          1            1    protein\n",
      "6     cucumber          2            8  vegetable\n",
      "7         fish          3            1    protein\n",
      "8        grape          8            5      fruit\n",
      "9   green bean          3            7  vegetable\n",
      "10     lettuce          1            9  vegetable\n",
      "11        nuts          3            6    protein\n",
      "12      orange          7            3      fruit\n",
      "13        pear         10            7      fruit\n",
      "14      shrimp          2            3    protein\n"
     ]
    }
   ],
   "source": [
    "pf=pd.read_csv('food.csv')\n",
    "print(pf)               "
   ]
  },
  {
   "cell_type": "code",
   "execution_count": 4,
   "id": "527807a0-24e7-4857-be45-9f5fe92595ef",
   "metadata": {},
   "outputs": [
    {
     "name": "stdout",
     "output_type": "stream",
     "text": [
      "<class 'pandas.core.frame.DataFrame'>\n"
     ]
    }
   ],
   "source": [
    "print(type(pf))"
   ]
  },
  {
   "cell_type": "code",
   "execution_count": 5,
   "id": "fa4359c7-b785-4aff-9fb9-5d0bd45c1ff0",
   "metadata": {},
   "outputs": [
    {
     "name": "stdout",
     "output_type": "stream",
     "text": [
      "<class 'pandas.core.frame.DataFrame'>\n",
      "RangeIndex: 15 entries, 0 to 14\n",
      "Data columns (total 4 columns):\n",
      " #   Column       Non-Null Count  Dtype \n",
      "---  ------       --------------  ----- \n",
      " 0   Ingredient   15 non-null     object\n",
      " 1   Sweetness    15 non-null     int64 \n",
      " 2   Crunchiness  15 non-null     int64 \n",
      " 3   FoodType     15 non-null     object\n",
      "dtypes: int64(2), object(2)\n",
      "memory usage: 608.0+ bytes\n",
      "None\n"
     ]
    }
   ],
   "source": [
    "print(pf.info())"
   ]
  },
  {
   "cell_type": "code",
   "execution_count": 7,
   "id": "87693219-ee3a-45da-9b11-71e44cc2c106",
   "metadata": {},
   "outputs": [
    {
     "name": "stdout",
     "output_type": "stream",
     "text": [
      "(15, 4)\n"
     ]
    }
   ],
   "source": [
    "print(pf.shape)"
   ]
  },
  {
   "cell_type": "code",
   "execution_count": 9,
   "id": "781d5959-f42b-41c2-b294-2529f3839903",
   "metadata": {},
   "outputs": [
    {
     "name": "stdout",
     "output_type": "stream",
     "text": [
      "       Sweetness  Crunchiness\n",
      "count  15.000000    15.000000\n",
      "mean    4.733333     5.600000\n",
      "std     3.514595     3.290679\n",
      "min     1.000000     1.000000\n",
      "25%     2.000000     3.000000\n",
      "50%     3.000000     6.000000\n",
      "75%     7.500000     8.500000\n",
      "max    10.000000    10.000000\n"
     ]
    }
   ],
   "source": [
    "print(pf.describe())"
   ]
  },
  {
   "cell_type": "code",
   "execution_count": 10,
   "id": "b8141bd2-fc12-41f0-9b40-c501e165514d",
   "metadata": {},
   "outputs": [
    {
     "name": "stdout",
     "output_type": "stream",
     "text": [
      "  Ingredient  Sweetness  Crunchiness   FoodType\n",
      "0      apple         10            9      fruit\n",
      "1      bacon          1            4    protein\n",
      "2     banana         10            1      fruit\n",
      "3     carrot          7           10  vegetable\n"
     ]
    }
   ],
   "source": [
    "print(pf.head(4))"
   ]
  },
  {
   "cell_type": "code",
   "execution_count": 11,
   "id": "d6d5f50d-5ed9-41a5-ba1f-093bbecc4c8c",
   "metadata": {},
   "outputs": [
    {
     "name": "stdout",
     "output_type": "stream",
     "text": [
      "   Ingredient  Sweetness  Crunchiness FoodType\n",
      "12     orange          7            3    fruit\n",
      "13       pear         10            7    fruit\n",
      "14     shrimp          2            3  protein\n"
     ]
    }
   ],
   "source": [
    "print(pf.tail(3))"
   ]
  },
  {
   "cell_type": "code",
   "execution_count": 21,
   "id": "a42c8793-7782-417b-ac62-0f3f606fde8f",
   "metadata": {},
   "outputs": [
    {
     "name": "stdout",
     "output_type": "stream",
     "text": [
      "             Sweetness  Crunchiness\n",
      "Sweetness     1.000000     0.070407\n",
      "Crunchiness   0.070407     1.000000\n"
     ]
    }
   ],
   "source": [
    "print(pf[['Sweetness','Crunchiness']].corr(method='pearson'))"
   ]
  },
  {
   "cell_type": "code",
   "execution_count": 16,
   "id": "d0aae24c-9774-4c6f-983d-d98ad33e740e",
   "metadata": {},
   "outputs": [
    {
     "name": "stdout",
     "output_type": "stream",
     "text": [
      "  Ingredient  Sweetness  Crunchiness FoodType\n",
      "0      apple         10            9    fruit\n",
      "1      bacon          1            4  protein\n",
      "2     banana         10            1    fruit\n"
     ]
    }
   ],
   "source": [
    "print(pf[]:3)"
   ]
  },
  {
   "cell_type": "code",
   "execution_count": 17,
   "id": "cde332a2-7ec9-4b1c-82a7-61af15bdd654",
   "metadata": {},
   "outputs": [
    {
     "name": "stdout",
     "output_type": "stream",
     "text": [
      "  Ingredient  Sweetness  Crunchiness   FoodType\n",
      "2     banana         10            1      fruit\n",
      "3     carrot          7           10  vegetable\n",
      "4     celery          3           10  vegetable\n"
     ]
    }
   ],
   "source": [
    "print(pf[2:5])"
   ]
  },
  {
   "cell_type": "code",
   "execution_count": 18,
   "id": "1304af01-0e2c-4ab0-89da-6dfab5d3cb63",
   "metadata": {},
   "outputs": [
    {
     "name": "stdout",
     "output_type": "stream",
     "text": [
      "   Crunchiness   FoodType\n",
      "2            1      fruit\n",
      "3           10  vegetable\n"
     ]
    }
   ],
   "source": [
    "print(pf.iloc[2:4,2:5])"
   ]
  },
  {
   "cell_type": "code",
   "execution_count": null,
   "id": "3224e8ea-f601-4b31-b09c-f8952020aa67",
   "metadata": {},
   "outputs": [],
   "source": []
  }
 ],
 "metadata": {
  "kernelspec": {
   "display_name": "Python 3 (ipykernel)",
   "language": "python",
   "name": "python3"
  },
  "language_info": {
   "codemirror_mode": {
    "name": "ipython",
    "version": 3
   },
   "file_extension": ".py",
   "mimetype": "text/x-python",
   "name": "python",
   "nbconvert_exporter": "python",
   "pygments_lexer": "ipython3",
   "version": "3.11.0"
  }
 },
 "nbformat": 4,
 "nbformat_minor": 5
}
