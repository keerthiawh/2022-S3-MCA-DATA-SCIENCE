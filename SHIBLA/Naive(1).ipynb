{
  "nbformat": 4,
  "nbformat_minor": 0,
  "metadata": {
    "colab": {
      "provenance": []
    },
    "kernelspec": {
      "name": "python3",
      "display_name": "Python 3"
    },
    "language_info": {
      "name": "python"
    }
  },
  "cells": [
    {
      "cell_type": "code",
      "execution_count": 5,
      "metadata": {
        "colab": {
          "base_uri": "https://localhost:8080/"
        },
        "id": "URGatmiFSRFu",
        "outputId": "530538d6-bc28-4418-fb40-053e10a86850"
      },
      "outputs": [
        {
          "output_type": "stream",
          "name": "stdout",
          "text": [
            "[0 0 0 0 0 0 0 0 0 0 0 0 0 0 0 0 0 0 0 0 0 0 0 0 0 0 0 0 0 0 0 0 0 0 0 0 0\n",
            " 0 0 0 0 0 0 0 0 0 0 0 0 0 1 1 1 1 1 1 1 1 1 1 1 1 1 1 1 1 1 1 1 1 1 1 1 1\n",
            " 1 1 1 1 1 1 1 1 1 1 1 1 1 1 1 1 1 1 1 1 1 1 1 1 1 1 2 2 2 2 2 2 2 2 2 2 2\n",
            " 2 2 2 2 2 2 2 2 2 2 2 2 2 2 2 2 2 2 2 2 2 2 2 2 2 2 2 2 2 2 2 2 2 2 2 2 2\n",
            " 2 2]\n",
            "[[5.1 3.5 1.4 0.2]\n",
            " [4.9 3.  1.4 0.2]\n",
            " [4.7 3.2 1.3 0.2]\n",
            " [4.6 3.1 1.5 0.2]\n",
            " [5.  3.6 1.4 0.2]\n",
            " [5.4 3.9 1.7 0.4]\n",
            " [4.6 3.4 1.4 0.3]\n",
            " [5.  3.4 1.5 0.2]\n",
            " [4.4 2.9 1.4 0.2]\n",
            " [4.9 3.1 1.5 0.1]\n",
            " [5.4 3.7 1.5 0.2]\n",
            " [4.8 3.4 1.6 0.2]\n",
            " [4.8 3.  1.4 0.1]\n",
            " [4.3 3.  1.1 0.1]\n",
            " [5.8 4.  1.2 0.2]\n",
            " [5.7 4.4 1.5 0.4]\n",
            " [5.4 3.9 1.3 0.4]\n",
            " [5.1 3.5 1.4 0.3]\n",
            " [5.7 3.8 1.7 0.3]\n",
            " [5.1 3.8 1.5 0.3]\n",
            " [5.4 3.4 1.7 0.2]\n",
            " [5.1 3.7 1.5 0.4]\n",
            " [4.6 3.6 1.  0.2]\n",
            " [5.1 3.3 1.7 0.5]\n",
            " [4.8 3.4 1.9 0.2]\n",
            " [5.  3.  1.6 0.2]\n",
            " [5.  3.4 1.6 0.4]\n",
            " [5.2 3.5 1.5 0.2]\n",
            " [5.2 3.4 1.4 0.2]\n",
            " [4.7 3.2 1.6 0.2]\n",
            " [4.8 3.1 1.6 0.2]\n",
            " [5.4 3.4 1.5 0.4]\n",
            " [5.2 4.1 1.5 0.1]\n",
            " [5.5 4.2 1.4 0.2]\n",
            " [4.9 3.1 1.5 0.2]\n",
            " [5.  3.2 1.2 0.2]\n",
            " [5.5 3.5 1.3 0.2]\n",
            " [4.9 3.6 1.4 0.1]\n",
            " [4.4 3.  1.3 0.2]\n",
            " [5.1 3.4 1.5 0.2]\n",
            " [5.  3.5 1.3 0.3]\n",
            " [4.5 2.3 1.3 0.3]\n",
            " [4.4 3.2 1.3 0.2]\n",
            " [5.  3.5 1.6 0.6]\n",
            " [5.1 3.8 1.9 0.4]\n",
            " [4.8 3.  1.4 0.3]\n",
            " [5.1 3.8 1.6 0.2]\n",
            " [4.6 3.2 1.4 0.2]\n",
            " [5.3 3.7 1.5 0.2]\n",
            " [5.  3.3 1.4 0.2]\n",
            " [7.  3.2 4.7 1.4]\n",
            " [6.4 3.2 4.5 1.5]\n",
            " [6.9 3.1 4.9 1.5]\n",
            " [5.5 2.3 4.  1.3]\n",
            " [6.5 2.8 4.6 1.5]\n",
            " [5.7 2.8 4.5 1.3]\n",
            " [6.3 3.3 4.7 1.6]\n",
            " [4.9 2.4 3.3 1. ]\n",
            " [6.6 2.9 4.6 1.3]\n",
            " [5.2 2.7 3.9 1.4]\n",
            " [5.  2.  3.5 1. ]\n",
            " [5.9 3.  4.2 1.5]\n",
            " [6.  2.2 4.  1. ]\n",
            " [6.1 2.9 4.7 1.4]\n",
            " [5.6 2.9 3.6 1.3]\n",
            " [6.7 3.1 4.4 1.4]\n",
            " [5.6 3.  4.5 1.5]\n",
            " [5.8 2.7 4.1 1. ]\n",
            " [6.2 2.2 4.5 1.5]\n",
            " [5.6 2.5 3.9 1.1]\n",
            " [5.9 3.2 4.8 1.8]\n",
            " [6.1 2.8 4.  1.3]\n",
            " [6.3 2.5 4.9 1.5]\n",
            " [6.1 2.8 4.7 1.2]\n",
            " [6.4 2.9 4.3 1.3]\n",
            " [6.6 3.  4.4 1.4]\n",
            " [6.8 2.8 4.8 1.4]\n",
            " [6.7 3.  5.  1.7]\n",
            " [6.  2.9 4.5 1.5]\n",
            " [5.7 2.6 3.5 1. ]\n",
            " [5.5 2.4 3.8 1.1]\n",
            " [5.5 2.4 3.7 1. ]\n",
            " [5.8 2.7 3.9 1.2]\n",
            " [6.  2.7 5.1 1.6]\n",
            " [5.4 3.  4.5 1.5]\n",
            " [6.  3.4 4.5 1.6]\n",
            " [6.7 3.1 4.7 1.5]\n",
            " [6.3 2.3 4.4 1.3]\n",
            " [5.6 3.  4.1 1.3]\n",
            " [5.5 2.5 4.  1.3]\n",
            " [5.5 2.6 4.4 1.2]\n",
            " [6.1 3.  4.6 1.4]\n",
            " [5.8 2.6 4.  1.2]\n",
            " [5.  2.3 3.3 1. ]\n",
            " [5.6 2.7 4.2 1.3]\n",
            " [5.7 3.  4.2 1.2]\n",
            " [5.7 2.9 4.2 1.3]\n",
            " [6.2 2.9 4.3 1.3]\n",
            " [5.1 2.5 3.  1.1]\n",
            " [5.7 2.8 4.1 1.3]\n",
            " [6.3 3.3 6.  2.5]\n",
            " [5.8 2.7 5.1 1.9]\n",
            " [7.1 3.  5.9 2.1]\n",
            " [6.3 2.9 5.6 1.8]\n",
            " [6.5 3.  5.8 2.2]\n",
            " [7.6 3.  6.6 2.1]\n",
            " [4.9 2.5 4.5 1.7]\n",
            " [7.3 2.9 6.3 1.8]\n",
            " [6.7 2.5 5.8 1.8]\n",
            " [7.2 3.6 6.1 2.5]\n",
            " [6.5 3.2 5.1 2. ]\n",
            " [6.4 2.7 5.3 1.9]\n",
            " [6.8 3.  5.5 2.1]\n",
            " [5.7 2.5 5.  2. ]\n",
            " [5.8 2.8 5.1 2.4]\n",
            " [6.4 3.2 5.3 2.3]\n",
            " [6.5 3.  5.5 1.8]\n",
            " [7.7 3.8 6.7 2.2]\n",
            " [7.7 2.6 6.9 2.3]\n",
            " [6.  2.2 5.  1.5]\n",
            " [6.9 3.2 5.7 2.3]\n",
            " [5.6 2.8 4.9 2. ]\n",
            " [7.7 2.8 6.7 2. ]\n",
            " [6.3 2.7 4.9 1.8]\n",
            " [6.7 3.3 5.7 2.1]\n",
            " [7.2 3.2 6.  1.8]\n",
            " [6.2 2.8 4.8 1.8]\n",
            " [6.1 3.  4.9 1.8]\n",
            " [6.4 2.8 5.6 2.1]\n",
            " [7.2 3.  5.8 1.6]\n",
            " [7.4 2.8 6.1 1.9]\n",
            " [7.9 3.8 6.4 2. ]\n",
            " [6.4 2.8 5.6 2.2]\n",
            " [6.3 2.8 5.1 1.5]\n",
            " [6.1 2.6 5.6 1.4]\n",
            " [7.7 3.  6.1 2.3]\n",
            " [6.3 3.4 5.6 2.4]\n",
            " [6.4 3.1 5.5 1.8]\n",
            " [6.  3.  4.8 1.8]\n",
            " [6.9 3.1 5.4 2.1]\n",
            " [6.7 3.1 5.6 2.4]\n",
            " [6.9 3.1 5.1 2.3]\n",
            " [5.8 2.7 5.1 1.9]\n",
            " [6.8 3.2 5.9 2.3]\n",
            " [6.7 3.3 5.7 2.5]\n",
            " [6.7 3.  5.2 2.3]\n",
            " [6.3 2.5 5.  1.9]\n",
            " [6.5 3.  5.2 2. ]\n",
            " [6.2 3.4 5.4 2.3]\n",
            " [5.9 3.  5.1 1.8]]\n"
          ]
        }
      ],
      "source": [
        "from sklearn.naive_bayes import GaussianNB\n",
        "from sklearn.metrics import accuracy_score,confusion_matrix,ConfusionMatrixDisplay\n",
        "from sklearn.model_selection import train_test_split\n",
        "from sklearn.preprocessing import LabelEncoder\n",
        "import pandas as pd\n",
        "import matplotlib.pyplot as plt\n",
        "\n",
        "from sklearn import datasets\n",
        "iris=datasets.load_iris()\n",
        "u=iris.target\n",
        "v=iris.data\n",
        "print(u)\n",
        "print(v)"
      ]
    },
    {
      "cell_type": "code",
      "source": [],
      "metadata": {
        "id": "E1CgAbYHYnPa"
      },
      "execution_count": null,
      "outputs": []
    },
    {
      "cell_type": "code",
      "source": [
        "print(iris.DESCR)"
      ],
      "metadata": {
        "colab": {
          "base_uri": "https://localhost:8080/"
        },
        "id": "SxzUsy0kW1Fx",
        "outputId": "0578d3e2-f417-466d-d4e8-d04327d08388"
      },
      "execution_count": 2,
      "outputs": [
        {
          "output_type": "stream",
          "name": "stdout",
          "text": [
            ".. _iris_dataset:\n",
            "\n",
            "Iris plants dataset\n",
            "--------------------\n",
            "\n",
            "**Data Set Characteristics:**\n",
            "\n",
            "    :Number of Instances: 150 (50 in each of three classes)\n",
            "    :Number of Attributes: 4 numeric, predictive attributes and the class\n",
            "    :Attribute Information:\n",
            "        - sepal length in cm\n",
            "        - sepal width in cm\n",
            "        - petal length in cm\n",
            "        - petal width in cm\n",
            "        - class:\n",
            "                - Iris-Setosa\n",
            "                - Iris-Versicolour\n",
            "                - Iris-Virginica\n",
            "                \n",
            "    :Summary Statistics:\n",
            "\n",
            "    ============== ==== ==== ======= ===== ====================\n",
            "                    Min  Max   Mean    SD   Class Correlation\n",
            "    ============== ==== ==== ======= ===== ====================\n",
            "    sepal length:   4.3  7.9   5.84   0.83    0.7826\n",
            "    sepal width:    2.0  4.4   3.05   0.43   -0.4194\n",
            "    petal length:   1.0  6.9   3.76   1.76    0.9490  (high!)\n",
            "    petal width:    0.1  2.5   1.20   0.76    0.9565  (high!)\n",
            "    ============== ==== ==== ======= ===== ====================\n",
            "\n",
            "    :Missing Attribute Values: None\n",
            "    :Class Distribution: 33.3% for each of 3 classes.\n",
            "    :Creator: R.A. Fisher\n",
            "    :Donor: Michael Marshall (MARSHALL%PLU@io.arc.nasa.gov)\n",
            "    :Date: July, 1988\n",
            "\n",
            "The famous Iris database, first used by Sir R.A. Fisher. The dataset is taken\n",
            "from Fisher's paper. Note that it's the same as in R, but not as in the UCI\n",
            "Machine Learning Repository, which has two wrong data points.\n",
            "\n",
            "This is perhaps the best known database to be found in the\n",
            "pattern recognition literature.  Fisher's paper is a classic in the field and\n",
            "is referenced frequently to this day.  (See Duda & Hart, for example.)  The\n",
            "data set contains 3 classes of 50 instances each, where each class refers to a\n",
            "type of iris plant.  One class is linearly separable from the other 2; the\n",
            "latter are NOT linearly separable from each other.\n",
            "\n",
            ".. topic:: References\n",
            "\n",
            "   - Fisher, R.A. \"The use of multiple measurements in taxonomic problems\"\n",
            "     Annual Eugenics, 7, Part II, 179-188 (1936); also in \"Contributions to\n",
            "     Mathematical Statistics\" (John Wiley, NY, 1950).\n",
            "   - Duda, R.O., & Hart, P.E. (1973) Pattern Classification and Scene Analysis.\n",
            "     (Q327.D83) John Wiley & Sons.  ISBN 0-471-22361-1.  See page 218.\n",
            "   - Dasarathy, B.V. (1980) \"Nosing Around the Neighborhood: A New System\n",
            "     Structure and Classification Rule for Recognition in Partially Exposed\n",
            "     Environments\".  IEEE Transactions on Pattern Analysis and Machine\n",
            "     Intelligence, Vol. PAMI-2, No. 1, 67-71.\n",
            "   - Gates, G.W. (1972) \"The Reduced Nearest Neighbor Rule\".  IEEE Transactions\n",
            "     on Information Theory, May 1972, 431-433.\n",
            "   - See also: 1988 MLC Proceedings, 54-64.  Cheeseman et al\"s AUTOCLASS II\n",
            "     conceptual clustering system finds 3 classes in the data.\n",
            "   - Many, many more ...\n"
          ]
        }
      ]
    },
    {
      "cell_type": "code",
      "source": [
        "iris.feature_names"
      ],
      "metadata": {
        "colab": {
          "base_uri": "https://localhost:8080/"
        },
        "id": "xCDg7eBIXFKz",
        "outputId": "be565eeb-e129-44a7-d8ca-49b31de0de89"
      },
      "execution_count": 3,
      "outputs": [
        {
          "output_type": "execute_result",
          "data": {
            "text/plain": [
              "['sepal length (cm)',\n",
              " 'sepal width (cm)',\n",
              " 'petal length (cm)',\n",
              " 'petal width (cm)']"
            ]
          },
          "metadata": {},
          "execution_count": 3
        }
      ]
    },
    {
      "cell_type": "code",
      "source": [
        "print(iris.target_names)"
      ],
      "metadata": {
        "colab": {
          "base_uri": "https://localhost:8080/"
        },
        "id": "ykevkWTzXSXu",
        "outputId": "2cf4baad-79c0-4e44-e62b-e51f1d6826dc"
      },
      "execution_count": 4,
      "outputs": [
        {
          "output_type": "stream",
          "name": "stdout",
          "text": [
            "['setosa' 'versicolor' 'virginica']\n"
          ]
        }
      ]
    },
    {
      "cell_type": "code",
      "source": [
        "utrain,utest,vtrain,vtest=train_test_split(u,v,test_size=.25,random_state=25)\n",
        "print(utest)\n",
        "print(utrain)\n",
        "print(vtest)\n",
        "print(vtrain)"
      ],
      "metadata": {
        "colab": {
          "base_uri": "https://localhost:8080/"
        },
        "id": "-qcCEtNudh-U",
        "outputId": "4ef5ecdc-b9ca-4c0b-f374-b790a54973a4"
      },
      "execution_count": 8,
      "outputs": [
        {
          "output_type": "stream",
          "name": "stdout",
          "text": [
            "[0 1 1 1 2 1 2 0 1 1 0 0 0 2 0 1 2 2 1 1 1 1 1 0 0 2 1 2 2 0 1 2 2 0 2 1 1\n",
            " 0]\n",
            "[0 0 0 0 0 0 2 0 0 1 0 2 2 0 0 2 1 2 2 1 2 1 2 2 1 0 2 1 2 0 1 1 0 0 2 1 1\n",
            " 0 2 1 2 1 2 0 0 1 0 0 1 2 0 2 1 1 1 2 1 0 2 0 0 1 1 2 2 1 0 2 0 0 1 1 0 0\n",
            " 0 2 2 2 2 0 1 2 1 0 0 1 1 2 2 2 1 0 1 2 0 0 0 2 0 1 2 1 0 2 1 2 2 2 1 2 1\n",
            " 2]\n",
            "[[5.2 3.4 1.4 0.2]\n",
            " [6.3 2.5 4.9 1.5]\n",
            " [5.9 3.2 4.8 1.8]\n",
            " [6.  3.4 4.5 1.6]\n",
            " [6.4 2.8 5.6 2.1]\n",
            " [6.7 3.1 4.4 1.4]\n",
            " [6.1 3.  4.9 1.8]\n",
            " [4.4 3.2 1.3 0.2]\n",
            " [5.5 2.4 3.7 1. ]\n",
            " [5.  2.3 3.3 1. ]\n",
            " [5.1 3.7 1.5 0.4]\n",
            " [5.4 3.4 1.5 0.4]\n",
            " [5.  3.4 1.6 0.4]\n",
            " [6.3 2.8 5.1 1.5]\n",
            " [4.6 3.4 1.4 0.3]\n",
            " [6.6 2.9 4.6 1.3]\n",
            " [7.2 3.2 6.  1.8]\n",
            " [6.9 3.1 5.4 2.1]\n",
            " [5.6 2.9 3.6 1.3]\n",
            " [5.6 2.7 4.2 1.3]\n",
            " [5.7 2.6 3.5 1. ]\n",
            " [5.7 2.8 4.1 1.3]\n",
            " [5.6 3.  4.5 1.5]\n",
            " [5.4 3.4 1.7 0.2]\n",
            " [4.9 3.1 1.5 0.2]\n",
            " [7.7 3.8 6.7 2.2]\n",
            " [5.6 2.5 3.9 1.1]\n",
            " [7.7 2.8 6.7 2. ]\n",
            " [6.9 3.2 5.7 2.3]\n",
            " [4.5 2.3 1.3 0.3]\n",
            " [6.5 2.8 4.6 1.5]\n",
            " [5.7 2.5 5.  2. ]\n",
            " [7.7 3.  6.1 2.3]\n",
            " [5.  3.6 1.4 0.2]\n",
            " [6.4 3.2 5.3 2.3]\n",
            " [6.9 3.1 4.9 1.5]\n",
            " [6.2 2.2 4.5 1.5]\n",
            " [5.  3.5 1.3 0.3]]\n",
            "[[5.1 3.3 1.7 0.5]\n",
            " [5.  3.2 1.2 0.2]\n",
            " [5.4 3.9 1.3 0.4]\n",
            " [5.1 3.5 1.4 0.2]\n",
            " [4.4 2.9 1.4 0.2]\n",
            " [5.  3.  1.6 0.2]\n",
            " [6.  3.  4.8 1.8]\n",
            " [5.4 3.7 1.5 0.2]\n",
            " [5.5 4.2 1.4 0.2]\n",
            " [6.  2.9 4.5 1.5]\n",
            " [5.2 3.5 1.5 0.2]\n",
            " [5.6 2.8 4.9 2. ]\n",
            " [7.1 3.  5.9 2.1]\n",
            " [5.  3.4 1.5 0.2]\n",
            " [4.8 3.  1.4 0.1]\n",
            " [6.3 2.9 5.6 1.8]\n",
            " [5.8 2.7 3.9 1.2]\n",
            " [5.8 2.8 5.1 2.4]\n",
            " [6.7 3.  5.2 2.3]\n",
            " [5.7 2.8 4.5 1.3]\n",
            " [6.7 3.3 5.7 2.1]\n",
            " [5.7 3.  4.2 1.2]\n",
            " [6.2 2.8 4.8 1.8]\n",
            " [6.7 2.5 5.8 1.8]\n",
            " [5.5 2.4 3.8 1.1]\n",
            " [5.1 3.8 1.5 0.3]\n",
            " [6.  2.2 5.  1.5]\n",
            " [6.3 3.3 4.7 1.6]\n",
            " [6.5 3.2 5.1 2. ]\n",
            " [5.2 4.1 1.5 0.1]\n",
            " [5.2 2.7 3.9 1.4]\n",
            " [6.7 3.  5.  1.7]\n",
            " [4.9 3.1 1.5 0.1]\n",
            " [4.8 3.4 1.9 0.2]\n",
            " [6.7 3.3 5.7 2.5]\n",
            " [6.1 2.9 4.7 1.4]\n",
            " [6.6 3.  4.4 1.4]\n",
            " [5.1 3.8 1.9 0.4]\n",
            " [7.6 3.  6.6 2.1]\n",
            " [5.8 2.7 4.1 1. ]\n",
            " [5.8 2.7 5.1 1.9]\n",
            " [5.7 2.9 4.2 1.3]\n",
            " [6.5 3.  5.5 1.8]\n",
            " [4.3 3.  1.1 0.1]\n",
            " [4.7 3.2 1.6 0.2]\n",
            " [5.5 2.3 4.  1.3]\n",
            " [5.1 3.8 1.6 0.2]\n",
            " [5.1 3.4 1.5 0.2]\n",
            " [6.8 2.8 4.8 1.4]\n",
            " [6.3 2.7 4.9 1.8]\n",
            " [5.7 4.4 1.5 0.4]\n",
            " [6.2 3.4 5.4 2.3]\n",
            " [6.1 2.8 4.  1.3]\n",
            " [6.2 2.9 4.3 1.3]\n",
            " [6.4 3.2 4.5 1.5]\n",
            " [7.4 2.8 6.1 1.9]\n",
            " [6.3 2.3 4.4 1.3]\n",
            " [4.9 3.6 1.4 0.1]\n",
            " [6.3 3.3 6.  2.5]\n",
            " [5.8 4.  1.2 0.2]\n",
            " [5.1 3.5 1.4 0.3]\n",
            " [6.4 2.9 4.3 1.3]\n",
            " [6.  2.7 5.1 1.6]\n",
            " [6.4 3.1 5.5 1.8]\n",
            " [6.3 2.5 5.  1.9]\n",
            " [5.5 2.6 4.4 1.2]\n",
            " [5.  3.5 1.6 0.6]\n",
            " [6.4 2.7 5.3 1.9]\n",
            " [4.8 3.4 1.6 0.2]\n",
            " [4.6 3.6 1.  0.2]\n",
            " [6.1 2.8 4.7 1.2]\n",
            " [4.9 2.4 3.3 1. ]\n",
            " [5.4 3.9 1.7 0.4]\n",
            " [4.7 3.2 1.3 0.2]\n",
            " [4.4 3.  1.3 0.2]\n",
            " [6.8 3.  5.5 2.1]\n",
            " [7.3 2.9 6.3 1.8]\n",
            " [6.5 3.  5.8 2.2]\n",
            " [5.8 2.7 5.1 1.9]\n",
            " [4.8 3.1 1.6 0.2]\n",
            " [5.1 2.5 3.  1.1]\n",
            " [6.9 3.1 5.1 2.3]\n",
            " [5.8 2.6 4.  1.2]\n",
            " [5.7 3.8 1.7 0.3]\n",
            " [5.  3.3 1.4 0.2]\n",
            " [6.1 3.  4.6 1.4]\n",
            " [6.7 3.1 4.7 1.5]\n",
            " [6.1 2.6 5.6 1.4]\n",
            " [4.9 2.5 4.5 1.7]\n",
            " [6.5 3.  5.2 2. ]\n",
            " [5.  2.  3.5 1. ]\n",
            " [5.5 3.5 1.3 0.2]\n",
            " [7.  3.2 4.7 1.4]\n",
            " [7.2 3.6 6.1 2.5]\n",
            " [4.6 3.2 1.4 0.2]\n",
            " [5.3 3.7 1.5 0.2]\n",
            " [4.9 3.  1.4 0.2]\n",
            " [7.9 3.8 6.4 2. ]\n",
            " [4.8 3.  1.4 0.3]\n",
            " [5.4 3.  4.5 1.5]\n",
            " [6.7 3.1 5.6 2.4]\n",
            " [5.6 3.  4.1 1.3]\n",
            " [4.6 3.1 1.5 0.2]\n",
            " [7.2 3.  5.8 1.6]\n",
            " [5.5 2.5 4.  1.3]\n",
            " [5.9 3.  5.1 1.8]\n",
            " [6.3 3.4 5.6 2.4]\n",
            " [7.7 2.6 6.9 2.3]\n",
            " [5.9 3.  4.2 1.5]\n",
            " [6.8 3.2 5.9 2.3]\n",
            " [6.  2.2 4.  1. ]\n",
            " [6.4 2.8 5.6 2.2]]\n"
          ]
        }
      ]
    },
    {
      "cell_type": "code",
      "source": [
        "NB=GaussianNB()\n",
        "NB.fit(vtrain,utrain)\n",
        "u_predict=NB.predict(vtest)\n",
        "print(\"______test clas_______\",utest)\n",
        "print(\"______predict class______\",u_predict)\n",
        "print(\"Accuracy:\",accuracy_score(utest,u_predict,normalize=True))"
      ],
      "metadata": {
        "colab": {
          "base_uri": "https://localhost:8080/"
        },
        "id": "AuNvZ_1-ZAmC",
        "outputId": "a3e739db-a2b4-443d-d130-4ab11cc441f2"
      },
      "execution_count": 9,
      "outputs": [
        {
          "output_type": "stream",
          "name": "stdout",
          "text": [
            "______test clas_______ [0 1 1 1 2 1 2 0 1 1 0 0 0 2 0 1 2 2 1 1 1 1 1 0 0 2 1 2 2 0 1 2 2 0 2 1 1\n",
            " 0]\n",
            "______predict class______ [0 1 2 1 2 1 2 0 1 1 0 0 0 1 0 1 2 2 1 1 1 1 1 0 0 2 1 2 2 0 1 2 2 0 2 2 1\n",
            " 0]\n",
            "Accuracy: 0.9210526315789473\n"
          ]
        }
      ]
    },
    {
      "cell_type": "code",
      "source": [
        "cm=confusion_matrix(utest,u_predict,normalize=None)\n",
        "print(cm)\n",
        "cm_dis=ConfusionMatrixDisplay(confusion_matrix=cm)\n",
        "cm_dis.plot()\n",
        "plt.show"
      ],
      "metadata": {
        "colab": {
          "base_uri": "https://localhost:8080/",
          "height": 526
        },
        "id": "og6F5Qh2ehbS",
        "outputId": "55abfa1b-73de-4321-9b51-8053c5cd9e37"
      },
      "execution_count": 11,
      "outputs": [
        {
          "output_type": "stream",
          "name": "stdout",
          "text": [
            "[[11  0  0]\n",
            " [ 0 14  2]\n",
            " [ 0  1 10]]\n"
          ]
        },
        {
          "output_type": "execute_result",
          "data": {
            "text/plain": [
              "<function matplotlib.pyplot.show(close=None, block=None)>"
            ]
          },
          "metadata": {},
          "execution_count": 11
        },
        {
          "output_type": "display_data",
          "data": {
            "text/plain": [
              "<Figure size 640x480 with 2 Axes>"
            ],
            "image/png": "[encoded data removed]"
          },
          "metadata": {}
        }
      ]
    }
  ]
}