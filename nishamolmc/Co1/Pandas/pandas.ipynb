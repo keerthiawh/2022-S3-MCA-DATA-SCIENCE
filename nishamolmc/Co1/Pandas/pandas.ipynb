{
 "cells": [
  {
   "cell_type": "code",
   "execution_count": 10,
   "id": "096f5f5a",
   "metadata": {},
   "outputs": [
    {
     "name": "stdout",
     "output_type": "stream",
     "text": [
      "x    1\n",
      "y    2\n",
      "z    3\n",
      "dtype: int64\n",
      "\n",
      "\n",
      "1       red\n",
      "2      blue\n",
      "3     green\n",
      "4    yellow\n",
      "dtype: object\n"
     ]
    }
   ],
   "source": [
    "import pandas as pd\n",
    "a=[1,2,3]\n",
    "print(pd.Series(a,index=['x','y','z']))\n",
    "colors=['red','blue','green','yellow']\n",
    "print(\"\\n\")\n",
    "print(pd.Series(colors,index=[1,2,3,4]))\n"
   ]
  },
  {
   "cell_type": "code",
   "execution_count": 11,
   "id": "181b870d",
   "metadata": {},
   "outputs": [
    {
     "name": "stdout",
     "output_type": "stream",
     "text": [
      "\n",
      "\n",
      "mon      eng\n",
      "tue      mal\n",
      "wed    hindi\n",
      "dtype: object\n",
      "mon    [social, eng]\n",
      "tue              mal\n",
      "wed            hindi\n",
      "dtype: object\n"
     ]
    }
   ],
   "source": [
    "print('\\n')\n",
    "exam={'mon':'eng','tue':'mal','wed':'hindi'}\n",
    "eid=pd.Series(exam)\n",
    "print(eid)\n",
    "exam={'mon':['social','eng'],'tue':'mal','wed':'hindi'}\n",
    "eid=pd.Series(exam)\n",
    "print(eid)"
   ]
  },
  {
   "cell_type": "code",
   "execution_count": 15,
   "id": "c346c3f9",
   "metadata": {},
   "outputs": [
    {
     "name": "stdout",
     "output_type": "stream",
     "text": [
      "<class 'pandas.core.frame.DataFrame'>\n",
      "RangeIndex: 17 entries, 0 to 16\n",
      "Data columns (total 4 columns):\n",
      " #   Column       Non-Null Count  Dtype \n",
      "---  ------       --------------  ----- \n",
      " 0   Ingredient   17 non-null     object\n",
      " 1   Sweetness    16 non-null     object\n",
      " 2   Crunchiness  17 non-null     int64 \n",
      " 3   FoodType     17 non-null     object\n",
      "dtypes: int64(1), object(3)\n",
      "memory usage: 672.0+ bytes\n"
     ]
    }
   ],
   "source": [
    "import pandas as pd\n",
    "pf=pd.read_csv(\"food_cleaning.csv\")\n",
    "pf.info()"
   ]
  },
  {
   "cell_type": "code",
   "execution_count": 16,
   "id": "9abdbb7d",
   "metadata": {},
   "outputs": [
    {
     "data": {
      "text/html": [
       "<div>\n",
       "<style scoped>\n",
       "    .dataframe tbody tr th:only-of-type {\n",
       "        vertical-align: middle;\n",
       "    }\n",
       "\n",
       "    .dataframe tbody tr th {\n",
       "        vertical-align: top;\n",
       "    }\n",
       "\n",
       "    .dataframe thead th {\n",
       "        text-align: right;\n",
       "    }\n",
       "</style>\n",
       "<table border=\"1\" class=\"dataframe\">\n",
       "  <thead>\n",
       "    <tr style=\"text-align: right;\">\n",
       "      <th></th>\n",
       "      <th>Ingredient</th>\n",
       "      <th>Sweetness</th>\n",
       "      <th>Crunchiness</th>\n",
       "      <th>FoodType</th>\n",
       "    </tr>\n",
       "  </thead>\n",
       "  <tbody>\n",
       "    <tr>\n",
       "      <th>0</th>\n",
       "      <td>apple</td>\n",
       "      <td>10</td>\n",
       "      <td>9</td>\n",
       "      <td>fruit</td>\n",
       "    </tr>\n",
       "    <tr>\n",
       "      <th>1</th>\n",
       "      <td>bacon</td>\n",
       "      <td>1</td>\n",
       "      <td>4</td>\n",
       "      <td>protein</td>\n",
       "    </tr>\n",
       "    <tr>\n",
       "      <th>2</th>\n",
       "      <td>banana</td>\n",
       "      <td>10</td>\n",
       "      <td>1</td>\n",
       "      <td>fruit</td>\n",
       "    </tr>\n",
       "    <tr>\n",
       "      <th>3</th>\n",
       "      <td>carrot</td>\n",
       "      <td>7</td>\n",
       "      <td>10</td>\n",
       "      <td>vegetable</td>\n",
       "    </tr>\n",
       "    <tr>\n",
       "      <th>4</th>\n",
       "      <td>celery</td>\n",
       "      <td>NaN</td>\n",
       "      <td>10</td>\n",
       "      <td>vegetable</td>\n",
       "    </tr>\n",
       "  </tbody>\n",
       "</table>\n",
       "</div>"
      ],
      "text/plain": [
       "  Ingredient Sweetness  Crunchiness   FoodType\n",
       "0      apple        10            9      fruit\n",
       "1      bacon         1            4    protein\n",
       "2     banana        10            1      fruit\n",
       "3     carrot         7           10  vegetable\n",
       "4     celery       NaN           10  vegetable"
      ]
     },
     "execution_count": 16,
     "metadata": {},
     "output_type": "execute_result"
    }
   ],
   "source": [
    "pf.head()"
   ]
  },
  {
   "cell_type": "code",
   "execution_count": 20,
   "id": "d6c5a19f",
   "metadata": {},
   "outputs": [
    {
     "name": "stdout",
     "output_type": "stream",
     "text": [
      "    Ingredient Sweetness  Crunchiness   FoodType\n",
      "0        apple        10            9      fruit\n",
      "1        bacon         1            4    protein\n",
      "2       banana        10            1      fruit\n",
      "3       carrot         7           10  vegetable\n",
      "5       cheese         1            1    protein\n",
      "6     cucumber         2            8  vegetable\n",
      "7         fish         3            1        123\n",
      "8        grape         8            5      fruit\n",
      "9   green bean         3            7  vegetable\n",
      "10     lettuce        AA            9  vegetable\n",
      "11        nuts         3            6    protein\n",
      "12      orange         7            3      fruit\n",
      "13        pear        10            7      fruit\n",
      "14      shrimp         2            3    protein\n",
      "15      shrimp         2            3    protein\n",
      "16      banana        10            1      fruit\n"
     ]
    }
   ],
   "source": [
    "new_data=pf.dropna()\n",
    "print(new_data)"
   ]
  },
  {
   "cell_type": "code",
   "execution_count": 24,
   "id": "f1a8db06",
   "metadata": {},
   "outputs": [
    {
     "name": "stdout",
     "output_type": "stream",
     "text": [
      "    Ingredient Sweetness  Crunchiness   FoodType\n",
      "0        apple        10            9      fruit\n",
      "1        bacon         1            4    protein\n",
      "2       banana        10            1      fruit\n",
      "3       carrot         7           10  vegetable\n",
      "4       celery       NaN           10  vegetable\n",
      "5       cheese         1            1    protein\n",
      "6     cucumber         2            8  vegetable\n",
      "7         fish         3            1        123\n",
      "8        grape         8            5      fruit\n",
      "9   green bean         3            7  vegetable\n",
      "10     lettuce        AA            9  vegetable\n",
      "11        nuts         3            6    protein\n",
      "12      orange         7            3      fruit\n",
      "13        pear        10            7      fruit\n",
      "14      shrimp         2            3    protein\n"
     ]
    }
   ],
   "source": [
    "pf.duplicated().any()\n",
    "pf.drop_duplicates(inplace=True)\n",
    "print(pf)"
   ]
  },
  {
   "cell_type": "code",
   "execution_count": 32,
   "id": "b266d918",
   "metadata": {},
   "outputs": [
    {
     "name": "stdout",
     "output_type": "stream",
     "text": [
      "       Crunchiness\n",
      "count    15.000000\n",
      "mean      5.600000\n",
      "std       3.290679\n",
      "min       1.000000\n",
      "25%       3.000000\n",
      "50%       6.000000\n",
      "75%       8.500000\n",
      "max      10.000000\n"
     ]
    }
   ],
   "source": [
    "print(pf.describe())"
   ]
  },
  {
   "cell_type": "code",
   "execution_count": 21,
   "id": "38b44158",
   "metadata": {},
   "outputs": [
    {
     "name": "stdout",
     "output_type": "stream",
     "text": [
      "<class 'pandas.core.frame.DataFrame'>\n",
      "\n",
      "\n",
      "    Ingredient  Sweetness  Crunchiness   FoodType\n",
      "0        apple         10            9      fruit\n",
      "1        bacon          1            4    protein\n",
      "2       banana         10            1      fruit\n",
      "3       carrot          7           10  vegetable\n",
      "4       celery          3           10  vegetable\n",
      "5       cheese          1            1    protein\n",
      "6     cucumber          2            8  vegetable\n",
      "7         fish          3            1    protein\n",
      "8        grape          8            5      fruit\n",
      "9   green bean          3            7  vegetable\n",
      "10     lettuce          1            9  vegetable\n",
      "11        nuts          3            6    protein\n",
      "12      orange          7            3      fruit\n",
      "13        pear         10            7      fruit\n",
      "14      shrimp          2            3    protein\n"
     ]
    }
   ],
   "source": [
    "import pandas as pd\n",
    "df = pd.read_csv('food.csv')\n",
    "print(type(df))\n",
    "print('\\n')\n",
    "print(df)"
   ]
  },
  {
   "cell_type": "code",
   "execution_count": 22,
   "id": "cfa4676f",
   "metadata": {},
   "outputs": [
    {
     "name": "stdout",
     "output_type": "stream",
     "text": [
      "\n",
      "\n",
      "<class 'pandas.core.frame.DataFrame'>\n",
      "RangeIndex: 15 entries, 0 to 14\n",
      "Data columns (total 4 columns):\n",
      " #   Column       Non-Null Count  Dtype \n",
      "---  ------       --------------  ----- \n",
      " 0   Ingredient   15 non-null     object\n",
      " 1   Sweetness    15 non-null     int64 \n",
      " 2   Crunchiness  15 non-null     int64 \n",
      " 3   FoodType     15 non-null     object\n",
      "dtypes: int64(2), object(2)\n",
      "memory usage: 608.0+ bytes\n",
      "None\n"
     ]
    }
   ],
   "source": [
    "print(\"\\n\")\n",
    "print(df.info())"
   ]
  },
  {
   "cell_type": "code",
   "execution_count": 25,
   "id": "312335ae",
   "metadata": {},
   "outputs": [
    {
     "name": "stdout",
     "output_type": "stream",
     "text": [
      "\n",
      "\n",
      "  Ingredient  Sweetness  Crunchiness   FoodType\n",
      "0      apple         10            9      fruit\n",
      "1      bacon          1            4    protein\n",
      "2     banana         10            1      fruit\n",
      "3     carrot          7           10  vegetable\n",
      "4     celery          3           10  vegetable\n",
      "\n",
      "\n",
      "   Ingredient  Sweetness  Crunchiness FoodType\n",
      "13       pear         10            7    fruit\n",
      "14     shrimp          2            3  protein\n"
     ]
    }
   ],
   "source": [
    "print(\"\\n\")\n",
    "print(df.head(5))\n",
    "print(\"\\n\")\n",
    "print(df.tail(2))"
   ]
  },
  {
   "cell_type": "code",
   "execution_count": 33,
   "id": "af1cdf58",
   "metadata": {},
   "outputs": [
    {
     "name": "stdout",
     "output_type": "stream",
     "text": [
      "       Sweetness  Crunchiness\n",
      "count  15.000000    15.000000\n",
      "mean    4.733333     5.600000\n",
      "std     3.514595     3.290679\n",
      "min     1.000000     1.000000\n",
      "25%     2.000000     3.000000\n",
      "50%     3.000000     6.000000\n",
      "75%     7.500000     8.500000\n",
      "max    10.000000    10.000000\n"
     ]
    }
   ],
   "source": [
    "print(df.describe())"
   ]
  },
  {
   "cell_type": "code",
   "execution_count": 34,
   "id": "f513b9ae",
   "metadata": {},
   "outputs": [
    {
     "name": "stdout",
     "output_type": "stream",
     "text": [
      "             Sweetness  Crunchiness\n",
      "Sweetness     1.000000     0.070407\n",
      "Crunchiness   0.070407     1.000000\n"
     ]
    }
   ],
   "source": [
    "print(df.corr())"
   ]
  },
  {
   "cell_type": "code",
   "execution_count": 37,
   "id": "af19dc45",
   "metadata": {},
   "outputs": [
    {
     "name": "stdout",
     "output_type": "stream",
     "text": [
      "4.733333333333333\n"
     ]
    }
   ],
   "source": [
    "mean_value = df['Sweetness'].mean()\n",
    "print(mean_value)"
   ]
  },
  {
   "cell_type": "code",
   "execution_count": 38,
   "id": "612e875d",
   "metadata": {},
   "outputs": [
    {
     "name": "stdout",
     "output_type": "stream",
     "text": [
      "    Ingredient  Sweetness  Crunchiness   FoodType\n",
      "0        apple         10          9.0      fruit\n",
      "1        bacon          1          4.0    protein\n",
      "2       banana         10          1.0      fruit\n",
      "3       carrot          7         10.0  vegetable\n",
      "4       celery          3         10.0  vegetable\n",
      "5       cheese          1          1.0    protein\n",
      "6     cucumber          2          8.0  vegetable\n",
      "7         fish          3          1.0    protein\n",
      "8        grape          8          5.0      fruit\n",
      "9   green bean          3          7.0  vegetable\n",
      "10     lettuce          1          9.0  vegetable\n",
      "11        nuts          3          6.0    protein\n",
      "12      orange          7          3.0      fruit\n",
      "13        pear         10          7.0      fruit\n",
      "14      shrimp          2          3.0    protein\n"
     ]
    }
   ],
   "source": [
    "df['Crunchiness']=df['Crunchiness'].astype('float')\n",
    "print(df)"
   ]
  },
  {
   "cell_type": "code",
   "execution_count": null,
   "id": "abdaff73",
   "metadata": {},
   "outputs": [],
   "source": []
  }
 ],
 "metadata": {
  "kernelspec": {
   "display_name": "Python 3 (ipykernel)",
   "language": "python",
   "name": "python3"
  },
  "language_info": {
   "codemirror_mode": {
    "name": "ipython",
    "version": 3
   },
   "file_extension": ".py",
   "mimetype": "text/x-python",
   "name": "python",
   "nbconvert_exporter": "python",
   "pygments_lexer": "ipython3",
   "version": "3.9.7"
  }
 },
 "nbformat": 4,
 "nbformat_minor": 5
}
