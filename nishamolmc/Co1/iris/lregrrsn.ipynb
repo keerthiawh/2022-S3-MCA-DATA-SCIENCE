{
  "nbformat": 4,
  "nbformat_minor": 0,
  "metadata": {
    "colab": {
      "provenance": []
    },
    "kernelspec": {
      "name": "python3",
      "display_name": "Python 3"
    },
    "language_info": {
      "name": "python"
    }
  },
  "cells": [
    {
      "cell_type": "code",
      "execution_count": 36,
      "metadata": {
        "colab": {
          "base_uri": "https://localhost:8080/"
        },
        "id": "fxJhQwWTbydH",
        "outputId": "456d8c13-1e66-4a56-fdad-ed4dd54ec388"
      },
      "outputs": [
        {
          "output_type": "stream",
          "name": "stdout",
          "text": [
            ".. _iris_dataset:\n",
            "\n",
            "Iris plants dataset\n",
            "--------------------\n",
            "\n",
            "**Data Set Characteristics:**\n",
            "\n",
            "    :Number of Instances: 150 (50 in each of three classes)\n",
            "    :Number of Attributes: 4 numeric, predictive attributes and the class\n",
            "    :Attribute Information:\n",
            "        - sepal length in cm\n",
            "        - sepal width in cm\n",
            "        - petal length in cm\n",
            "        - petal width in cm\n",
            "        - class:\n",
            "                - Iris-Setosa\n",
            "                - Iris-Versicolour\n",
            "                - Iris-Virginica\n",
            "                \n",
            "    :Summary Statistics:\n",
            "\n",
            "    ============== ==== ==== ======= ===== ====================\n",
            "                    Min  Max   Mean    SD   Class Correlation\n",
            "    ============== ==== ==== ======= ===== ====================\n",
            "    sepal length:   4.3  7.9   5.84   0.83    0.7826\n",
            "    sepal width:    2.0  4.4   3.05   0.43   -0.4194\n",
            "    petal length:   1.0  6.9   3.76   1.76    0.9490  (high!)\n",
            "    petal width:    0.1  2.5   1.20   0.76    0.9565  (high!)\n",
            "    ============== ==== ==== ======= ===== ====================\n",
            "\n",
            "    :Missing Attribute Values: None\n",
            "    :Class Distribution: 33.3% for each of 3 classes.\n",
            "    :Creator: R.A. Fisher\n",
            "    :Donor: Michael Marshall (MARSHALL%PLU@io.arc.nasa.gov)\n",
            "    :Date: July, 1988\n",
            "\n",
            "The famous Iris database, first used by Sir R.A. Fisher. The dataset is taken\n",
            "from Fisher's paper. Note that it's the same as in R, but not as in the UCI\n",
            "Machine Learning Repository, which has two wrong data points.\n",
            "\n",
            "This is perhaps the best known database to be found in the\n",
            "pattern recognition literature.  Fisher's paper is a classic in the field and\n",
            "is referenced frequently to this day.  (See Duda & Hart, for example.)  The\n",
            "data set contains 3 classes of 50 instances each, where each class refers to a\n",
            "type of iris plant.  One class is linearly separable from the other 2; the\n",
            "latter are NOT linearly separable from each other.\n",
            "\n",
            ".. topic:: References\n",
            "\n",
            "   - Fisher, R.A. \"The use of multiple measurements in taxonomic problems\"\n",
            "     Annual Eugenics, 7, Part II, 179-188 (1936); also in \"Contributions to\n",
            "     Mathematical Statistics\" (John Wiley, NY, 1950).\n",
            "   - Duda, R.O., & Hart, P.E. (1973) Pattern Classification and Scene Analysis.\n",
            "     (Q327.D83) John Wiley & Sons.  ISBN 0-471-22361-1.  See page 218.\n",
            "   - Dasarathy, B.V. (1980) \"Nosing Around the Neighborhood: A New System\n",
            "     Structure and Classification Rule for Recognition in Partially Exposed\n",
            "     Environments\".  IEEE Transactions on Pattern Analysis and Machine\n",
            "     Intelligence, Vol. PAMI-2, No. 1, 67-71.\n",
            "   - Gates, G.W. (1972) \"The Reduced Nearest Neighbor Rule\".  IEEE Transactions\n",
            "     on Information Theory, May 1972, 431-433.\n",
            "   - See also: 1988 MLC Proceedings, 54-64.  Cheeseman et al\"s AUTOCLASS II\n",
            "     conceptual clustering system finds 3 classes in the data.\n",
            "   - Many, many more ...\n",
            "['sepal length (cm)', 'sepal width (cm)', 'petal length (cm)', 'petal width (cm)']\n",
            "['setosa' 'versicolor' 'virginica']\n"
          ]
        }
      ],
      "source": [
        "from sklearn.linear_model import LinearRegression\n",
        "from sklearn.metrics import mean_squared_error,r2_score\n",
        "from sklearn.model_selection import train_test_split\n",
        "from sklearn.preprocessing import LabelEncoder\n",
        "import matplotlib.pyplot as plt\n",
        "import pandas as pd\n",
        "from sklearn import datasets\n",
        "iris=datasets.load_iris()\n",
        "x_value=iris.data[:,0]\n",
        "y=iris.target\n",
        "print(iris.DESCR)\n",
        "print(iris.feature_names)\n",
        "print(iris.target_names)"
      ]
    },
    {
      "cell_type": "code",
      "source": [
        "print(x_value)\n",
        "\n",
        "x=x_value.reshape(150,1)\n",
        "print(x)"
      ],
      "metadata": {
        "colab": {
          "base_uri": "https://localhost:8080/"
        },
        "id": "7pmLMsuCc6Fg",
        "outputId": "01ca5ea6-fd20-422e-b385-5c1e847ba3e6"
      },
      "execution_count": 37,
      "outputs": [
        {
          "output_type": "stream",
          "name": "stdout",
          "text": [
            "[5.1 4.9 4.7 4.6 5.  5.4 4.6 5.  4.4 4.9 5.4 4.8 4.8 4.3 5.8 5.7 5.4 5.1\n",
            " 5.7 5.1 5.4 5.1 4.6 5.1 4.8 5.  5.  5.2 5.2 4.7 4.8 5.4 5.2 5.5 4.9 5.\n",
            " 5.5 4.9 4.4 5.1 5.  4.5 4.4 5.  5.1 4.8 5.1 4.6 5.3 5.  7.  6.4 6.9 5.5\n",
            " 6.5 5.7 6.3 4.9 6.6 5.2 5.  5.9 6.  6.1 5.6 6.7 5.6 5.8 6.2 5.6 5.9 6.1\n",
            " 6.3 6.1 6.4 6.6 6.8 6.7 6.  5.7 5.5 5.5 5.8 6.  5.4 6.  6.7 6.3 5.6 5.5\n",
            " 5.5 6.1 5.8 5.  5.6 5.7 5.7 6.2 5.1 5.7 6.3 5.8 7.1 6.3 6.5 7.6 4.9 7.3\n",
            " 6.7 7.2 6.5 6.4 6.8 5.7 5.8 6.4 6.5 7.7 7.7 6.  6.9 5.6 7.7 6.3 6.7 7.2\n",
            " 6.2 6.1 6.4 7.2 7.4 7.9 6.4 6.3 6.1 7.7 6.3 6.4 6.  6.9 6.7 6.9 5.8 6.8\n",
            " 6.7 6.7 6.3 6.5 6.2 5.9]\n",
            "[[5.1]\n",
            " [4.9]\n",
            " [4.7]\n",
            " [4.6]\n",
            " [5. ]\n",
            " [5.4]\n",
            " [4.6]\n",
            " [5. ]\n",
            " [4.4]\n",
            " [4.9]\n",
            " [5.4]\n",
            " [4.8]\n",
            " [4.8]\n",
            " [4.3]\n",
            " [5.8]\n",
            " [5.7]\n",
            " [5.4]\n",
            " [5.1]\n",
            " [5.7]\n",
            " [5.1]\n",
            " [5.4]\n",
            " [5.1]\n",
            " [4.6]\n",
            " [5.1]\n",
            " [4.8]\n",
            " [5. ]\n",
            " [5. ]\n",
            " [5.2]\n",
            " [5.2]\n",
            " [4.7]\n",
            " [4.8]\n",
            " [5.4]\n",
            " [5.2]\n",
            " [5.5]\n",
            " [4.9]\n",
            " [5. ]\n",
            " [5.5]\n",
            " [4.9]\n",
            " [4.4]\n",
            " [5.1]\n",
            " [5. ]\n",
            " [4.5]\n",
            " [4.4]\n",
            " [5. ]\n",
            " [5.1]\n",
            " [4.8]\n",
            " [5.1]\n",
            " [4.6]\n",
            " [5.3]\n",
            " [5. ]\n",
            " [7. ]\n",
            " [6.4]\n",
            " [6.9]\n",
            " [5.5]\n",
            " [6.5]\n",
            " [5.7]\n",
            " [6.3]\n",
            " [4.9]\n",
            " [6.6]\n",
            " [5.2]\n",
            " [5. ]\n",
            " [5.9]\n",
            " [6. ]\n",
            " [6.1]\n",
            " [5.6]\n",
            " [6.7]\n",
            " [5.6]\n",
            " [5.8]\n",
            " [6.2]\n",
            " [5.6]\n",
            " [5.9]\n",
            " [6.1]\n",
            " [6.3]\n",
            " [6.1]\n",
            " [6.4]\n",
            " [6.6]\n",
            " [6.8]\n",
            " [6.7]\n",
            " [6. ]\n",
            " [5.7]\n",
            " [5.5]\n",
            " [5.5]\n",
            " [5.8]\n",
            " [6. ]\n",
            " [5.4]\n",
            " [6. ]\n",
            " [6.7]\n",
            " [6.3]\n",
            " [5.6]\n",
            " [5.5]\n",
            " [5.5]\n",
            " [6.1]\n",
            " [5.8]\n",
            " [5. ]\n",
            " [5.6]\n",
            " [5.7]\n",
            " [5.7]\n",
            " [6.2]\n",
            " [5.1]\n",
            " [5.7]\n",
            " [6.3]\n",
            " [5.8]\n",
            " [7.1]\n",
            " [6.3]\n",
            " [6.5]\n",
            " [7.6]\n",
            " [4.9]\n",
            " [7.3]\n",
            " [6.7]\n",
            " [7.2]\n",
            " [6.5]\n",
            " [6.4]\n",
            " [6.8]\n",
            " [5.7]\n",
            " [5.8]\n",
            " [6.4]\n",
            " [6.5]\n",
            " [7.7]\n",
            " [7.7]\n",
            " [6. ]\n",
            " [6.9]\n",
            " [5.6]\n",
            " [7.7]\n",
            " [6.3]\n",
            " [6.7]\n",
            " [7.2]\n",
            " [6.2]\n",
            " [6.1]\n",
            " [6.4]\n",
            " [7.2]\n",
            " [7.4]\n",
            " [7.9]\n",
            " [6.4]\n",
            " [6.3]\n",
            " [6.1]\n",
            " [7.7]\n",
            " [6.3]\n",
            " [6.4]\n",
            " [6. ]\n",
            " [6.9]\n",
            " [6.7]\n",
            " [6.9]\n",
            " [5.8]\n",
            " [6.8]\n",
            " [6.7]\n",
            " [6.7]\n",
            " [6.3]\n",
            " [6.5]\n",
            " [6.2]\n",
            " [5.9]]\n"
          ]
        }
      ]
    },
    {
      "cell_type": "code",
      "source": [
        "x_train,x_test,y_train,y_test=train_test_split(x,y,test_size=.25,random_state=1)\n",
        "print(\"----------x_train-------\")\n",
        "print(x_train)\n",
        "print(\"----------x_test-------\")\n",
        "print(x_test)\n",
        "print(\"--------y_train---------\")\n",
        "print(y_train)\n",
        "print(\"----------y_test-------\")\n",
        "print(y_test)"
      ],
      "metadata": {
        "colab": {
          "base_uri": "https://localhost:8080/"
        },
        "id": "WKtlf1KbdGpw",
        "outputId": "b7b36225-dfc5-4ac7-d6cf-88aa2fd386dc"
      },
      "execution_count": 38,
      "outputs": [
        {
          "output_type": "stream",
          "name": "stdout",
          "text": [
            "----------x_train-------\n",
            "[[6.5]\n",
            " [6.7]\n",
            " [6.8]\n",
            " [5.1]\n",
            " [6. ]\n",
            " [6.3]\n",
            " [6.6]\n",
            " [7.7]\n",
            " [5.7]\n",
            " [5. ]\n",
            " [4.8]\n",
            " [5.2]\n",
            " [5.1]\n",
            " [5.5]\n",
            " [7.7]\n",
            " [6.9]\n",
            " [7.3]\n",
            " [6.4]\n",
            " [6.2]\n",
            " [6. ]\n",
            " [7.7]\n",
            " [5.7]\n",
            " [4.8]\n",
            " [5.7]\n",
            " [6.3]\n",
            " [4.8]\n",
            " [4.7]\n",
            " [6.5]\n",
            " [4.6]\n",
            " [6.1]\n",
            " [6.5]\n",
            " [6.7]\n",
            " [5.7]\n",
            " [6.7]\n",
            " [6. ]\n",
            " [5.1]\n",
            " [6. ]\n",
            " [6.4]\n",
            " [6.5]\n",
            " [5. ]\n",
            " [6.3]\n",
            " [5.5]\n",
            " [5.4]\n",
            " [4.9]\n",
            " [5.2]\n",
            " [6.7]\n",
            " [4.4]\n",
            " [6. ]\n",
            " [6.4]\n",
            " [5.9]\n",
            " [5.2]\n",
            " [5.1]\n",
            " [5.8]\n",
            " [4.9]\n",
            " [7.4]\n",
            " [6.2]\n",
            " [7.6]\n",
            " [6.7]\n",
            " [6.3]\n",
            " [6.2]\n",
            " [7.2]\n",
            " [5.6]\n",
            " [5.7]\n",
            " [5.8]\n",
            " [4.5]\n",
            " [5.5]\n",
            " [6.9]\n",
            " [5. ]\n",
            " [6.8]\n",
            " [5. ]\n",
            " [4.8]\n",
            " [6.3]\n",
            " [5.6]\n",
            " [6.8]\n",
            " [5. ]\n",
            " [5.1]\n",
            " [5.9]\n",
            " [4.6]\n",
            " [5.8]\n",
            " [4.8]\n",
            " [6.5]\n",
            " [4.9]\n",
            " [4.6]\n",
            " [6.4]\n",
            " [4.3]\n",
            " [5.6]\n",
            " [4.4]\n",
            " [5.5]\n",
            " [5. ]\n",
            " [5.1]\n",
            " [4.9]\n",
            " [4.9]\n",
            " [4.6]\n",
            " [5.9]\n",
            " [6.1]\n",
            " [5. ]\n",
            " [6.7]\n",
            " [5.7]\n",
            " [6.2]\n",
            " [7. ]\n",
            " [5.8]\n",
            " [5.4]\n",
            " [5. ]\n",
            " [6.1]\n",
            " [6.1]\n",
            " [7.2]\n",
            " [5.7]\n",
            " [6.3]\n",
            " [6.4]\n",
            " [6.3]\n",
            " [6.7]\n",
            " [4.9]]\n",
            "----------x_test-------\n",
            "[[5.8]\n",
            " [5.1]\n",
            " [6.6]\n",
            " [5.4]\n",
            " [7.9]\n",
            " [6.3]\n",
            " [6.9]\n",
            " [5.1]\n",
            " [4.7]\n",
            " [6.9]\n",
            " [5.6]\n",
            " [5.4]\n",
            " [7.1]\n",
            " [6.4]\n",
            " [6. ]\n",
            " [4.4]\n",
            " [5.8]\n",
            " [5.6]\n",
            " [5.4]\n",
            " [5. ]\n",
            " [5.5]\n",
            " [5.4]\n",
            " [6.7]\n",
            " [5. ]\n",
            " [7.2]\n",
            " [5.7]\n",
            " [5.5]\n",
            " [5.1]\n",
            " [6.1]\n",
            " [6.3]\n",
            " [6.1]\n",
            " [7.7]\n",
            " [5.6]\n",
            " [6.4]\n",
            " [5.8]\n",
            " [5.3]\n",
            " [5.5]\n",
            " [5.2]]\n",
            "--------y_train---------\n",
            "[1 2 2 0 2 2 1 2 0 0 0 1 0 0 2 2 2 2 2 1 2 1 0 2 2 0 0 2 0 2 2 1 1 2 2 0 1\n",
            " 1 2 1 2 1 0 0 0 2 0 1 2 2 0 0 1 0 2 1 2 2 1 2 2 1 0 1 0 1 1 0 1 0 0 2 2 2\n",
            " 0 0 1 0 2 0 2 2 0 2 0 1 0 1 1 0 0 1 0 1 1 0 1 1 1 1 2 0 0 2 1 2 1 2 2 1 2\n",
            " 0]\n",
            "----------y_test-------\n",
            "[0 1 1 0 2 1 2 0 0 2 1 0 2 1 1 0 1 1 0 0 1 1 1 0 2 1 0 0 1 2 1 2 1 2 2 0 1\n",
            " 0]\n"
          ]
        }
      ]
    },
    {
      "cell_type": "code",
      "source": [
        "print(\"Features\")\n",
        "print(iris.feature_names)"
      ],
      "metadata": {
        "colab": {
          "base_uri": "https://localhost:8080/"
        },
        "id": "I8KNArvmnQz6",
        "outputId": "bfee56b9-20f4-4857-ac0e-77eac52c3687"
      },
      "execution_count": 39,
      "outputs": [
        {
          "output_type": "stream",
          "name": "stdout",
          "text": [
            "Features\n",
            "['sepal length (cm)', 'sepal width (cm)', 'petal length (cm)', 'petal width (cm)']\n"
          ]
        }
      ]
    },
    {
      "cell_type": "code",
      "source": [
        "sl_reg=LinearRegression()\n",
        "sl_reg.fit(x_train,y_train)\n",
        "y_predict=sl_reg.predict(x_test)\n",
        "print(y_test)\n",
        "print(y_predict)"
      ],
      "metadata": {
        "colab": {
          "base_uri": "https://localhost:8080/"
        },
        "id": "XHrSyraMfuaA",
        "outputId": "fc89cfa6-9921-4146-e0e8-659fd15d0a17"
      },
      "execution_count": 40,
      "outputs": [
        {
          "output_type": "stream",
          "name": "stdout",
          "text": [
            "[0 1 1 0 2 1 2 0 0 2 1 0 2 1 1 0 1 1 0 0 1 1 1 0 2 1 0 0 1 2 1 2 1 2 2 0 1\n",
            " 0]\n",
            "[ 1.01195881  0.46418554  1.63798541  0.69894551  2.65527863  1.40322544\n",
            "  1.87274539  0.46418554  0.15117224  1.87274539  0.85545216  0.69894551\n",
            "  2.02925203  1.48147876  1.16846546 -0.08358774  1.01195881  0.85545216\n",
            "  0.69894551  0.38593221  0.77719884  0.69894551  1.71623874  0.38593221\n",
            "  2.10750536  0.93370549  0.77719884  0.46418554  1.24671879  1.40322544\n",
            "  1.24671879  2.49877198  0.85545216  1.48147876  1.01195881  0.62069219\n",
            "  0.77719884  0.54243886]\n"
          ]
        }
      ]
    },
    {
      "cell_type": "code",
      "source": [
        "print(sl_reg.coef_)\n",
        "print(sl_reg.intercept_)"
      ],
      "metadata": {
        "colab": {
          "base_uri": "https://localhost:8080/"
        },
        "id": "7N7mLpSDdJ8A",
        "outputId": "6e4b8056-03dd-4dc4-e9e2-579e64893741"
      },
      "execution_count": 41,
      "outputs": [
        {
          "output_type": "stream",
          "name": "stdout",
          "text": [
            "[0.78253325]\n",
            "-3.5267340277554595\n"
          ]
        }
      ]
    },
    {
      "cell_type": "code",
      "source": [
        "x_train,x_test,y_train,y_test=train_test_split(x,y,test_size=.25,random_state=1)\n",
        "print(\"----------y_test-------\")\n",
        "print(y_test)"
      ],
      "metadata": {
        "colab": {
          "base_uri": "https://localhost:8080/"
        },
        "id": "JjZZx5FvloOK",
        "outputId": "0c800f16-6cf0-4362-f669-992e8a6d9966"
      },
      "execution_count": 32,
      "outputs": [
        {
          "output_type": "stream",
          "name": "stdout",
          "text": [
            "----------y_test-------\n",
            "[0 1 1 0 2 1 2 0 0 2 1 0 2 1 1 0 1 1 0 0 1 1 1 0 2 1 0 0 1 2 1 2 1 2 2 0 1\n",
            " 0]\n"
          ]
        }
      ]
    },
    {
      "cell_type": "code",
      "source": [
        "sl_reg=LinearRegression()\n",
        "sl_reg.fit(x_train,y_train)\n",
        "y_predict=sl_reg.predict(x_test)\n",
        "print(y_test)\n",
        "print(y_predict)"
      ],
      "metadata": {
        "colab": {
          "base_uri": "https://localhost:8080/"
        },
        "id": "4r1FTBfVeDow",
        "outputId": "6edf98eb-c4e6-4896-c886-a4e59b5eb192"
      },
      "execution_count": 33,
      "outputs": [
        {
          "output_type": "stream",
          "name": "stdout",
          "text": [
            "[0 1 1 0 2 1 2 0 0 2 1 0 2 1 1 0 1 1 0 0 1 1 1 0 2 1 0 0 1 2 1 2 1 2 2 0 1\n",
            " 0]\n",
            "[-0.32592601  0.87460472  1.15646699 -0.10325012  1.83913817  1.42913499\n",
            "  1.75943511  0.17340773  0.06135701  1.96800975  1.27032412  0.03509706\n",
            "  1.8927266   1.28773302  1.37815934  0.02778758  1.10552517  1.47280115\n",
            " -0.0393459  -0.14718112  1.31406331  1.51959512  1.48392332 -0.06165519\n",
            "  1.76269162  1.21339421 -0.18445372 -0.01271697  1.27954953  1.66779692\n",
            "  1.34262551  1.91707331  1.06890096  1.95063736  2.06141783 -0.10834232\n",
            "  1.22033202 -0.12269376]\n"
          ]
        }
      ]
    },
    {
      "cell_type": "code",
      "source": [
        "print(s1_reg.coef_)\n",
        "print(s1_reg.intercept_)"
      ],
      "metadata": {
        "colab": {
          "base_uri": "https://localhost:8080/"
        },
        "id": "HcnS74QneJ0O",
        "outputId": "9051afae-560e-457e-9f48-ed3c25a6f86d"
      },
      "execution_count": 34,
      "outputs": [
        {
          "output_type": "stream",
          "name": "stdout",
          "text": [
            "[-0.23396985  0.01053874  0.34586796  0.47777514]\n",
            "0.47834759229234214\n"
          ]
        }
      ]
    },
    {
      "cell_type": "code",
      "source": [
        "plt.scatter(x_test,y_test,marker='*',color='red')\n",
        "plt.plot(x_test,y_predict,marker='.',color='green')\n",
        "plt.xlabel('actual value')\n",
        "plt.ylabel('predicted value')"
      ],
      "metadata": {
        "colab": {
          "base_uri": "https://localhost:8080/",
          "height": 466
        },
        "id": "W_cWk-PWeWcG",
        "outputId": "791f2b0b-bfdb-438e-9f4f-0f8b251b88c5"
      },
      "execution_count": 42,
      "outputs": [
        {
          "output_type": "execute_result",
          "data": {
            "text/plain": [
              "Text(0, 0.5, 'predicted value')"
            ]
          },
          "metadata": {},
          "execution_count": 42
        },
        {
          "output_type": "display_data",
          "data": {
            "text/plain": [
              "<Figure size 640x480 with 1 Axes>"
            ],
            "image/png": "[encoded data removed]"
          },
          "metadata": {}
        }
      ]
    },
    {
      "cell_type": "code",
      "source": [
        "mrs=mean_squared_error(y_test,y_predict)\n",
        "rs=r2_score(y_test,y_predict)"
      ],
      "metadata": {
        "id": "2MkPBqeAgbua"
      },
      "execution_count": 43,
      "outputs": []
    },
    {
      "cell_type": "code",
      "source": [
        "print('mean_squared_error:',mrs)\n",
        "print('r2_score:',rs)"
      ],
      "metadata": {
        "id": "pfxYfG0HJbMo",
        "outputId": "ce1ed0ee-cdcc-438d-fc2c-812e7d287b61",
        "colab": {
          "base_uri": "https://localhost:8080/"
        }
      },
      "execution_count": 44,
      "outputs": [
        {
          "output_type": "stream",
          "name": "stdout",
          "text": [
            "mean_squared_error: 0.23328468265180238\n",
            "r2_score: 0.5891913637204844\n"
          ]
        }
      ]
    }
  ]
}