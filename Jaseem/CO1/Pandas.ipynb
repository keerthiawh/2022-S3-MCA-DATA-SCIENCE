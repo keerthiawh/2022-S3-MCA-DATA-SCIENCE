{
 "cells": [
  {
   "cell_type": "code",
   "execution_count": 12,
   "id": "b649a064",
   "metadata": {},
   "outputs": [
    {
     "name": "stdout",
     "output_type": "stream",
     "text": [
      "Type of file is ::  <class 'pandas.core.frame.DataFrame'>\n",
      "\n",
      "\n",
      "    Ingredient Sweetness  Crunchiness   FoodType\n",
      "0        apple        10            9      fruit\n",
      "1        bacon         1            4    protein\n",
      "2       banana        10            1      fruit\n",
      "3       carrot         7           10  vegetable\n",
      "4       celery       NaN           10  vegetable\n",
      "5       cheese         1            1    protein\n",
      "6     cucumber         2            8  vegetable\n",
      "7         fish         3            1        123\n",
      "8        grape         8            5      fruit\n",
      "9   green bean         3            7  vegetable\n",
      "10     lettuce        AA            9  vegetable\n",
      "11        nuts         3            6    protein\n",
      "12      orange         7            3      fruit\n",
      "13        pear        10            7      fruit\n",
      "14      shrimp         2            3    protein\n",
      "15      shrimp         2            3    protein\n",
      "16      banana        10            1      fruit\n"
     ]
    }
   ],
   "source": [
    "import pandas as pd\n",
    "file = pd.read_csv(\"food_cleaning.CSV\")\n",
    "print(\"Type of file is :: \",type(file))\n",
    "print(\"\\n\")\n",
    "print(file)\n"
   ]
  },
  {
   "cell_type": "code",
   "execution_count": 15,
   "id": "eb0e4ac5",
   "metadata": {},
   "outputs": [
    {
     "name": "stdout",
     "output_type": "stream",
     "text": [
      "<class 'pandas.core.frame.DataFrame'>\n",
      "RangeIndex: 17 entries, 0 to 16\n",
      "Data columns (total 4 columns):\n",
      " #   Column       Non-Null Count  Dtype \n",
      "---  ------       --------------  ----- \n",
      " 0   Ingredient   17 non-null     object\n",
      " 1   Sweetness    16 non-null     object\n",
      " 2   Crunchiness  17 non-null     int64 \n",
      " 3   FoodType     17 non-null     object\n",
      "dtypes: int64(1), object(3)\n",
      "memory usage: 672.0+ bytes\n"
     ]
    }
   ],
   "source": [
    "file.info()"
   ]
  },
  {
   "cell_type": "code",
   "execution_count": 16,
   "id": "0b7b4f49",
   "metadata": {},
   "outputs": [
    {
     "name": "stdout",
     "output_type": "stream",
     "text": [
      "    Ingredient  Sweetness  Crunchiness   FoodType\n",
      "0        apple         10            9      fruit\n",
      "1        bacon          1            4    protein\n",
      "2       banana         10            1      fruit\n",
      "3       carrot          7           10  vegetable\n",
      "4       celery          3           10  vegetable\n",
      "5       cheese          1            1    protein\n",
      "6     cucumber          2            8  vegetable\n",
      "7         fish          3            1    protein\n",
      "8        grape          8            5      fruit\n",
      "9   green bean          3            7  vegetable\n",
      "10     lettuce          1            9  vegetable\n",
      "11        nuts          3            6    protein\n",
      "12      orange          7            3      fruit\n",
      "13        pear         10            7      fruit\n",
      "14      shrimp          2            3    protein\n"
     ]
    }
   ],
   "source": [
    "file2 = pd.read_csv(\"food.csv\")\n",
    "print(file2)\n"
   ]
  },
  {
   "cell_type": "code",
   "execution_count": 17,
   "id": "e74fecd8",
   "metadata": {},
   "outputs": [
    {
     "data": {
      "text/html": [
       "<div>\n",
       "<style scoped>\n",
       "    .dataframe tbody tr th:only-of-type {\n",
       "        vertical-align: middle;\n",
       "    }\n",
       "\n",
       "    .dataframe tbody tr th {\n",
       "        vertical-align: top;\n",
       "    }\n",
       "\n",
       "    .dataframe thead th {\n",
       "        text-align: right;\n",
       "    }\n",
       "</style>\n",
       "<table border=\"1\" class=\"dataframe\">\n",
       "  <thead>\n",
       "    <tr style=\"text-align: right;\">\n",
       "      <th></th>\n",
       "      <th>Ingredient</th>\n",
       "      <th>Sweetness</th>\n",
       "      <th>Crunchiness</th>\n",
       "      <th>FoodType</th>\n",
       "    </tr>\n",
       "  </thead>\n",
       "  <tbody>\n",
       "    <tr>\n",
       "      <th>10</th>\n",
       "      <td>lettuce</td>\n",
       "      <td>1</td>\n",
       "      <td>9</td>\n",
       "      <td>vegetable</td>\n",
       "    </tr>\n",
       "    <tr>\n",
       "      <th>11</th>\n",
       "      <td>nuts</td>\n",
       "      <td>3</td>\n",
       "      <td>6</td>\n",
       "      <td>protein</td>\n",
       "    </tr>\n",
       "    <tr>\n",
       "      <th>12</th>\n",
       "      <td>orange</td>\n",
       "      <td>7</td>\n",
       "      <td>3</td>\n",
       "      <td>fruit</td>\n",
       "    </tr>\n",
       "    <tr>\n",
       "      <th>13</th>\n",
       "      <td>pear</td>\n",
       "      <td>10</td>\n",
       "      <td>7</td>\n",
       "      <td>fruit</td>\n",
       "    </tr>\n",
       "    <tr>\n",
       "      <th>14</th>\n",
       "      <td>shrimp</td>\n",
       "      <td>2</td>\n",
       "      <td>3</td>\n",
       "      <td>protein</td>\n",
       "    </tr>\n",
       "  </tbody>\n",
       "</table>\n",
       "</div>"
      ],
      "text/plain": [
       "   Ingredient  Sweetness  Crunchiness   FoodType\n",
       "10    lettuce          1            9  vegetable\n",
       "11       nuts          3            6    protein\n",
       "12     orange          7            3      fruit\n",
       "13       pear         10            7      fruit\n",
       "14     shrimp          2            3    protein"
      ]
     },
     "execution_count": 17,
     "metadata": {},
     "output_type": "execute_result"
    }
   ],
   "source": [
    "file2.tail()"
   ]
  },
  {
   "cell_type": "code",
   "execution_count": 19,
   "id": "56e12dbc",
   "metadata": {},
   "outputs": [
    {
     "data": {
      "text/html": [
       "<div>\n",
       "<style scoped>\n",
       "    .dataframe tbody tr th:only-of-type {\n",
       "        vertical-align: middle;\n",
       "    }\n",
       "\n",
       "    .dataframe tbody tr th {\n",
       "        vertical-align: top;\n",
       "    }\n",
       "\n",
       "    .dataframe thead th {\n",
       "        text-align: right;\n",
       "    }\n",
       "</style>\n",
       "<table border=\"1\" class=\"dataframe\">\n",
       "  <thead>\n",
       "    <tr style=\"text-align: right;\">\n",
       "      <th></th>\n",
       "      <th>Ingredient</th>\n",
       "      <th>Sweetness</th>\n",
       "      <th>Crunchiness</th>\n",
       "      <th>FoodType</th>\n",
       "    </tr>\n",
       "  </thead>\n",
       "  <tbody>\n",
       "    <tr>\n",
       "      <th>0</th>\n",
       "      <td>apple</td>\n",
       "      <td>10</td>\n",
       "      <td>9</td>\n",
       "      <td>fruit</td>\n",
       "    </tr>\n",
       "    <tr>\n",
       "      <th>1</th>\n",
       "      <td>bacon</td>\n",
       "      <td>1</td>\n",
       "      <td>4</td>\n",
       "      <td>protein</td>\n",
       "    </tr>\n",
       "    <tr>\n",
       "      <th>2</th>\n",
       "      <td>banana</td>\n",
       "      <td>10</td>\n",
       "      <td>1</td>\n",
       "      <td>fruit</td>\n",
       "    </tr>\n",
       "    <tr>\n",
       "      <th>3</th>\n",
       "      <td>carrot</td>\n",
       "      <td>7</td>\n",
       "      <td>10</td>\n",
       "      <td>vegetable</td>\n",
       "    </tr>\n",
       "    <tr>\n",
       "      <th>4</th>\n",
       "      <td>celery</td>\n",
       "      <td>3</td>\n",
       "      <td>10</td>\n",
       "      <td>vegetable</td>\n",
       "    </tr>\n",
       "  </tbody>\n",
       "</table>\n",
       "</div>"
      ],
      "text/plain": [
       "  Ingredient  Sweetness  Crunchiness   FoodType\n",
       "0      apple         10            9      fruit\n",
       "1      bacon          1            4    protein\n",
       "2     banana         10            1      fruit\n",
       "3     carrot          7           10  vegetable\n",
       "4     celery          3           10  vegetable"
      ]
     },
     "execution_count": 19,
     "metadata": {},
     "output_type": "execute_result"
    }
   ],
   "source": [
    "file2.head()"
   ]
  },
  {
   "cell_type": "code",
   "execution_count": 21,
   "id": "96a951d1",
   "metadata": {},
   "outputs": [
    {
     "name": "stdout",
     "output_type": "stream",
     "text": [
      "1    Jaseem\n",
      "2    Adwait\n",
      "3      Hani\n",
      "dtype: object\n"
     ]
    }
   ],
   "source": [
    "a=[1,2,3]\n",
    "b=[\"Jaseem\",\"Adwait\",\"Hani\"]\n",
    "print(pd.Series(b,index=a))"
   ]
  },
  {
   "cell_type": "code",
   "execution_count": 40,
   "id": "445e09fc",
   "metadata": {},
   "outputs": [
    {
     "name": "stdout",
     "output_type": "stream",
     "text": [
      "             Crunchiness\n",
      "Crunchiness          1.0\n"
     ]
    }
   ],
   "source": [
    "print(file.corr(method='pearson'))"
   ]
  },
  {
   "cell_type": "code",
   "execution_count": 24,
   "id": "05b8b9ff",
   "metadata": {},
   "outputs": [
    {
     "name": "stdout",
     "output_type": "stream",
     "text": [
      "       Crunchiness\n",
      "count    17.000000\n",
      "mean      5.176471\n",
      "std       3.321056\n",
      "min       1.000000\n",
      "25%       3.000000\n",
      "50%       5.000000\n",
      "75%       8.000000\n",
      "max      10.000000\n"
     ]
    }
   ],
   "source": [
    "print(file.describe())"
   ]
  },
  {
   "cell_type": "code",
   "execution_count": 36,
   "id": "76a733a7",
   "metadata": {},
   "outputs": [
    {
     "name": "stdout",
     "output_type": "stream",
     "text": [
      "Crunchiness    3.180671\n",
      "dtype: float64\n"
     ]
    },
    {
     "name": "stderr",
     "output_type": "stream",
     "text": [
      "C:\\Users\\MCA01\\AppData\\Local\\Temp/ipykernel_15336/905215342.py:1: FutureWarning: Dropping of nuisance columns in DataFrame reductions (with 'numeric_only=None') is deprecated; in a future version this will raise TypeError.  Select only valid columns before calling the reduction.\n",
      "  print(file.std())\n"
     ]
    }
   ],
   "source": [
    "print(file.std())"
   ]
  },
  {
   "cell_type": "code",
   "execution_count": 27,
   "id": "9da3e5ac",
   "metadata": {},
   "outputs": [
    {
     "name": "stdout",
     "output_type": "stream",
     "text": [
      "mon          eng\n",
      "Tue    Malayalam\n",
      "dtype: object\n"
     ]
    }
   ],
   "source": [
    "print(pd.Series(exam))"
   ]
  },
  {
   "cell_type": "code",
   "execution_count": 28,
   "id": "960c7d09",
   "metadata": {},
   "outputs": [
    {
     "name": "stdout",
     "output_type": "stream",
     "text": [
      "    Ingredient Sweetness  Crunchiness   FoodType\n",
      "0        apple        10            9      fruit\n",
      "1        bacon         1            4    protein\n",
      "2       banana        10            1      fruit\n",
      "3       carrot         7           10  vegetable\n",
      "5       cheese         1            1    protein\n",
      "6     cucumber         2            8  vegetable\n",
      "7         fish         3            1        123\n",
      "8        grape         8            5      fruit\n",
      "9   green bean         3            7  vegetable\n",
      "10     lettuce        AA            9  vegetable\n",
      "11        nuts         3            6    protein\n",
      "12      orange         7            3      fruit\n",
      "13        pear        10            7      fruit\n",
      "14      shrimp         2            3    protein\n",
      "15      shrimp         2            3    protein\n",
      "16      banana        10            1      fruit\n"
     ]
    }
   ],
   "source": [
    "new_df = file.dropna()\n",
    "\n",
    "print(new_df.to_string())"
   ]
  },
  {
   "cell_type": "code",
   "execution_count": 29,
   "id": "8eff8e4d",
   "metadata": {},
   "outputs": [
    {
     "name": "stdout",
     "output_type": "stream",
     "text": [
      "    Ingredient Sweetness  Crunchiness   FoodType\n",
      "0        apple        10            9      fruit\n",
      "1        bacon         1            4    protein\n",
      "2       banana        10            1      fruit\n",
      "3       carrot         7           10  vegetable\n",
      "5       cheese         1            1    protein\n",
      "6     cucumber         2            8  vegetable\n",
      "7         fish         3            1        123\n",
      "8        grape         8            5      fruit\n",
      "9   green bean         3            7  vegetable\n",
      "10     lettuce        AA            9  vegetable\n",
      "11        nuts         3            6    protein\n",
      "12      orange         7            3      fruit\n",
      "13        pear        10            7      fruit\n",
      "14      shrimp         2            3    protein\n",
      "15      shrimp         2            3    protein\n",
      "16      banana        10            1      fruit\n"
     ]
    }
   ],
   "source": [
    "file.dropna(inplace = True)\n",
    "\n",
    "print(file.to_string())"
   ]
  },
  {
   "cell_type": "code",
   "execution_count": 31,
   "id": "2a56f309",
   "metadata": {},
   "outputs": [
    {
     "name": "stdout",
     "output_type": "stream",
     "text": [
      "   ROLL NO ADMISSION NO REGISTER NUMBER         DEGREE  SEM ACADEMIC YEAR\n",
      "0        1      A22 656   AWH22MCA-2001  MCA TWO YEARS   S1   2022 - 2023\n",
      "1        2    A22LAP623   AWH22MCA-2002  MCA TWO YEARS   S1   2022 - 2023\n",
      "2        3  A22 LAP 619   2003-AWH22MCA  MCA TWO YEARS   S1   2022 - 2023\n",
      "3        4  A22 LAP 620   AWH22MCA-2004  MCA TWO YEARS   S1   2022 - 2023\n",
      "4        5  A22 LAP 618   AWH22MCA-2007  MCA TWO YEARS   S1   2022 - 2023\n",
      "5        6      A22 654   AWH22MCA-2006            NaN   S1   2022 - 2023\n",
      "6        7  A22 LAP 621   AWH22MCA-2005  MCA TWO YEARS   S1   2022 - 2023\n",
      "7        8    A22LAP627   AWH22MCA-2008  MCA TWO YEARS   S1   2022 - 2023\n",
      "8       AA      A22 640   AWH22MCA-2009  MCA TWO YEARS  123         22-23\n",
      "9       10      A22G607   AWH22MCA-2010  MCA TWO YEARS   S1   2022 - 2023\n",
      "10      10      A22G607   AWH22MCA-2010  MCA TWO YEARS   S1   2022 - 2023\n",
      "11       6      A22 654   AWH22MCA-2006            NaN   S1   2022 - 2023\n"
     ]
    }
   ],
   "source": [
    "file3 = pd.read_csv(\"food 3.csv\")\n",
    "print(file3)"
   ]
  },
  {
   "cell_type": "code",
   "execution_count": 32,
   "id": "37f1a3e3",
   "metadata": {},
   "outputs": [
    {
     "name": "stdout",
     "output_type": "stream",
     "text": [
      "   ROLL NO ADMISSION NO REGISTER NUMBER         DEGREE  SEM ACADEMIC YEAR\n",
      "0        1      A22 656   AWH22MCA-2001  MCA TWO YEARS   S1   2022 - 2023\n",
      "1        2    A22LAP623   AWH22MCA-2002  MCA TWO YEARS   S1   2022 - 2023\n",
      "2        3  A22 LAP 619   2003-AWH22MCA  MCA TWO YEARS   S1   2022 - 2023\n",
      "3        4  A22 LAP 620   AWH22MCA-2004  MCA TWO YEARS   S1   2022 - 2023\n",
      "4        5  A22 LAP 618   AWH22MCA-2007  MCA TWO YEARS   S1   2022 - 2023\n",
      "5        6      A22 654   AWH22MCA-2006          BTECH   S1   2022 - 2023\n",
      "6        7  A22 LAP 621   AWH22MCA-2005  MCA TWO YEARS   S1   2022 - 2023\n",
      "7        8    A22LAP627   AWH22MCA-2008  MCA TWO YEARS   S1   2022 - 2023\n",
      "8       AA      A22 640   AWH22MCA-2009  MCA TWO YEARS  123         22-23\n",
      "9       10      A22G607   AWH22MCA-2010  MCA TWO YEARS   S1   2022 - 2023\n",
      "10      10      A22G607   AWH22MCA-2010  MCA TWO YEARS   S1   2022 - 2023\n",
      "11       6      A22 654   AWH22MCA-2006          BTECH   S1   2022 - 2023\n"
     ]
    }
   ],
   "source": [
    "print(file3.fillna(\"BTECH\"))"
   ]
  },
  {
   "cell_type": "code",
   "execution_count": 33,
   "id": "2df45ef9",
   "metadata": {},
   "outputs": [
    {
     "name": "stdout",
     "output_type": "stream",
     "text": [
      "0     False\n",
      "1     False\n",
      "2     False\n",
      "3     False\n",
      "4     False\n",
      "5     False\n",
      "6     False\n",
      "7     False\n",
      "8     False\n",
      "9     False\n",
      "10     True\n",
      "11     True\n",
      "dtype: bool\n"
     ]
    }
   ],
   "source": [
    "print(file3.duplicated())"
   ]
  },
  {
   "cell_type": "code",
   "execution_count": 38,
   "id": "16f04fad",
   "metadata": {},
   "outputs": [
    {
     "ename": "TypeError",
     "evalue": "'tuple' object is not callable",
     "output_type": "error",
     "traceback": [
      "\u001b[1;31m---------------------------------------------------------------------------\u001b[0m",
      "\u001b[1;31mTypeError\u001b[0m                                 Traceback (most recent call last)",
      "\u001b[1;32m~\\AppData\\Local\\Temp/ipykernel_15336/1250232527.py\u001b[0m in \u001b[0;36m<module>\u001b[1;34m\u001b[0m\n\u001b[1;32m----> 1\u001b[1;33m \u001b[0mprint\u001b[0m\u001b[1;33m(\u001b[0m\u001b[0mfile3\u001b[0m\u001b[1;33m.\u001b[0m\u001b[0mshape\u001b[0m\u001b[1;33m(\u001b[0m\u001b[1;33m)\u001b[0m\u001b[1;33m)\u001b[0m\u001b[1;33m\u001b[0m\u001b[1;33m\u001b[0m\u001b[0m\n\u001b[0m",
      "\u001b[1;31mTypeError\u001b[0m: 'tuple' object is not callable"
     ]
    }
   ],
   "source": [
    "print(file3.shape())"
   ]
  },
  {
   "cell_type": "code",
   "execution_count": null,
   "id": "1c815a16",
   "metadata": {},
   "outputs": [],
   "source": []
  }
 ],
 "metadata": {
  "kernelspec": {
   "display_name": "Python 3 (ipykernel)",
   "language": "python",
   "name": "python3"
  },
  "language_info": {
   "codemirror_mode": {
    "name": "ipython",
    "version": 3
   },
   "file_extension": ".py",
   "mimetype": "text/x-python",
   "name": "python",
   "nbconvert_exporter": "python",
   "pygments_lexer": "ipython3",
   "version": "3.9.7"
  }
 },
 "nbformat": 4,
 "nbformat_minor": 5
}
