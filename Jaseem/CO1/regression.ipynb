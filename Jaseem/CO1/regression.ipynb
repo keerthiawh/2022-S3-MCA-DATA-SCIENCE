{
 "cells": [
  {
   "cell_type": "code",
   "execution_count": 38,
   "id": "ca991196",
   "metadata": {},
   "outputs": [],
   "source": [
    "from sklearn.linear_model import LinearRegression \n",
    "from sklearn.metrics import mean_squared_error,r2_score, accuracy_score\n",
    "from sklearn.model_selection import train_test_split\n",
    "from sklearn.preprocessing import LabelEncoder\n",
    "import pandas as pd\n",
    "import matplotlib.pyplot as plt\n",
    "from sklearn import datasets"
   ]
  },
  {
   "cell_type": "code",
   "execution_count": 47,
   "id": "c0309331",
   "metadata": {},
   "outputs": [
    {
     "name": "stdout",
     "output_type": "stream",
     "text": [
      "dataset\n",
      "[[5.1]\n",
      " [3.5]\n",
      " [1.4]\n",
      " [0.2]\n",
      " [4.9]\n",
      " [3. ]\n",
      " [1.4]\n",
      " [0.2]\n",
      " [4.7]\n",
      " [3.2]\n",
      " [1.3]\n",
      " [0.2]\n",
      " [4.6]\n",
      " [3.1]\n",
      " [1.5]\n",
      " [0.2]\n",
      " [5. ]\n",
      " [3.6]\n",
      " [1.4]\n",
      " [0.2]\n",
      " [5.4]\n",
      " [3.9]\n",
      " [1.7]\n",
      " [0.4]\n",
      " [4.6]\n",
      " [3.4]\n",
      " [1.4]\n",
      " [0.3]\n",
      " [5. ]\n",
      " [3.4]\n",
      " [1.5]\n",
      " [0.2]\n",
      " [4.4]\n",
      " [2.9]\n",
      " [1.4]\n",
      " [0.2]\n",
      " [4.9]\n",
      " [3.1]\n",
      " [1.5]\n",
      " [0.1]\n",
      " [5.4]\n",
      " [3.7]\n",
      " [1.5]\n",
      " [0.2]\n",
      " [4.8]\n",
      " [3.4]\n",
      " [1.6]\n",
      " [0.2]\n",
      " [4.8]\n",
      " [3. ]\n",
      " [1.4]\n",
      " [0.1]\n",
      " [4.3]\n",
      " [3. ]\n",
      " [1.1]\n",
      " [0.1]\n",
      " [5.8]\n",
      " [4. ]\n",
      " [1.2]\n",
      " [0.2]\n",
      " [5.7]\n",
      " [4.4]\n",
      " [1.5]\n",
      " [0.4]\n",
      " [5.4]\n",
      " [3.9]\n",
      " [1.3]\n",
      " [0.4]\n",
      " [5.1]\n",
      " [3.5]\n",
      " [1.4]\n",
      " [0.3]\n",
      " [5.7]\n",
      " [3.8]\n",
      " [1.7]\n",
      " [0.3]\n",
      " [5.1]\n",
      " [3.8]\n",
      " [1.5]\n",
      " [0.3]\n",
      " [5.4]\n",
      " [3.4]\n",
      " [1.7]\n",
      " [0.2]\n",
      " [5.1]\n",
      " [3.7]\n",
      " [1.5]\n",
      " [0.4]\n",
      " [4.6]\n",
      " [3.6]\n",
      " [1. ]\n",
      " [0.2]\n",
      " [5.1]\n",
      " [3.3]\n",
      " [1.7]\n",
      " [0.5]\n",
      " [4.8]\n",
      " [3.4]\n",
      " [1.9]\n",
      " [0.2]\n",
      " [5. ]\n",
      " [3. ]\n",
      " [1.6]\n",
      " [0.2]\n",
      " [5. ]\n",
      " [3.4]\n",
      " [1.6]\n",
      " [0.4]\n",
      " [5.2]\n",
      " [3.5]\n",
      " [1.5]\n",
      " [0.2]\n",
      " [5.2]\n",
      " [3.4]\n",
      " [1.4]\n",
      " [0.2]\n",
      " [4.7]\n",
      " [3.2]\n",
      " [1.6]\n",
      " [0.2]\n",
      " [4.8]\n",
      " [3.1]\n",
      " [1.6]\n",
      " [0.2]\n",
      " [5.4]\n",
      " [3.4]\n",
      " [1.5]\n",
      " [0.4]\n",
      " [5.2]\n",
      " [4.1]\n",
      " [1.5]\n",
      " [0.1]\n",
      " [5.5]\n",
      " [4.2]\n",
      " [1.4]\n",
      " [0.2]\n",
      " [4.9]\n",
      " [3.1]\n",
      " [1.5]\n",
      " [0.2]\n",
      " [5. ]\n",
      " [3.2]\n",
      " [1.2]\n",
      " [0.2]\n",
      " [5.5]\n",
      " [3.5]\n",
      " [1.3]\n",
      " [0.2]\n",
      " [4.9]\n",
      " [3.6]]\n"
     ]
    }
   ],
   "source": [
    "iris=datasets.load_iris()\n",
    "x=iris.data\n",
    "\n",
    "print(\"dataset\")\n",
    "\n",
    "z=x.reshape(-1,1)\n",
    "z=z[0:150]\n",
    "\n",
    "print(z)"
   ]
  },
  {
   "cell_type": "code",
   "execution_count": 40,
   "id": "2afa9614",
   "metadata": {},
   "outputs": [
    {
     "name": "stdout",
     "output_type": "stream",
     "text": [
      "[0 0 0 0 0 0 0 0 0 0 0 0 0 0 0 0 0 0 0 0 0 0 0 0 0 0 0 0 0 0 0 0 0 0 0 0 0\n",
      " 0 0 0 0 0 0 0 0 0 0 0 0 0 1 1 1 1 1 1 1 1 1 1 1 1 1 1 1 1 1 1 1 1 1 1 1 1\n",
      " 1 1 1 1 1 1 1 1 1 1 1 1 1 1 1 1 1 1 1 1 1 1 1 1 1 1 2 2 2 2 2 2 2 2 2 2 2\n",
      " 2 2 2 2 2 2 2 2 2 2 2 2 2 2 2 2 2 2 2 2 2 2 2 2 2 2 2 2 2 2 2 2 2 2 2 2 2\n",
      " 2 2]\n"
     ]
    }
   ],
   "source": [
    "y=iris.target\n",
    "print(y)"
   ]
  },
  {
   "cell_type": "code",
   "execution_count": 41,
   "id": "35ecc292",
   "metadata": {},
   "outputs": [
    {
     "name": "stdout",
     "output_type": "stream",
     "text": [
      "FEATURES\n",
      "['sepal length (cm)', 'sepal width (cm)', 'petal length (cm)', 'petal width (cm)']\n"
     ]
    }
   ],
   "source": [
    "print('FEATURES')\n",
    "print(iris.feature_names)"
   ]
  },
  {
   "cell_type": "code",
   "execution_count": 79,
   "id": "1a8cda44",
   "metadata": {},
   "outputs": [
    {
     "name": "stdout",
     "output_type": "stream",
     "text": [
      "[0 1 1 0 2 1 2 0 0 2 1 0 2 1 1 0 1 1 0 0 1 1 1 0 2 1 0 0 1 2 1 2 1 2 2 0 1\n",
      " 0]\n"
     ]
    }
   ],
   "source": [
    "x_train,x_test,y_train,y_test  = train_test_split(z, y, test_size=.25, random_state=1)\n",
    "print(y_test)"
   ]
  },
  {
   "cell_type": "code",
   "execution_count": 80,
   "id": "728123ec",
   "metadata": {},
   "outputs": [
    {
     "name": "stdout",
     "output_type": "stream",
     "text": [
      "----------------------Test Class-------------------------\n",
      " [[1.5]\n",
      " [1.9]\n",
      " [0.3]\n",
      " [5. ]\n",
      " [0.1]\n",
      " [5.8]\n",
      " [3.2]\n",
      " [4.8]\n",
      " [3.4]\n",
      " [4.8]\n",
      " [1.7]\n",
      " [3. ]\n",
      " [1.6]\n",
      " [0.1]\n",
      " [1.5]\n",
      " [1.5]\n",
      " [5.1]\n",
      " [1.3]\n",
      " [0.2]\n",
      " [0.2]\n",
      " [1. ]\n",
      " [5.1]\n",
      " [3.8]\n",
      " [5.4]\n",
      " [3.4]\n",
      " [0.2]\n",
      " [2.9]\n",
      " [0.2]\n",
      " [3.8]\n",
      " [1.3]\n",
      " [0.2]\n",
      " [0.2]\n",
      " [3.5]\n",
      " [5.2]\n",
      " [1.4]\n",
      " [4.8]\n",
      " [3. ]\n",
      " [5. ]]\n",
      "\n",
      "---------------------Predict Class----------------------\n",
      " [1.00556133 1.01668862 0.97217948 1.10292507 0.96661584 1.12517963\n",
      " 1.05285229 1.09736142 1.05841593 1.09736142 1.01112498 1.04728865\n",
      " 1.00834316 0.96661584 1.00556133 1.00556133 1.10570689 0.99999769\n",
      " 0.96939766 0.96939766 0.99165223 1.10570689 1.06954321 1.11405235\n",
      " 1.05841593 0.96939766 1.04450683 0.96939766 1.06954321 0.99999769\n",
      " 0.96939766 0.96939766 1.06119775 1.10848871 1.00277951 1.09736142\n",
      " 1.04728865 1.10292507]\n"
     ]
    }
   ],
   "source": [
    "reg = LinearRegression()\n",
    "reg.fit(x_train,y_train)\n",
    "y_predict=reg.predict(x_test)\n",
    "print(\"----------------------Test Class-------------------------\\n\",x_test)\n",
    "print(\"\\n---------------------Predict Class----------------------\\n\",y_predict)"
   ]
  },
  {
   "cell_type": "code",
   "execution_count": 81,
   "id": "99492ef8",
   "metadata": {},
   "outputs": [],
   "source": [
    "e=mean_squared_error(x_test,y_predict)\n",
    "s=r2_score(y_predict,x_test)"
   ]
  },
  {
   "cell_type": "code",
   "execution_count": 82,
   "id": "7d059772",
   "metadata": {},
   "outputs": [
    {
     "name": "stdout",
     "output_type": "stream",
     "text": [
      "5.685819812109622\n"
     ]
    }
   ],
   "source": [
    "print(e)"
   ]
  },
  {
   "cell_type": "code",
   "execution_count": 83,
   "id": "cb335d16",
   "metadata": {},
   "outputs": [
    {
     "name": "stdout",
     "output_type": "stream",
     "text": [
      "-2071.3310909823144\n"
     ]
    }
   ],
   "source": [
    "print(s)"
   ]
  },
  {
   "cell_type": "code",
   "execution_count": 84,
   "id": "cd3b6a83",
   "metadata": {},
   "outputs": [
    {
     "data": {
      "text/plain": [
       "[<matplotlib.lines.Line2D at 0x21f4cb3aca0>]"
      ]
     },
     "execution_count": 84,
     "metadata": {},
     "output_type": "execute_result"
    },
    {
     "data": {
      "image/png": "[encoded data removed]",
      "text/plain": [
       "<Figure size 432x288 with 1 Axes>"
      ]
     },
     "metadata": {
      "needs_background": "light"
     },
     "output_type": "display_data"
    }
   ],
   "source": [
    "plt.scatter(x_test,y_test, color=\"green\")\n",
    "plt.plot(x_test,y_predict, color=\"red\")"
   ]
  },
  {
   "cell_type": "code",
   "execution_count": null,
   "id": "80117ab3",
   "metadata": {},
   "outputs": [],
   "source": []
  }
 ],
 "metadata": {
  "kernelspec": {
   "display_name": "Python 3 (ipykernel)",
   "language": "python",
   "name": "python3"
  },
  "language_info": {
   "codemirror_mode": {
    "name": "ipython",
    "version": 3
   },
   "file_extension": ".py",
   "mimetype": "text/x-python",
   "name": "python",
   "nbconvert_exporter": "python",
   "pygments_lexer": "ipython3",
   "version": "3.9.7"
  }
 },
 "nbformat": 4,
 "nbformat_minor": 5
}
