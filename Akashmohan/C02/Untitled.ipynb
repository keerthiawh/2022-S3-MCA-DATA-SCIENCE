{
 "cells": [
  {
   "cell_type": "code",
   "execution_count": 25,
   "id": "bdf3d88a",
   "metadata": {},
   "outputs": [
    {
     "name": "stdout",
     "output_type": "stream",
     "text": [
      "       Sweetness  Crunchiness\n",
      "count  15.000000    15.000000\n",
      "mean    4.733333     5.600000\n",
      "std     3.514595     3.290679\n",
      "min     1.000000     1.000000\n",
      "25%     2.000000     3.000000\n",
      "50%     3.000000     6.000000\n",
      "75%     7.500000     8.500000\n",
      "max    10.000000    10.000000\n"
     ]
    }
   ],
   "source": [
    "print(data.describe())"
   ]
  },
  {
   "cell_type": "code",
   "execution_count": 26,
   "id": "ce7fc6cb",
   "metadata": {},
   "outputs": [
    {
     "name": "stdout",
     "output_type": "stream",
     "text": [
      "[['apple' 10]\n",
      " ['bacon' 1]\n",
      " ['banana' 10]\n",
      " ['carrot' 7]\n",
      " ['celery' 3]\n",
      " ['cheese' 1]\n",
      " ['cucumber' 2]\n",
      " ['fish' 3]\n",
      " ['grape' 8]\n",
      " ['green bean' 3]\n",
      " ['lettuce' 1]\n",
      " ['nuts' 3]\n",
      " ['orange' 7]\n",
      " ['pear' 10]\n",
      " ['shrimp' 2]]\n",
      "[ 9  4  1 10 10  1  8  1  5  7  9  6  3  7  3]\n"
     ]
    }
   ],
   "source": [
    "from sklearn.neighbors import KNeighborsClassifier\n",
    "from sklearn.metrics import accuracy_score,confusion_matrix,ConfusionMatrixDisplay\n",
    "from sklearn.model_selection import train_test_split\n",
    "from sklearn.preprocessing import LabelEncoder\n",
    "import pandas as pd\n",
    "import matplotlib.pyplot as plt\n",
    "data = pd.read_csv('food.csv')\n",
    "x = data.iloc[:,0:2].values\n",
    "print(x)\n",
    "y=data.iloc[:,2].values\n",
    "print(y)"
   ]
  },
  {
   "cell_type": "code",
   "execution_count": 15,
   "id": "75c7ec2f",
   "metadata": {},
   "outputs": [
    {
     "name": "stdout",
     "output_type": "stream",
     "text": [
      "['sepal length (cm)', 'sepal width (cm)', 'petal length (cm)', 'petal width (cm)']\n",
      "['setosa' 'versicolor' 'virginica']\n"
     ]
    }
   ],
   "source": [
    "from sklearn.neighbors import KNeighborsClassifier\n",
    "from sklearn.metrics import accuracy_score,confusion_matrix,ConfusionMatrixDisplay\n",
    "from sklearn.model_selection import train_test_split\n",
    "from sklearn.datasets import load_iris\n",
    "import matplotlib.pyplot as plt\n",
    "iris = load_iris()\n",
    "print(iris.feature_names)\n",
    "print(iris.target_names)\n",
    "x=iris.data"
   ]
  },
  {
   "cell_type": "code",
   "execution_count": null,
   "id": "963dbbdc",
   "metadata": {},
   "outputs": [],
   "source": []
  },
  {
   "cell_type": "code",
   "execution_count": 27,
   "id": "756f2157",
   "metadata": {},
   "outputs": [
    {
     "name": "stdout",
     "output_type": "stream",
     "text": [
      "[7 2 0 8 8 0 6 0 3 5 7 4 1 5 1]\n"
     ]
    }
   ],
   "source": []
  },
  {
   "cell_type": "code",
   "execution_count": 21,
   "id": "0bb2bdac",
   "metadata": {},
   "outputs": [
    {
     "name": "stdout",
     "output_type": "stream",
     "text": [
      "    Sweetness  Crunchiness\n",
      "0          10            9\n",
      "1           1            4\n",
      "2          10            1\n",
      "3           7           10\n",
      "4           3           10\n",
      "5           1            1\n",
      "6           2            8\n",
      "7           3            1\n",
      "8           8            5\n",
      "9           3            7\n",
      "10          1            9\n",
      "11          3            6\n",
      "12          7            3\n",
      "13         10            7\n",
      "14          2            3\n"
     ]
    }
   ],
   "source": [
    "x=data.iloc[:,1:3]\n",
    "print(x)"
   ]
  },
  {
   "cell_type": "code",
   "execution_count": 29,
   "id": "83d44498",
   "metadata": {},
   "outputs": [
    {
     "name": "stdout",
     "output_type": "stream",
     "text": [
      "0         fruit\n",
      "1       protein\n",
      "2         fruit\n",
      "3     vegetable\n",
      "4     vegetable\n",
      "5       protein\n",
      "6     vegetable\n",
      "7       protein\n",
      "8         fruit\n",
      "9     vegetable\n",
      "10    vegetable\n",
      "11      protein\n",
      "12        fruit\n",
      "13        fruit\n",
      "14      protein\n",
      "Name: FoodType, dtype: object\n"
     ]
    }
   ],
   "source": [
    "y=data.iloc[:,3]\n",
    "print(y)"
   ]
  },
  {
   "cell_type": "code",
   "execution_count": 30,
   "id": "8c4d1fcb",
   "metadata": {},
   "outputs": [
    {
     "name": "stdout",
     "output_type": "stream",
     "text": [
      "[6 4 3 7]\n"
     ]
    }
   ],
   "source": [
    "x_train,x_test,y_train,y_test = train_test_split(x,y_new,test_size=.25,random_state=58)\n",
    "print(y_test)"
   ]
  },
  {
   "cell_type": "code",
   "execution_count": 34,
   "id": "b9e0c134",
   "metadata": {},
   "outputs": [],
   "source": [
    "knn=KNeighborsClassifier(n_neighbors=5)"
   ]
  },
  {
   "cell_type": "code",
   "execution_count": null,
   "id": "ebe570d0",
   "metadata": {},
   "outputs": [],
   "source": []
  },
  {
   "cell_type": "code",
   "execution_count": null,
   "id": "7a5fbc82",
   "metadata": {},
   "outputs": [],
   "source": []
  },
  {
   "cell_type": "code",
   "execution_count": null,
   "id": "a74d32a0",
   "metadata": {},
   "outputs": [],
   "source": []
  }
 ],
 "metadata": {
  "kernelspec": {
   "display_name": "Python 3 (ipykernel)",
   "language": "python",
   "name": "python3"
  },
  "language_info": {
   "codemirror_mode": {
    "name": "ipython",
    "version": 3
   },
   "file_extension": ".py",
   "mimetype": "text/x-python",
   "name": "python",
   "nbconvert_exporter": "python",
   "pygments_lexer": "ipython3",
   "version": "3.9.7"
  }
 },
 "nbformat": 4,
 "nbformat_minor": 5
}
