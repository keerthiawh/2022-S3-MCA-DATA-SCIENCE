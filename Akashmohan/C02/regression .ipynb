{
 "cells": [
  {
   "cell_type": "code",
   "execution_count": 1,
   "id": "f7062281",
   "metadata": {},
   "outputs": [],
   "source": [
    "from sklearn.linear_model import LinearRegression\n",
    "from sklearn.metrics import mean_squared_error,r2_score\n",
    "from sklearn.model_selection import train_test_split\n",
    "from sklearn.preprocessing import LabelEncoder\n",
    "import pandas as pd\n",
    "import matplotlib.pyplot as plt\n",
    "from sklearn import datasets\n",
    "iris=datasets.load_iris()\n",
    "x=iris.data\n",
    "y=iris.target"
   ]
  },
  {
   "cell_type": "code",
   "execution_count": 2,
   "id": "16d435ab",
   "metadata": {},
   "outputs": [
    {
     "name": "stdout",
     "output_type": "stream",
     "text": [
      ".. _iris_dataset:\n",
      "\n",
      "Iris plants dataset\n",
      "--------------------\n",
      "\n",
      "**Data Set Characteristics:**\n",
      "\n",
      "    :Number of Instances: 150 (50 in each of three classes)\n",
      "    :Number of Attributes: 4 numeric, predictive attributes and the class\n",
      "    :Attribute Information:\n",
      "        - sepal length in cm\n",
      "        - sepal width in cm\n",
      "        - petal length in cm\n",
      "        - petal width in cm\n",
      "        - class:\n",
      "                - Iris-Setosa\n",
      "                - Iris-Versicolour\n",
      "                - Iris-Virginica\n",
      "                \n",
      "    :Summary Statistics:\n",
      "\n",
      "    ============== ==== ==== ======= ===== ====================\n",
      "                    Min  Max   Mean    SD   Class Correlation\n",
      "    ============== ==== ==== ======= ===== ====================\n",
      "    sepal length:   4.3  7.9   5.84   0.83    0.7826\n",
      "    sepal width:    2.0  4.4   3.05   0.43   -0.4194\n",
      "    petal length:   1.0  6.9   3.76   1.76    0.9490  (high!)\n",
      "    petal width:    0.1  2.5   1.20   0.76    0.9565  (high!)\n",
      "    ============== ==== ==== ======= ===== ====================\n",
      "\n",
      "    :Missing Attribute Values: None\n",
      "    :Class Distribution: 33.3% for each of 3 classes.\n",
      "    :Creator: R.A. Fisher\n",
      "    :Donor: Michael Marshall (MARSHALL%PLU@io.arc.nasa.gov)\n",
      "    :Date: July, 1988\n",
      "\n",
      "The famous Iris database, first used by Sir R.A. Fisher. The dataset is taken\n",
      "from Fisher's paper. Note that it's the same as in R, but not as in the UCI\n",
      "Machine Learning Repository, which has two wrong data points.\n",
      "\n",
      "This is perhaps the best known database to be found in the\n",
      "pattern recognition literature.  Fisher's paper is a classic in the field and\n",
      "is referenced frequently to this day.  (See Duda & Hart, for example.)  The\n",
      "data set contains 3 classes of 50 instances each, where each class refers to a\n",
      "type of iris plant.  One class is linearly separable from the other 2; the\n",
      "latter are NOT linearly separable from each other.\n",
      "\n",
      ".. topic:: References\n",
      "\n",
      "   - Fisher, R.A. \"The use of multiple measurements in taxonomic problems\"\n",
      "     Annual Eugenics, 7, Part II, 179-188 (1936); also in \"Contributions to\n",
      "     Mathematical Statistics\" (John Wiley, NY, 1950).\n",
      "   - Duda, R.O., & Hart, P.E. (1973) Pattern Classification and Scene Analysis.\n",
      "     (Q327.D83) John Wiley & Sons.  ISBN 0-471-22361-1.  See page 218.\n",
      "   - Dasarathy, B.V. (1980) \"Nosing Around the Neighborhood: A New System\n",
      "     Structure and Classification Rule for Recognition in Partially Exposed\n",
      "     Environments\".  IEEE Transactions on Pattern Analysis and Machine\n",
      "     Intelligence, Vol. PAMI-2, No. 1, 67-71.\n",
      "   - Gates, G.W. (1972) \"The Reduced Nearest Neighbor Rule\".  IEEE Transactions\n",
      "     on Information Theory, May 1972, 431-433.\n",
      "   - See also: 1988 MLC Proceedings, 54-64.  Cheeseman et al\"s AUTOCLASS II\n",
      "     conceptual clustering system finds 3 classes in the data.\n",
      "   - Many, many more ...\n"
     ]
    }
   ],
   "source": [
    "print(iris.DESCR)"
   ]
  },
  {
   "cell_type": "code",
   "execution_count": 3,
   "id": "bcb65062",
   "metadata": {},
   "outputs": [
    {
     "name": "stdout",
     "output_type": "stream",
     "text": [
      "[[5.1]\n",
      " [3.5]\n",
      " [1.4]\n",
      " [0.2]\n",
      " [4.9]\n",
      " [3. ]\n",
      " [1.4]\n",
      " [0.2]\n",
      " [4.7]\n",
      " [3.2]\n",
      " [1.3]\n",
      " [0.2]\n",
      " [4.6]\n",
      " [3.1]\n",
      " [1.5]\n",
      " [0.2]\n",
      " [5. ]\n",
      " [3.6]\n",
      " [1.4]\n",
      " [0.2]\n",
      " [5.4]\n",
      " [3.9]\n",
      " [1.7]\n",
      " [0.4]\n",
      " [4.6]\n",
      " [3.4]\n",
      " [1.4]\n",
      " [0.3]\n",
      " [5. ]\n",
      " [3.4]\n",
      " [1.5]\n",
      " [0.2]\n",
      " [4.4]\n",
      " [2.9]\n",
      " [1.4]\n",
      " [0.2]\n",
      " [4.9]\n",
      " [3.1]\n",
      " [1.5]\n",
      " [0.1]\n",
      " [5.4]\n",
      " [3.7]\n",
      " [1.5]\n",
      " [0.2]\n",
      " [4.8]\n",
      " [3.4]\n",
      " [1.6]\n",
      " [0.2]\n",
      " [4.8]\n",
      " [3. ]\n",
      " [1.4]\n",
      " [0.1]\n",
      " [4.3]\n",
      " [3. ]\n",
      " [1.1]\n",
      " [0.1]\n",
      " [5.8]\n",
      " [4. ]\n",
      " [1.2]\n",
      " [0.2]\n",
      " [5.7]\n",
      " [4.4]\n",
      " [1.5]\n",
      " [0.4]\n",
      " [5.4]\n",
      " [3.9]\n",
      " [1.3]\n",
      " [0.4]\n",
      " [5.1]\n",
      " [3.5]\n",
      " [1.4]\n",
      " [0.3]\n",
      " [5.7]\n",
      " [3.8]\n",
      " [1.7]\n",
      " [0.3]\n",
      " [5.1]\n",
      " [3.8]\n",
      " [1.5]\n",
      " [0.3]\n",
      " [5.4]\n",
      " [3.4]\n",
      " [1.7]\n",
      " [0.2]\n",
      " [5.1]\n",
      " [3.7]\n",
      " [1.5]\n",
      " [0.4]\n",
      " [4.6]\n",
      " [3.6]\n",
      " [1. ]\n",
      " [0.2]\n",
      " [5.1]\n",
      " [3.3]\n",
      " [1.7]\n",
      " [0.5]\n",
      " [4.8]\n",
      " [3.4]\n",
      " [1.9]\n",
      " [0.2]\n",
      " [5. ]\n",
      " [3. ]\n",
      " [1.6]\n",
      " [0.2]\n",
      " [5. ]\n",
      " [3.4]\n",
      " [1.6]\n",
      " [0.4]\n",
      " [5.2]\n",
      " [3.5]\n",
      " [1.5]\n",
      " [0.2]\n",
      " [5.2]\n",
      " [3.4]\n",
      " [1.4]\n",
      " [0.2]\n",
      " [4.7]\n",
      " [3.2]\n",
      " [1.6]\n",
      " [0.2]\n",
      " [4.8]\n",
      " [3.1]\n",
      " [1.6]\n",
      " [0.2]\n",
      " [5.4]\n",
      " [3.4]\n",
      " [1.5]\n",
      " [0.4]\n",
      " [5.2]\n",
      " [4.1]\n",
      " [1.5]\n",
      " [0.1]\n",
      " [5.5]\n",
      " [4.2]\n",
      " [1.4]\n",
      " [0.2]\n",
      " [4.9]\n",
      " [3.1]\n",
      " [1.5]\n",
      " [0.2]\n",
      " [5. ]\n",
      " [3.2]\n",
      " [1.2]\n",
      " [0.2]\n",
      " [5.5]\n",
      " [3.5]\n",
      " [1.3]\n",
      " [0.2]\n",
      " [4.9]\n",
      " [3.6]]\n"
     ]
    }
   ],
   "source": [
    "z=x.reshape(-1,1)\n",
    "z=z[0:150]\n",
    "print(z)"
   ]
  },
  {
   "cell_type": "code",
   "execution_count": 4,
   "id": "f86db389",
   "metadata": {},
   "outputs": [
    {
     "name": "stdout",
     "output_type": "stream",
     "text": [
      "['sepal length (cm)', 'sepal width (cm)', 'petal length (cm)', 'petal width (cm)']\n"
     ]
    }
   ],
   "source": [
    "print(iris.feature_names)"
   ]
  },
  {
   "cell_type": "code",
   "execution_count": 5,
   "id": "78bcfd5f",
   "metadata": {},
   "outputs": [
    {
     "name": "stdout",
     "output_type": "stream",
     "text": [
      "['setosa' 'versicolor' 'virginica']\n"
     ]
    }
   ],
   "source": [
    "print(iris.target_names)"
   ]
  },
  {
   "cell_type": "code",
   "execution_count": 6,
   "id": "6e361820",
   "metadata": {},
   "outputs": [
    {
     "name": "stdout",
     "output_type": "stream",
     "text": [
      "[1 2 2 0 2 1 0 1 0 1 1 2 2 2 0 0 2 2 0 0 1 2 0 1 1 2 1 1 1 2 0 1 1 0 1 0 0\n",
      " 2]\n"
     ]
    }
   ],
   "source": [
    "x_train,x_test,y_train,y_test=train_test_split(z,y,test_size=.25,random_state=5)\n",
    "print(y_test)"
   ]
  },
  {
   "cell_type": "code",
   "execution_count": 7,
   "id": "b953d93b",
   "metadata": {},
   "outputs": [
    {
     "name": "stdout",
     "output_type": "stream",
     "text": [
      "---------TEST CLASS-------\n",
      " [1 2 2 0 2 1 0 1 0 1 1 2 2 2 0 0 2 2 0 0 1 2 0 1 1 2 1 1 1 2 0 1 1 0 1 0 0\n",
      " 2]\n",
      "---------PREDICT CLASS-------\n",
      " [0.99419754 0.99229732 0.99229732 0.99293073 1.00559886 1.0087659\n",
      " 1.00559886 0.99229732 1.00496546 1.01573337 0.99166391 1.01003271\n",
      " 0.99356413 0.98596325 0.99229732 0.98596325 0.98469644 0.99293073\n",
      " 1.00813249 1.01256634 0.98532985 1.01636678 1.01383315 1.01953381\n",
      " 1.01256634 1.01446656 0.99419754 1.01383315 0.98596325 1.018267\n",
      " 0.98406303 1.00243183 0.98532985 0.99166391 0.99229732 1.00243183\n",
      " 0.98469644 0.98469644]\n"
     ]
    }
   ],
   "source": [
    "sl_reg=LinearRegression()\n",
    "sl_reg.fit(x_train,y_train)\n",
    "y_predict=sl_reg.predict(x_test)\n",
    "print(\"---------TEST CLASS-------\\n\",y_test)\n",
    "print(\"---------PREDICT CLASS-------\\n\",y_predict)"
   ]
  },
  {
   "cell_type": "code",
   "execution_count": 8,
   "id": "8b1e17fe",
   "metadata": {},
   "outputs": [
    {
     "name": "stdout",
     "output_type": "stream",
     "text": [
      "coeffiecient b: [0.00633407]\n",
      "intercept a: 0.9834296262447574\n"
     ]
    }
   ],
   "source": [
    "print(\"coeffiecient b:\",sl_reg.coef_)\n",
    "print(\"intercept a:\",sl_reg.intercept_)"
   ]
  },
  {
   "cell_type": "code",
   "execution_count": 9,
   "id": "cd6a5d14",
   "metadata": {},
   "outputs": [
    {
     "name": "stdout",
     "output_type": "stream",
     "text": [
      "0.6310798495161039\n",
      "-4728.51830972763\n"
     ]
    }
   ],
   "source": [
    "mse=mean_squared_error(y_test,y_predict)\n",
    "print(mse)\n",
    "rsc=r2_score(y_predict,y_test)\n",
    "print(rsc)"
   ]
  },
  {
   "cell_type": "code",
   "execution_count": 10,
   "id": "fc07e9c7",
   "metadata": {},
   "outputs": [
    {
     "data": {
      "text/plain": [
       "[<matplotlib.lines.Line2D at 0x2dca6324a30>]"
      ]
     },
     "execution_count": 10,
     "metadata": {},
     "output_type": "execute_result"
    },
    {
     "data": {
      "image/png": "[encoded data removed]",
      "text/plain": [
       "<Figure size 432x288 with 1 Axes>"
      ]
     },
     "metadata": {
      "needs_background": "light"
     },
     "output_type": "display_data"
    }
   ],
   "source": [
    "plt.scatter(x_test,y_test)\n",
    "plt.plot(x_test,y_predict)"
   ]
  },
  {
   "cell_type": "code",
   "execution_count": null,
   "id": "d57d1729",
   "metadata": {},
   "outputs": [],
   "source": []
  },
  {
   "cell_type": "code",
   "execution_count": null,
   "id": "95d86324",
   "metadata": {},
   "outputs": [],
   "source": []
  }
 ],
 "metadata": {
  "kernelspec": {
   "display_name": "Python 3 (ipykernel)",
   "language": "python",
   "name": "python3"
  },
  "language_info": {
   "codemirror_mode": {
    "name": "ipython",
    "version": 3
   },
   "file_extension": ".py",
   "mimetype": "text/x-python",
   "name": "python",
   "nbconvert_exporter": "python",
   "pygments_lexer": "ipython3",
   "version": "3.9.7"
  }
 },
 "nbformat": 4,
 "nbformat_minor": 5
}
