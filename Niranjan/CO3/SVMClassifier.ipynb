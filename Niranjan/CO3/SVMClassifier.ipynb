{
 "cells": [
  {
   "cell_type": "code",
   "execution_count": 1,
   "id": "b2aba1a8",
   "metadata": {},
   "outputs": [],
   "source": [
    "from sklearn.svm import SVC\n",
    "from sklearn.metrics import r2_score,accuracy_score,confusion_matrix,ConfusionMatrixDisplay,mean_squared_error\n",
    "from sklearn.model_selection import train_test_split\n",
    "import matplotlib.pyplot as plt\n",
    "\n",
    "from sklearn import datasets\n",
    "iris=datasets.load_iris()\n",
    "x=iris.data\n",
    "y=iris.target"
   ]
  },
  {
   "cell_type": "code",
   "execution_count": 2,
   "id": "b3dc0ea4",
   "metadata": {},
   "outputs": [
    {
     "name": "stdout",
     "output_type": "stream",
     "text": [
      "---TEST CLASS--- [1 2 2 2 2 1 0 0 1 0 0 1 2 1 1 2 1 1 2 2 1 2 0 1 2 1 2 2 1 0 1 1 1 0 0 0 0\n",
      " 2]\n",
      "---PREDICT CLASS--- [1 2 2 1 1 1 0 0 1 0 0 1 2 1 1 2 1 1 2 2 1 2 0 1 2 1 2 2 1 0 1 1 1 0 0 0 0\n",
      " 2]\n",
      "ACCURACY SCORE: 0.9473684210526315\n",
      "R2 SCORE: 0.9121387283236995\n",
      "MEAN SQUARED ERROR 0.05263157894736842\n"
     ]
    }
   ],
   "source": [
    "xtrain,xtest,ytrain,ytest=train_test_split(x,y,test_size=0.25)\n",
    "svm=SVC(kernel= 'linear', random_state=1, C=0.1)\n",
    "svm=svm.fit(xtrain,ytrain)\n",
    "y_predict=svm.predict(xtest)\n",
    "print('---TEST CLASS---',ytest)\n",
    "print('---PREDICT CLASS---',y_predict)\n",
    "print('ACCURACY SCORE:',accuracy_score(ytest,y_predict))\n",
    "print('R2 SCORE:',r2_score(ytest,y_predict))\n",
    "print('MEAN SQUARED ERROR',mean_squared_error(ytest,y_predict))"
   ]
  },
  {
   "cell_type": "code",
   "execution_count": 3,
   "id": "6bef1e89",
   "metadata": {},
   "outputs": [
    {
     "name": "stdout",
     "output_type": "stream",
     "text": [
      "[[10  0  0]\n",
      " [ 0 15  0]\n",
      " [ 0  2 11]]\n"
     ]
    },
    {
     "data": {
      "image/png": "[encoded data removed]",
      "text/plain": [
       "<Figure size 432x288 with 2 Axes>"
      ]
     },
     "metadata": {
      "needs_background": "light"
     },
     "output_type": "display_data"
    }
   ],
   "source": [
    "cm=confusion_matrix(ytest,y_predict,normalize= None,labels=svm.classes_)\n",
    "print(cm)\n",
    "cm_dis=ConfusionMatrixDisplay(confusion_matrix=cm,display_labels=svm.classes_)\n",
    "cm_dis.plot()\n",
    "plt.show()"
   ]
  },
  {
   "cell_type": "code",
   "execution_count": null,
   "id": "2855eaff",
   "metadata": {},
   "outputs": [],
   "source": []
  }
 ],
 "metadata": {
  "kernelspec": {
   "display_name": "Python 3 (ipykernel)",
   "language": "python",
   "name": "python3"
  },
  "language_info": {
   "codemirror_mode": {
    "name": "ipython",
    "version": 3
   },
   "file_extension": ".py",
   "mimetype": "text/x-python",
   "name": "python",
   "nbconvert_exporter": "python",
   "pygments_lexer": "ipython3",
   "version": "3.9.7"
  }
 },
 "nbformat": 4,
 "nbformat_minor": 5
}
