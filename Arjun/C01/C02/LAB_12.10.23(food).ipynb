{
 "cells": [
  {
   "cell_type": "code",
   "execution_count": 15,
   "id": "c2004274",
   "metadata": {},
   "outputs": [],
   "source": [
    "import pandas as pd\n",
    "pf = pd.read_csv('food.csv')\n",
    "pp = pd.read_csv('iris.csv')"
   ]
  },
  {
   "cell_type": "code",
   "execution_count": 16,
   "id": "be641b9d",
   "metadata": {},
   "outputs": [
    {
     "name": "stdout",
     "output_type": "stream",
     "text": [
      "[[10  9]\n",
      " [ 1  4]\n",
      " [10  1]\n",
      " [ 7 10]\n",
      " [ 3 10]\n",
      " [ 1  1]\n",
      " [ 2  8]\n",
      " [ 3  1]\n",
      " [ 8  5]\n",
      " [ 3  7]\n",
      " [ 1  9]\n",
      " [ 3  6]\n",
      " [ 7  3]\n",
      " [10  7]\n",
      " [ 2  3]]\n",
      "['fruit' 'protein' 'fruit' 'vegetable' 'vegetable' 'protein' 'vegetable'\n",
      " 'protein' 'fruit' 'vegetable' 'vegetable' 'protein' 'fruit' 'fruit'\n",
      " 'protein']\n"
     ]
    }
   ],
   "source": [
    "from sklearn.neighbors import KNeighborsClassifier\n",
    "from sklearn.metrics import accuracy_score,confusion_matrix,ConfusionMatrixDisplay\n",
    "from sklearn.model_selection import train_test_split\n",
    "from sklearn.preprocessing import LabelEncoder\n",
    "import matplotlib.pyplot as plt\n",
    "x = pf.iloc[:,1:3].values\n",
    "print(x)\n",
    "y = pf.iloc[:,3].values\n",
    "print(y)\n",
    "\n",
    "# a = pp.iloc[:,1:3].values\n",
    "# print(a)\n",
    "# b = pp.iloc[:,3].values\n",
    "# print(b)"
   ]
  },
  {
   "cell_type": "code",
   "execution_count": 23,
   "id": "508cb3ff",
   "metadata": {},
   "outputs": [
    {
     "name": "stdout",
     "output_type": "stream",
     "text": [
      "[0 1 0 2 2 1 2 1 0 2 2 1 0 0 1]\n",
      "[0 0 1 2]\n",
      "-------Test class------\n",
      " [0 0 1 2]\n",
      "\n",
      "------------Predict Class---------\n",
      " [0 2 1 2]\n",
      "[[0.6 0.4 0. ]\n",
      " [0.4 0.  0.6]\n",
      " [0.  0.8 0.2]\n",
      " [0.  0.4 0.6]]\n",
      "0.75\n",
      "[[1 0 1]\n",
      " [0 1 0]\n",
      " [0 0 1]]\n"
     ]
    },
    {
     "data": {
      "image/png": "[encoded data removed]",
      "text/plain": [
       "<Figure size 432x288 with 2 Axes>"
      ]
     },
     "metadata": {
      "needs_background": "light"
     },
     "output_type": "display_data"
    }
   ],
   "source": [
    "### LABEL ENCODER ####\n",
    "from sklearn.model_selection import train_test_split\n",
    "from sklearn.metrics import ConfusionMatrixDisplay\n",
    "\n",
    "le = LabelEncoder()\n",
    "y_new = le.fit_transform(y)\n",
    "print(y_new)\n",
    "\n",
    "x_train,x_test,y_train,y_test = train_test_split(x,y_new,test_size=.25)\n",
    "print(y_test)\n",
    "knn = KNeighborsClassifier(n_neighbors =5)\n",
    "knn.fit(x_train,y_train)\n",
    "y_predict = knn.predict(x_test)\n",
    "print(\"-------Test class------\\n\",y_test)\n",
    "print(\"\\n------------Predict Class---------\\n\",y_predict)\n",
    "print(knn.predict_proba(x_test))\n",
    "\n",
    "print(accuracy_score(y_test,y_predict))\n",
    "\n",
    "#NORMALIZEBOOL,DEFAULT = TRUE\n",
    "\n",
    "cm = confusion_matrix(y_test,y_predict,normalize=None,labels=knn.classes_)\n",
    "print(cm)\n",
    "cm_dis = ConfusionMatrixDisplay(confusion_matrix = cm,display_labels=knn.classes_)\n",
    "cm_dis.plot()\n",
    "plt.show()"
   ]
  }
 ],
 "metadata": {
  "kernelspec": {
   "display_name": "Python 3 (ipykernel)",
   "language": "python",
   "name": "python3"
  },
  "language_info": {
   "codemirror_mode": {
    "name": "ipython",
    "version": 3
   },
   "file_extension": ".py",
   "mimetype": "text/x-python",
   "name": "python",
   "nbconvert_exporter": "python",
   "pygments_lexer": "ipython3",
   "version": "3.9.7"
  }
 },
 "nbformat": 4,
 "nbformat_minor": 5
}
