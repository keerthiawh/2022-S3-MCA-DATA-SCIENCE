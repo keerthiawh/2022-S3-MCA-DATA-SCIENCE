{
 "cells": [
  {
   "cell_type": "code",
   "execution_count": 29,
   "id": "034bc43b",
   "metadata": {},
   "outputs": [],
   "source": [
    "from sklearn.linear_model import LinearRegression\n",
    "from sklearn.metrics import mean_squared_error,r2_score\n",
    "from sklearn.model_selection import train_test_split\n",
    "from sklearn.preprocessing import LabelEncoder\n",
    "import pandas as pd\n",
    "import matplotlib.pyplot as plt\n",
    "from sklearn import datasets\n"
   ]
  },
  {
   "cell_type": "code",
   "execution_count": 30,
   "id": "e7a6960a",
   "metadata": {},
   "outputs": [
    {
     "name": "stdout",
     "output_type": "stream",
     "text": [
      "[5.1 4.9 4.7 4.6 5.  5.4 4.6 5.  4.4 4.9 5.4 4.8 4.8 4.3 5.8 5.7 5.4 5.1\n",
      " 5.7 5.1 5.4 5.1 4.6 5.1 4.8 5.  5.  5.2 5.2 4.7 4.8 5.4 5.2 5.5 4.9 5.\n",
      " 5.5 4.9 4.4 5.1 5.  4.5 4.4 5.  5.1 4.8 5.1 4.6 5.3 5.  7.  6.4 6.9 5.5\n",
      " 6.5 5.7 6.3 4.9 6.6 5.2 5.  5.9 6.  6.1 5.6 6.7 5.6 5.8 6.2 5.6 5.9 6.1\n",
      " 6.3 6.1 6.4 6.6 6.8 6.7 6.  5.7 5.5 5.5 5.8 6.  5.4 6.  6.7 6.3 5.6 5.5\n",
      " 5.5 6.1 5.8 5.  5.6 5.7 5.7 6.2 5.1 5.7 6.3 5.8 7.1 6.3 6.5 7.6 4.9 7.3\n",
      " 6.7 7.2 6.5 6.4 6.8 5.7 5.8 6.4 6.5 7.7 7.7 6.  6.9 5.6 7.7 6.3 6.7 7.2\n",
      " 6.2 6.1 6.4 7.2 7.4 7.9 6.4 6.3 6.1 7.7 6.3 6.4 6.  6.9 6.7 6.9 5.8 6.8\n",
      " 6.7 6.7 6.3 6.5 6.2 5.9]\n",
      "[0 0 0 0 0 0 0 0 0 0 0 0 0 0 0 0 0 0 0 0 0 0 0 0 0 0 0 0 0 0 0 0 0 0 0 0 0\n",
      " 0 0 0 0 0 0 0 0 0 0 0 0 0 1 1 1 1 1 1 1 1 1 1 1 1 1 1 1 1 1 1 1 1 1 1 1 1\n",
      " 1 1 1 1 1 1 1 1 1 1 1 1 1 1 1 1 1 1 1 1 1 1 1 1 1 1 2 2 2 2 2 2 2 2 2 2 2\n",
      " 2 2 2 2 2 2 2 2 2 2 2 2 2 2 2 2 2 2 2 2 2 2 2 2 2 2 2 2 2 2 2 2 2 2 2 2 2\n",
      " 2 2]\n"
     ]
    }
   ],
   "source": [
    "iris = datasets.load_iris()\n",
    "x_values=iris.data[:,0]\n",
    "y=iris.target\n",
    "print(x_values)\n",
    "print(y)"
   ]
  },
  {
   "cell_type": "code",
   "execution_count": 31,
   "id": "997fde9d",
   "metadata": {},
   "outputs": [
    {
     "name": "stdout",
     "output_type": "stream",
     "text": [
      ".. _iris_dataset:\n",
      "\n",
      "Iris plants dataset\n",
      "--------------------\n",
      "\n",
      "**Data Set Characteristics:**\n",
      "\n",
      "    :Number of Instances: 150 (50 in each of three classes)\n",
      "    :Number of Attributes: 4 numeric, predictive attributes and the class\n",
      "    :Attribute Information:\n",
      "        - sepal length in cm\n",
      "        - sepal width in cm\n",
      "        - petal length in cm\n",
      "        - petal width in cm\n",
      "        - class:\n",
      "                - Iris-Setosa\n",
      "                - Iris-Versicolour\n",
      "                - Iris-Virginica\n",
      "                \n",
      "    :Summary Statistics:\n",
      "\n",
      "    ============== ==== ==== ======= ===== ====================\n",
      "                    Min  Max   Mean    SD   Class Correlation\n",
      "    ============== ==== ==== ======= ===== ====================\n",
      "    sepal length:   4.3  7.9   5.84   0.83    0.7826\n",
      "    sepal width:    2.0  4.4   3.05   0.43   -0.4194\n",
      "    petal length:   1.0  6.9   3.76   1.76    0.9490  (high!)\n",
      "    petal width:    0.1  2.5   1.20   0.76    0.9565  (high!)\n",
      "    ============== ==== ==== ======= ===== ====================\n",
      "\n",
      "    :Missing Attribute Values: None\n",
      "    :Class Distribution: 33.3% for each of 3 classes.\n",
      "    :Creator: R.A. Fisher\n",
      "    :Donor: Michael Marshall (MARSHALL%PLU@io.arc.nasa.gov)\n",
      "    :Date: July, 1988\n",
      "\n",
      "The famous Iris database, first used by Sir R.A. Fisher. The dataset is taken\n",
      "from Fisher's paper. Note that it's the same as in R, but not as in the UCI\n",
      "Machine Learning Repository, which has two wrong data points.\n",
      "\n",
      "This is perhaps the best known database to be found in the\n",
      "pattern recognition literature.  Fisher's paper is a classic in the field and\n",
      "is referenced frequently to this day.  (See Duda & Hart, for example.)  The\n",
      "data set contains 3 classes of 50 instances each, where each class refers to a\n",
      "type of iris plant.  One class is linearly separable from the other 2; the\n",
      "latter are NOT linearly separable from each other.\n",
      "\n",
      ".. topic:: References\n",
      "\n",
      "   - Fisher, R.A. \"The use of multiple measurements in taxonomic problems\"\n",
      "     Annual Eugenics, 7, Part II, 179-188 (1936); also in \"Contributions to\n",
      "     Mathematical Statistics\" (John Wiley, NY, 1950).\n",
      "   - Duda, R.O., & Hart, P.E. (1973) Pattern Classification and Scene Analysis.\n",
      "     (Q327.D83) John Wiley & Sons.  ISBN 0-471-22361-1.  See page 218.\n",
      "   - Dasarathy, B.V. (1980) \"Nosing Around the Neighborhood: A New System\n",
      "     Structure and Classification Rule for Recognition in Partially Exposed\n",
      "     Environments\".  IEEE Transactions on Pattern Analysis and Machine\n",
      "     Intelligence, Vol. PAMI-2, No. 1, 67-71.\n",
      "   - Gates, G.W. (1972) \"The Reduced Nearest Neighbor Rule\".  IEEE Transactions\n",
      "     on Information Theory, May 1972, 431-433.\n",
      "   - See also: 1988 MLC Proceedings, 54-64.  Cheeseman et al\"s AUTOCLASS II\n",
      "     conceptual clustering system finds 3 classes in the data.\n",
      "   - Many, many more ...\n"
     ]
    }
   ],
   "source": [
    "print(iris.DESCR)"
   ]
  },
  {
   "cell_type": "code",
   "execution_count": 32,
   "id": "b3dd3276",
   "metadata": {},
   "outputs": [
    {
     "name": "stdout",
     "output_type": "stream",
     "text": [
      "['sepal length (cm)', 'sepal width (cm)', 'petal length (cm)', 'petal width (cm)']\n"
     ]
    }
   ],
   "source": [
    "print(iris.feature_names)"
   ]
  },
  {
   "cell_type": "code",
   "execution_count": 33,
   "id": "fb82b4be",
   "metadata": {},
   "outputs": [
    {
     "name": "stdout",
     "output_type": "stream",
     "text": [
      "['setosa' 'versicolor' 'virginica']\n"
     ]
    }
   ],
   "source": [
    "print(iris.target_names)"
   ]
  },
  {
   "cell_type": "code",
   "execution_count": 27,
   "id": "48f98810",
   "metadata": {},
   "outputs": [
    {
     "name": "stdout",
     "output_type": "stream",
     "text": [
      "(600, 1)\n"
     ]
    }
   ],
   "source": []
  },
  {
   "cell_type": "code",
   "execution_count": 35,
   "id": "920d42c3",
   "metadata": {},
   "outputs": [
    {
     "name": "stdout",
     "output_type": "stream",
     "text": [
      "(150, 1)\n",
      "[[5.1]\n",
      " [4.9]\n",
      " [4.7]\n",
      " [4.6]\n",
      " [5. ]\n",
      " [5.4]\n",
      " [4.6]\n",
      " [5. ]\n",
      " [4.4]\n",
      " [4.9]\n",
      " [5.4]\n",
      " [4.8]\n",
      " [4.8]\n",
      " [4.3]\n",
      " [5.8]\n",
      " [5.7]\n",
      " [5.4]\n",
      " [5.1]\n",
      " [5.7]\n",
      " [5.1]\n",
      " [5.4]\n",
      " [5.1]\n",
      " [4.6]\n",
      " [5.1]\n",
      " [4.8]\n",
      " [5. ]\n",
      " [5. ]\n",
      " [5.2]\n",
      " [5.2]\n",
      " [4.7]\n",
      " [4.8]\n",
      " [5.4]\n",
      " [5.2]\n",
      " [5.5]\n",
      " [4.9]\n",
      " [5. ]\n",
      " [5.5]\n",
      " [4.9]\n",
      " [4.4]\n",
      " [5.1]\n",
      " [5. ]\n",
      " [4.5]\n",
      " [4.4]\n",
      " [5. ]\n",
      " [5.1]\n",
      " [4.8]\n",
      " [5.1]\n",
      " [4.6]\n",
      " [5.3]\n",
      " [5. ]\n",
      " [7. ]\n",
      " [6.4]\n",
      " [6.9]\n",
      " [5.5]\n",
      " [6.5]\n",
      " [5.7]\n",
      " [6.3]\n",
      " [4.9]\n",
      " [6.6]\n",
      " [5.2]\n",
      " [5. ]\n",
      " [5.9]\n",
      " [6. ]\n",
      " [6.1]\n",
      " [5.6]\n",
      " [6.7]\n",
      " [5.6]\n",
      " [5.8]\n",
      " [6.2]\n",
      " [5.6]\n",
      " [5.9]\n",
      " [6.1]\n",
      " [6.3]\n",
      " [6.1]\n",
      " [6.4]\n",
      " [6.6]\n",
      " [6.8]\n",
      " [6.7]\n",
      " [6. ]\n",
      " [5.7]\n",
      " [5.5]\n",
      " [5.5]\n",
      " [5.8]\n",
      " [6. ]\n",
      " [5.4]\n",
      " [6. ]\n",
      " [6.7]\n",
      " [6.3]\n",
      " [5.6]\n",
      " [5.5]\n",
      " [5.5]\n",
      " [6.1]\n",
      " [5.8]\n",
      " [5. ]\n",
      " [5.6]\n",
      " [5.7]\n",
      " [5.7]\n",
      " [6.2]\n",
      " [5.1]\n",
      " [5.7]\n",
      " [6.3]\n",
      " [5.8]\n",
      " [7.1]\n",
      " [6.3]\n",
      " [6.5]\n",
      " [7.6]\n",
      " [4.9]\n",
      " [7.3]\n",
      " [6.7]\n",
      " [7.2]\n",
      " [6.5]\n",
      " [6.4]\n",
      " [6.8]\n",
      " [5.7]\n",
      " [5.8]\n",
      " [6.4]\n",
      " [6.5]\n",
      " [7.7]\n",
      " [7.7]\n",
      " [6. ]\n",
      " [6.9]\n",
      " [5.6]\n",
      " [7.7]\n",
      " [6.3]\n",
      " [6.7]\n",
      " [7.2]\n",
      " [6.2]\n",
      " [6.1]\n",
      " [6.4]\n",
      " [7.2]\n",
      " [7.4]\n",
      " [7.9]\n",
      " [6.4]\n",
      " [6.3]\n",
      " [6.1]\n",
      " [7.7]\n",
      " [6.3]\n",
      " [6.4]\n",
      " [6. ]\n",
      " [6.9]\n",
      " [6.7]\n",
      " [6.9]\n",
      " [5.8]\n",
      " [6.8]\n",
      " [6.7]\n",
      " [6.7]\n",
      " [6.3]\n",
      " [6.5]\n",
      " [6.2]\n",
      " [5.9]]\n"
     ]
    }
   ],
   "source": [
    "\n",
    "x=x_values.reshape(150,1)\n",
    "print(x.shape)\n",
    "print(x)"
   ]
  },
  {
   "cell_type": "code",
   "execution_count": 39,
   "id": "bb0fb3b6",
   "metadata": {},
   "outputs": [
    {
     "name": "stdout",
     "output_type": "stream",
     "text": [
      "---------------x_train----------------\n",
      "[[5.1]\n",
      " [5.9]\n",
      " [4.6]\n",
      " [5.8]\n",
      " [4.8]\n",
      " [6.5]\n",
      " [4.9]\n",
      " [4.6]\n",
      " [6.4]\n",
      " [4.3]\n",
      " [5.6]\n",
      " [4.4]\n",
      " [5.5]\n",
      " [5. ]\n",
      " [5.1]\n",
      " [4.9]\n",
      " [4.9]\n",
      " [4.6]\n",
      " [5.9]\n",
      " [6.1]\n",
      " [5. ]\n",
      " [6.7]\n",
      " [5.7]\n",
      " [6.2]\n",
      " [7. ]\n",
      " [5.8]\n",
      " [5.4]\n",
      " [5. ]\n",
      " [6.1]\n",
      " [6.1]\n",
      " [7.2]\n",
      " [5.7]\n",
      " [6.3]\n",
      " [6.4]\n",
      " [6.3]\n",
      " [6.7]\n",
      " [4.9]]\n",
      "---------------x_test----------------\n",
      "[[5.8]\n",
      " [5.1]\n",
      " [6.6]\n",
      " [5.4]\n",
      " [7.9]\n",
      " [6.3]\n",
      " [6.9]\n",
      " [5.1]\n",
      " [4.7]\n",
      " [6.9]\n",
      " [5.6]\n",
      " [5.4]\n",
      " [7.1]\n",
      " [6.4]\n",
      " [6. ]\n",
      " [4.4]\n",
      " [5.8]\n",
      " [5.6]\n",
      " [5.4]\n",
      " [5. ]\n",
      " [5.5]\n",
      " [5.4]\n",
      " [6.7]\n",
      " [5. ]\n",
      " [7.2]\n",
      " [5.7]\n",
      " [5.5]\n",
      " [5.1]\n",
      " [6.1]\n",
      " [6.3]\n",
      " [6.1]\n",
      " [7.7]\n",
      " [5.6]\n",
      " [6.4]\n",
      " [5.8]\n",
      " [5.3]\n",
      " [5.5]\n",
      " [5.2]\n",
      " [6.5]\n",
      " [6.7]\n",
      " [6.8]\n",
      " [5.1]\n",
      " [6. ]\n",
      " [6.3]\n",
      " [6.6]\n",
      " [7.7]\n",
      " [5.7]\n",
      " [5. ]\n",
      " [4.8]\n",
      " [5.2]\n",
      " [5.1]\n",
      " [5.5]\n",
      " [7.7]\n",
      " [6.9]\n",
      " [7.3]\n",
      " [6.4]\n",
      " [6.2]\n",
      " [6. ]\n",
      " [7.7]\n",
      " [5.7]\n",
      " [4.8]\n",
      " [5.7]\n",
      " [6.3]\n",
      " [4.8]\n",
      " [4.7]\n",
      " [6.5]\n",
      " [4.6]\n",
      " [6.1]\n",
      " [6.5]\n",
      " [6.7]\n",
      " [5.7]\n",
      " [6.7]\n",
      " [6. ]\n",
      " [5.1]\n",
      " [6. ]\n",
      " [6.4]\n",
      " [6.5]\n",
      " [5. ]\n",
      " [6.3]\n",
      " [5.5]\n",
      " [5.4]\n",
      " [4.9]\n",
      " [5.2]\n",
      " [6.7]\n",
      " [4.4]\n",
      " [6. ]\n",
      " [6.4]\n",
      " [5.9]\n",
      " [5.2]\n",
      " [5.1]\n",
      " [5.8]\n",
      " [4.9]\n",
      " [7.4]\n",
      " [6.2]\n",
      " [7.6]\n",
      " [6.7]\n",
      " [6.3]\n",
      " [6.2]\n",
      " [7.2]\n",
      " [5.6]\n",
      " [5.7]\n",
      " [5.8]\n",
      " [4.5]\n",
      " [5.5]\n",
      " [6.9]\n",
      " [5. ]\n",
      " [6.8]\n",
      " [5. ]\n",
      " [4.8]\n",
      " [6.3]\n",
      " [5.6]\n",
      " [6.8]\n",
      " [5. ]]\n",
      "---------------y_train----------------\n",
      "[0 1 0 2 0 2 2 0 2 0 1 0 1 1 0 0 1 0 1 1 0 1 1 1 1 2 0 0 2 1 2 1 2 2 1 2 0]\n",
      "---------------y_test----------------\n",
      "[0 1 1 0 2 1 2 0 0 2 1 0 2 1 1 0 1 1 0 0 1 1 1 0 2 1 0 0 1 2 1 2 1 2 2 0 1\n",
      " 0 1 2 2 0 2 2 1 2 0 0 0 1 0 0 2 2 2 2 2 1 2 1 0 2 2 0 0 2 0 2 2 1 1 2 2 0\n",
      " 1 1 2 1 2 1 0 0 0 2 0 1 2 2 0 0 1 0 2 1 2 2 1 2 2 1 0 1 0 1 1 0 1 0 0 2 2\n",
      " 2 0]\n"
     ]
    }
   ],
   "source": [
    "x_train,x_test,y_train,y_test=train_test_split(x,y,train_size=.25,random_state=1)\n",
    "print(\"---------------x_train----------------\")\n",
    "print(x_train)\n",
    "print(\"---------------x_test----------------\")\n",
    "print(x_test)\n",
    "print(\"---------------y_train----------------\")\n",
    "print(y_train)\n",
    "print(\"---------------y_test----------------\")\n",
    "print(y_test)"
   ]
  },
  {
   "cell_type": "code",
   "execution_count": 40,
   "id": "f72a2fc8",
   "metadata": {},
   "outputs": [
    {
     "name": "stdout",
     "output_type": "stream",
     "text": [
      "-----------------------Test Class-----------------\n",
      " [0 1 1 0 2 1 2 0 0 2 1 0 2 1 1 0 1 1 0 0 1 1 1 0 2 1 0 0 1 2 1 2 1 2 2 0 1\n",
      " 0 1 2 2 0 2 2 1 2 0 0 0 1 0 0 2 2 2 2 2 1 2 1 0 2 2 0 0 2 0 2 2 1 1 2 2 0\n",
      " 1 1 2 1 2 1 0 0 0 2 0 1 2 2 0 0 1 0 2 1 2 2 1 2 2 1 0 1 0 1 1 0 1 0 0 2 2\n",
      " 2 0]\n",
      "\n",
      "---------------------------Predict Class-----------\n",
      " [1.06394396 0.54225667 1.660158   0.76583694 2.62900581 1.43657773\n",
      " 1.88373826 0.54225667 0.24414965 1.88373826 0.91489045 0.76583694\n",
      " 2.03279177 1.51110449 1.21299747 0.02056938 1.06394396 0.91489045\n",
      " 0.76583694 0.46772992 0.84036369 0.76583694 1.73468475 0.46772992\n",
      " 2.10731853 0.9894172  0.84036369 0.54225667 1.28752422 1.43657773\n",
      " 1.28752422 2.4799523  0.91489045 1.51110449 1.06394396 0.69131018\n",
      " 0.84036369 0.61678343 1.58563124 1.73468475 1.80921151 0.54225667\n",
      " 1.21299747 1.43657773 1.660158   2.4799523  0.9894172  0.46772992\n",
      " 0.3186764  0.61678343 0.54225667 0.84036369 2.4799523  1.88373826\n",
      " 2.18184528 1.51110449 1.36205098 1.21299747 2.4799523  0.9894172\n",
      " 0.3186764  0.9894172  1.43657773 0.3186764  0.24414965 1.58563124\n",
      " 0.16962289 1.28752422 1.58563124 1.73468475 0.9894172  1.73468475\n",
      " 1.21299747 0.54225667 1.21299747 1.51110449 1.58563124 0.46772992\n",
      " 1.43657773 0.84036369 0.76583694 0.39320316 0.61678343 1.73468475\n",
      " 0.02056938 1.21299747 1.51110449 1.13847071 0.61678343 0.54225667\n",
      " 1.06394396 0.39320316 2.25637204 1.36205098 2.40542555 1.73468475\n",
      " 1.43657773 1.36205098 2.10731853 0.91489045 0.9894172  1.06394396\n",
      " 0.09509614 0.84036369 1.88373826 0.46772992 1.80921151 0.46772992\n",
      " 0.3186764  1.43657773 0.91489045 1.80921151 0.46772992]\n"
     ]
    }
   ],
   "source": [
    "sl_reg = LinearRegression ()\n",
    "sl_reg.fit(x_train,y_train)\n",
    "y_predict = sl_reg.predict(x_test)\n",
    "print(\"-----------------------Test Class-----------------\\n\",y_test)\n",
    "print(\"\\n---------------------------Predict Class-----------\\n\",y_predict)"
   ]
  },
  {
   "cell_type": "code",
   "execution_count": 41,
   "id": "07d22bcc",
   "metadata": {},
   "outputs": [
    {
     "name": "stdout",
     "output_type": "stream",
     "text": [
      "[0.74526755]\n",
      "-3.2586078402146366\n"
     ]
    }
   ],
   "source": [
    "print(sl_reg.coef_)\n",
    "print(sl_reg.intercept_)"
   ]
  },
  {
   "cell_type": "code",
   "execution_count": 44,
   "id": "aef54625",
   "metadata": {},
   "outputs": [
    {
     "data": {
      "text/plain": [
       "Text(0, 0.5, 'sepal length')"
      ]
     },
     "execution_count": 44,
     "metadata": {},
     "output_type": "execute_result"
    },
    {
     "data": {
      "image/png": "[encoded data removed]",
      "text/plain": [
       "<Figure size 432x288 with 1 Axes>"
      ]
     },
     "metadata": {
      "needs_background": "light"
     },
     "output_type": "display_data"
    }
   ],
   "source": [
    "plt.scatter(x_test,y_test,marker='*',color='red')\n",
    "plt.plot(x_test,y_predict,marker='o',color='blue')\n",
    "plt.xlabel('test data')\n",
    "plt.ylabel('sepal length')"
   ]
  },
  {
   "cell_type": "code",
   "execution_count": 45,
   "id": "4fb3bc2e",
   "metadata": {},
   "outputs": [
    {
     "name": "stdout",
     "output_type": "stream",
     "text": [
      "0.2616224853405016\n"
     ]
    }
   ],
   "source": [
    "print(mean_squared_error(y_test,y_predict))"
   ]
  },
  {
   "cell_type": "code",
   "execution_count": 46,
   "id": "fac8f0b6",
   "metadata": {},
   "outputs": [
    {
     "name": "stdout",
     "output_type": "stream",
     "text": [
      "0.6156629641839778\n"
     ]
    }
   ],
   "source": [
    "print(r2_score(y_test,y_predict))"
   ]
  },
  {
   "cell_type": "code",
   "execution_count": null,
   "id": "4b5cb525",
   "metadata": {},
   "outputs": [],
   "source": []
  }
 ],
 "metadata": {
  "kernelspec": {
   "display_name": "Python 3 (ipykernel)",
   "language": "python",
   "name": "python3"
  },
  "language_info": {
   "codemirror_mode": {
    "name": "ipython",
    "version": 3
   },
   "file_extension": ".py",
   "mimetype": "text/x-python",
   "name": "python",
   "nbconvert_exporter": "python",
   "pygments_lexer": "ipython3",
   "version": "3.9.7"
  }
 },
 "nbformat": 4,
 "nbformat_minor": 5
}
