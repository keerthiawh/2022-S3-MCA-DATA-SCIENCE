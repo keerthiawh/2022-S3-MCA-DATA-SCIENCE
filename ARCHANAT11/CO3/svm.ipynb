{
  "nbformat": 4,
  "nbformat_minor": 0,
  "metadata": {
    "colab": {
      "provenance": []
    },
    "kernelspec": {
      "name": "python3",
      "display_name": "Python 3"
    },
    "language_info": {
      "name": "python"
    }
  },
  "cells": [
    {
      "cell_type": "code",
      "execution_count": 3,
      "metadata": {
        "colab": {
          "base_uri": "https://localhost:8080/"
        },
        "id": "kXUdJF_kombP",
        "outputId": "bc3cad45-1bcc-4a74-c2ce-ddd854eed8f0"
      },
      "outputs": [
        {
          "output_type": "stream",
          "name": "stdout",
          "text": [
            "---TEST CLASS--- [1 0 2 2 0 2 2 0 0 2 2 0 0 1 1 1 1 2 2 0 1 2 2 1 1 2 1 0 1 0 1 2 1 0 2 1 0\n",
            " 1]\n",
            "---PREDICT CLASS--- [1 0 2 2 0 2 2 0 0 2 2 0 0 1 2 1 1 2 1 0 1 1 2 1 1 2 1 0 1 0 1 2 1 0 2 1 0\n",
            " 1]\n",
            "ACCURACY SCORE: 0.9210526315789473\n"
          ]
        }
      ],
      "source": [
        "from sklearn.svm import SVC\n",
        "from sklearn.metrics import accuracy_score\n",
        "from sklearn.model_selection import train_test_split\n",
        "import matplotlib.pyplot as plt\n",
        "\n",
        "from sklearn import datasets\n",
        "iris=datasets.load_iris()\n",
        "x=iris.data\n",
        "y=iris.target\n",
        "xtrain,xtest,ytrain,ytest=train_test_split(x,y,test_size=0.25)\n",
        "svm=SVC(kernel= 'linear', random_state=1, C=0.1)\n",
        "svm=svm.fit(xtrain,ytrain)\n",
        "y_predict=svm.predict(xtest)\n",
        "print('---TEST CLASS---',ytest)\n",
        "print('---PREDICT CLASS---',y_predict)\n",
        "print('ACCURACY SCORE:',accuracy_score(ytest,y_predict))\n"
      ]
    }
  ]
}