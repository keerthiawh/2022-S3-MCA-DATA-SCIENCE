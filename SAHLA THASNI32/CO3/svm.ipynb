{
 "cells": [
  {
   "cell_type": "code",
   "execution_count": 1,
   "id": "a7664df3",
   "metadata": {},
   "outputs": [],
   "source": [
    "from sklearn.svm import SVC\n",
    "from sklearn.metrics import r2_score,accuracy_score,confusion_matrix,ConfusionMatrixDisplay,mean_squared_error\n",
    "from sklearn.model_selection import train_test_split\n",
    "import matplotlib.pyplot as plt\n",
    "\n",
    "from sklearn import datasets\n",
    "iris=datasets.load_iris()\n",
    "x=iris.data\n",
    "y=iris.target"
   ]
  },
  {
   "cell_type": "code",
   "execution_count": 4,
   "id": "392d1c0c",
   "metadata": {},
   "outputs": [
    {
     "name": "stdout",
     "output_type": "stream",
     "text": [
      "---TEST CLASS--- [0 0 2 0 2 0 2 1 1 0 2 1 1 0 1 1 0 2 2 1 0 2 2 2 2 2 1 1 1 1 2 2 2 0 1 2 1\n",
      " 1]\n",
      "---PREDICT CLASS--- [0 0 2 0 2 0 1 1 1 0 2 1 1 0 1 1 0 2 2 1 0 1 2 2 2 2 1 1 1 1 2 2 1 0 1 2 1\n",
      " 1]\n",
      "ACCURACY SCORE: 0.9210526315789473\n"
     ]
    }
   ],
   "source": [
    "xtrain,xtest,ytrain,ytest=train_test_split(x,y,test_size=0.25)\n",
    "SVM=SVC(kernel='linear',random_state=1,C=0.1)\n",
    "SVM=SVM.fit(xtrain,ytrain)\n",
    "y_predict=SVM.predict(xtest)\n",
    "print('---TEST CLASS---',ytest)\n",
    "print('---PREDICT CLASS---',y_predict)\n",
    "print('ACCURACY SCORE:',accuracy_score(ytest,y_predict))\n"
   ]
  },
  {
   "cell_type": "code",
   "execution_count": null,
   "id": "561c8ff2",
   "metadata": {},
   "outputs": [],
   "source": []
  }
 ],
 "metadata": {
  "kernelspec": {
   "display_name": "Python 3 (ipykernel)",
   "language": "python",
   "name": "python3"
  },
  "language_info": {
   "codemirror_mode": {
    "name": "ipython",
    "version": 3
   },
   "file_extension": ".py",
   "mimetype": "text/x-python",
   "name": "python",
   "nbconvert_exporter": "python",
   "pygments_lexer": "ipython3",
   "version": "3.9.7"
  }
 },
 "nbformat": 4,
 "nbformat_minor": 5
}
