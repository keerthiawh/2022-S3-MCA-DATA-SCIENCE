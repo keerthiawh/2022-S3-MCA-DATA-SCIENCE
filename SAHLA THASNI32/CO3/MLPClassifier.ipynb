{
 "cells": [
  {
   "cell_type": "code",
   "execution_count": 1,
   "id": "06a96fd4",
   "metadata": {},
   "outputs": [],
   "source": [
    "from sklearn.neural_network import MLPClassifier\n",
    "from sklearn.metrics import r2_score,accuracy_score,confusion_matrix,ConfusionMatrixDisplay,mean_squared_error\n",
    "from sklearn.model_selection import train_test_split\n",
    "import matplotlib.pyplot as plt\n",
    "\n",
    "from sklearn import datasets\n",
    "iris=datasets.load_iris()\n",
    "x=iris.data\n",
    "y=iris.target"
   ]
  },
  {
   "cell_type": "code",
   "execution_count": 2,
   "id": "ff779d95",
   "metadata": {},
   "outputs": [
    {
     "name": "stdout",
     "output_type": "stream",
     "text": [
      "---TEST CLASS--- [0 1 1 2 2 0 2 1 0 2 0 1 0 0 2 1 1 0 1 1 0 0 2 2 2 2 1 1 2 2 0 1 0 1 2 0 0\n",
      " 0]\n",
      "---PREDICT CLASS--- [0 1 1 2 2 0 2 1 0 2 0 1 0 0 2 1 1 0 1 1 0 0 2 2 2 2 1 1 2 2 0 1 0 2 2 0 0\n",
      " 0]\n",
      "ACCURACY SCORE: 0.9736842105263158\n",
      "R2 SCORE: 0.9613821138211383\n",
      "MEAN SQUARED ERROR 0.02631578947368421\n"
     ]
    },
    {
     "name": "stderr",
     "output_type": "stream",
     "text": [
      "C:\\ProgramData\\Anaconda3\\lib\\site-packages\\sklearn\\neural_network\\_multilayer_perceptron.py:614: ConvergenceWarning: Stochastic Optimizer: Maximum iterations (200) reached and the optimization hasn't converged yet.\n",
      "  warnings.warn(\n"
     ]
    }
   ],
   "source": [
    "xtrain,xtest,ytrain,ytest=train_test_split(x,y,test_size=0.25)\n",
    "mlp=MLPClassifier(hidden_layer_sizes=(30,),activation='relu')\n",
    "mlp=mlp.fit(xtrain,ytrain)\n",
    "y_predict=mlp.predict(xtest)\n",
    "print('---TEST CLASS---',ytest)\n",
    "print('---PREDICT CLASS---',y_predict)\n",
    "print('ACCURACY SCORE:',accuracy_score(ytest,y_predict))\n",
    "print('R2 SCORE:',r2_score(ytest,y_predict))\n",
    "print('MEAN SQUARED ERROR',mean_squared_error(ytest,y_predict))"
   ]
  },
  {
   "cell_type": "code",
   "execution_count": 3,
   "id": "99fecebb",
   "metadata": {},
   "outputs": [
    {
     "name": "stdout",
     "output_type": "stream",
     "text": [
      "[[14  0  0]\n",
      " [ 0 11  1]\n",
      " [ 0  0 12]]\n"
     ]
    },
    {
     "data": {
      "image/png": "[encoded data removed]",
      "text/plain": [
       "<Figure size 432x288 with 2 Axes>"
      ]
     },
     "metadata": {
      "needs_background": "light"
     },
     "output_type": "display_data"
    }
   ],
   "source": [
    "cm=confusion_matrix(ytest,y_predict,normalize= None,labels=mlp.classes_)\n",
    "print(cm)\n",
    "cm_dis=ConfusionMatrixDisplay(confusion_matrix=cm,display_labels=mlp.classes_)\n",
    "cm_dis.plot()\n",
    "plt.show()"
   ]
  },
  {
   "cell_type": "code",
   "execution_count": null,
   "id": "fb6dc857",
   "metadata": {},
   "outputs": [],
   "source": []
  }
 ],
 "metadata": {
  "kernelspec": {
   "display_name": "Python 3 (ipykernel)",
   "language": "python",
   "name": "python3"
  },
  "language_info": {
   "codemirror_mode": {
    "name": "ipython",
    "version": 3
   },
   "file_extension": ".py",
   "mimetype": "text/x-python",
   "name": "python",
   "nbconvert_exporter": "python",
   "pygments_lexer": "ipython3",
   "version": "3.9.7"
  }
 },
 "nbformat": 4,
 "nbformat_minor": 5
}
