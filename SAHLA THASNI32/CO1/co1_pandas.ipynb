{
 "cells": [
  {
   "cell_type": "code",
   "execution_count": 3,
   "id": "a3a65918",
   "metadata": {},
   "outputs": [
    {
     "name": "stdout",
     "output_type": "stream",
     "text": [
      "x    1\n",
      "y    2\n",
      "z    3\n",
      "dtype: int64\n",
      "\n",
      "\n",
      "1       red\n",
      "2      blue\n",
      "3     green\n",
      "4    yellow\n",
      "dtype: object\n",
      "\n",
      "\n",
      "day1    [100, 300]\n",
      "day2           200\n",
      "day3           300\n",
      "dtype: object\n"
     ]
    }
   ],
   "source": [
    "import pandas as pd\n",
    "a=[1,2,3]\n",
    "print(pd.Series(a,index=['x','y','z']))\n",
    "colors=['red','blue','green','yellow']\n",
    "print(\"\\n\")\n",
    "print(pd.Series(colors,index=[1,2,3,4]))\n",
    "print(\"\\n\")\n",
    "booking={\"day1\":100,\"day2\":200,\"day3\":300}\n",
    "bid=pd.Series(booking)\n",
    "booking={\"day1\":[100,300],\"day2\":200,\"day3\":300}\n",
    "bid=pd.Series(booking)\n",
    "print(bid)"
   ]
  },
  {
   "cell_type": "code",
   "execution_count": 2,
   "id": "a531da4e",
   "metadata": {},
   "outputs": [
    {
     "name": "stdout",
     "output_type": "stream",
     "text": [
      "<class 'pandas.core.frame.DataFrame'>\n",
      "/n\n",
      "    Ingredient  Sweetness  Crunchiness   FoodType\n",
      "0        apple         10            9      fruit\n",
      "1        bacon          1            4    protein\n",
      "2       banana         10            1      fruit\n",
      "3       carrot          7           10  vegetable\n",
      "4       celery          3           10  vegetable\n",
      "5       cheese          1            1    protein\n",
      "6     cucumber          2            8  vegetable\n",
      "7         fish          3            1    protein\n",
      "8        grape          8            5      fruit\n",
      "9   green bean          3            7  vegetable\n",
      "10     lettuce          1            9  vegetable\n",
      "11        nuts          3            6    protein\n",
      "12      orange          7            3      fruit\n",
      "13        pear         10            7      fruit\n",
      "14      shrimp          2            3    protein\n"
     ]
    }
   ],
   "source": [
    "import pandas as pd\n",
    "df=pd.read_csv('food.csv')\n",
    "print(type(df))\n",
    "print(\"/n\")\n",
    "print(df)"
   ]
  },
  {
   "cell_type": "code",
   "execution_count": 10,
   "id": "ad1e7c91",
   "metadata": {},
   "outputs": [
    {
     "name": "stdout",
     "output_type": "stream",
     "text": [
      "<class 'pandas.core.frame.DataFrame'>\n",
      "RangeIndex: 15 entries, 0 to 14\n",
      "Data columns (total 4 columns):\n",
      " #   Column       Non-Null Count  Dtype \n",
      "---  ------       --------------  ----- \n",
      " 0   Ingredient   15 non-null     object\n",
      " 1   Sweetness    15 non-null     int64 \n",
      " 2   Crunchiness  15 non-null     int64 \n",
      " 3   FoodType     15 non-null     object\n",
      "dtypes: int64(2), object(2)\n",
      "memory usage: 608.0+ bytes\n",
      "None\n"
     ]
    }
   ],
   "source": [
    "\n",
    "print(df.info())"
   ]
  },
  {
   "cell_type": "code",
   "execution_count": 9,
   "id": "cfbb929c",
   "metadata": {},
   "outputs": [
    {
     "name": "stdout",
     "output_type": "stream",
     "text": [
      "  Ingredient  Sweetness  Crunchiness   FoodType\n",
      "0      apple         10            9      fruit\n",
      "1      bacon          1            4    protein\n",
      "2     banana         10            1      fruit\n",
      "3     carrot          7           10  vegetable\n",
      "4     celery          3           10  vegetable\n"
     ]
    }
   ],
   "source": [
    "\n",
    "print(df.head(5))"
   ]
  },
  {
   "cell_type": "code",
   "execution_count": 8,
   "id": "89adccb3",
   "metadata": {},
   "outputs": [
    {
     "name": "stdout",
     "output_type": "stream",
     "text": [
      "   Ingredient  Sweetness  Crunchiness   FoodType\n",
      "10    lettuce          1            9  vegetable\n",
      "11       nuts          3            6    protein\n",
      "12     orange          7            3      fruit\n",
      "13       pear         10            7      fruit\n",
      "14     shrimp          2            3    protein\n"
     ]
    }
   ],
   "source": [
    "\n",
    "print(df.tail(5))"
   ]
  },
  {
   "cell_type": "code",
   "execution_count": 7,
   "id": "4e8fedce",
   "metadata": {},
   "outputs": [
    {
     "name": "stdout",
     "output_type": "stream",
     "text": [
      "(15, 4)\n"
     ]
    }
   ],
   "source": [
    "\n",
    "print(df.shape)"
   ]
  },
  {
   "cell_type": "code",
   "execution_count": 11,
   "id": "902910be",
   "metadata": {},
   "outputs": [
    {
     "name": "stdout",
     "output_type": "stream",
     "text": [
      "       Sweetness  Crunchiness\n",
      "count  15.000000    15.000000\n",
      "mean    4.733333     5.600000\n",
      "std     3.514595     3.290679\n",
      "min     1.000000     1.000000\n",
      "25%     2.000000     3.000000\n",
      "50%     3.000000     6.000000\n",
      "75%     7.500000     8.500000\n",
      "max    10.000000    10.000000\n"
     ]
    }
   ],
   "source": [
    "print(df.describe())"
   ]
  },
  {
   "cell_type": "code",
   "execution_count": 18,
   "id": "2f1e8210",
   "metadata": {},
   "outputs": [
    {
     "name": "stdout",
     "output_type": "stream",
     "text": [
      "             Sweetness  Crunchiness\n",
      "Sweetness     1.000000     0.070407\n",
      "Crunchiness   0.070407     1.000000\n"
     ]
    }
   ],
   "source": [
    "print(df.corr(method='pearson'))"
   ]
  },
  {
   "cell_type": "code",
   "execution_count": 20,
   "id": "c48a83cd",
   "metadata": {},
   "outputs": [
    {
     "name": "stdout",
     "output_type": "stream",
     "text": [
      "  Ingredient  Sweetness  Crunchiness FoodType\n",
      "0      apple         10            9    fruit\n",
      "1      bacon          1            4  protein\n",
      "2     banana         10            1    fruit\n"
     ]
    }
   ],
   "source": [
    "print(df[:3])"
   ]
  },
  {
   "cell_type": "code",
   "execution_count": 21,
   "id": "9ddc8b19",
   "metadata": {},
   "outputs": [
    {
     "name": "stdout",
     "output_type": "stream",
     "text": [
      "   Sweetness  Crunchiness\n",
      "2         10            1\n",
      "3          7           10\n"
     ]
    }
   ],
   "source": [
    "print(df.iloc[2:4,1:3])"
   ]
  },
  {
   "cell_type": "code",
   "execution_count": 23,
   "id": "66938fb9",
   "metadata": {},
   "outputs": [
    {
     "name": "stdout",
     "output_type": "stream",
     "text": [
      "Data Cleaning\n",
      "/n\n",
      "    Ingredient Sweetness  Crunchiness   FoodType\n",
      "0        apple        10            9      fruit\n",
      "1        bacon         1            4    protein\n",
      "2       banana        10            1      fruit\n",
      "3       carrot         7           10  vegetable\n",
      "4       celery       NaN           10  vegetable\n",
      "5       cheese         1            1    protein\n",
      "6     cucumber         2            8  vegetable\n",
      "7         fish         3            1        123\n",
      "8        grape         8            5      fruit\n",
      "9   green bean         3            7  vegetable\n",
      "10     lettuce        AA            9  vegetable\n",
      "11        nuts         3            6    protein\n",
      "12      orange         7            3      fruit\n",
      "13        pear        10            7      fruit\n",
      "14      shrimp         2            3    protein\n",
      "15      shrimp         2            3    protein\n",
      "16      banana        10            1      fruit\n"
     ]
    }
   ],
   "source": [
    "print(\"Data Cleaning\")\n",
    "print(\"/n\")\n",
    "df=pd.read_csv(\"food_cleaning.csv\")\n",
    "print(df)"
   ]
  },
  {
   "cell_type": "code",
   "execution_count": 24,
   "id": "12cf10aa",
   "metadata": {},
   "outputs": [
    {
     "name": "stdout",
     "output_type": "stream",
     "text": [
      "    Ingredient Sweetness  Crunchiness   FoodType\n",
      "0        apple        10            9      fruit\n",
      "1        bacon         1            4    protein\n",
      "2       banana        10            1      fruit\n",
      "3       carrot         7           10  vegetable\n",
      "5       cheese         1            1    protein\n",
      "6     cucumber         2            8  vegetable\n",
      "7         fish         3            1        123\n",
      "8        grape         8            5      fruit\n",
      "9   green bean         3            7  vegetable\n",
      "10     lettuce        AA            9  vegetable\n",
      "11        nuts         3            6    protein\n",
      "12      orange         7            3      fruit\n",
      "13        pear        10            7      fruit\n",
      "14      shrimp         2            3    protein\n",
      "15      shrimp         2            3    protein\n",
      "16      banana        10            1      fruit\n"
     ]
    }
   ],
   "source": [
    "data=df.dropna()\n",
    "print(data)"
   ]
  },
  {
   "cell_type": "code",
   "execution_count": 26,
   "id": "9c67bb6c",
   "metadata": {},
   "outputs": [
    {
     "name": "stdout",
     "output_type": "stream",
     "text": [
      "    Ingredient Sweetness  Crunchiness   FoodType\n",
      "0        apple        10            9      fruit\n",
      "1        bacon         1            4    protein\n",
      "2       banana        10            1      fruit\n",
      "3       carrot         7           10  vegetable\n",
      "4       celery       NaN           10  vegetable\n",
      "5       cheese         1            1    protein\n",
      "6     cucumber         2            8  vegetable\n",
      "7         fish         3            1        123\n",
      "8        grape         8            5      fruit\n",
      "9   green bean         3            7  vegetable\n",
      "10     lettuce        AA            9  vegetable\n",
      "11        nuts         3            6    protein\n",
      "12      orange         7            3      fruit\n",
      "13        pear        10            7      fruit\n",
      "14      shrimp         2            3    protein\n"
     ]
    }
   ],
   "source": [
    "df.duplicated().any()\n",
    "df.drop_duplicates(inplace=True)\n",
    "print(df)"
   ]
  },
  {
   "cell_type": "code",
   "execution_count": 35,
   "id": "56be9254",
   "metadata": {},
   "outputs": [
    {
     "name": "stdout",
     "output_type": "stream",
     "text": [
      "5.6\n",
      "    Ingredient Sweetness  Crunchiness   FoodType\n",
      "0        apple        10            9      fruit\n",
      "1        bacon         1            4    protein\n",
      "2       banana        10            1      fruit\n",
      "3       carrot         7           10  vegetable\n",
      "4       celery       NaN           10  vegetable\n",
      "5       cheese         1            1    protein\n",
      "6     cucumber         2            8  vegetable\n",
      "7         fish         3            1        123\n",
      "8        grape         8            5      fruit\n",
      "9   green bean         3            7  vegetable\n",
      "10     lettuce        AA            9  vegetable\n",
      "11        nuts         3            6    protein\n",
      "12      orange         7            3      fruit\n",
      "13        pear        10            7      fruit\n",
      "14      shrimp         2            3    protein\n"
     ]
    }
   ],
   "source": [
    "mean_sweetness=df[\"Crunchiness\"].mean()\n",
    "print(mean_sweetness)\n",
    "df[\"Crunchiness\"].fillna(mean_sweetness,inplace=True)\n",
    "print(df)"
   ]
  },
  {
   "cell_type": "markdown",
   "id": "60923b43",
   "metadata": {},
   "source": [
    "\n",
    "     "
   ]
  },
  {
   "cell_type": "code",
   "execution_count": 10,
   "id": "029ceecf",
   "metadata": {},
   "outputs": [
    {
     "ename": "NameError",
     "evalue": "name 'df' is not defined",
     "output_type": "error",
     "traceback": [
      "\u001b[1;31m---------------------------------------------------------------------------\u001b[0m",
      "\u001b[1;31mNameError\u001b[0m                                 Traceback (most recent call last)",
      "\u001b[1;32mC:\\Users\\AWH28~1\\AppData\\Local\\Temp/ipykernel_8964/2424900430.py\u001b[0m in \u001b[0;36m<module>\u001b[1;34m\u001b[0m\n\u001b[1;32m----> 1\u001b[1;33m \u001b[0mprint\u001b[0m\u001b[1;33m(\u001b[0m\u001b[0mdf\u001b[0m\u001b[1;33m)\u001b[0m\u001b[1;33m\u001b[0m\u001b[1;33m\u001b[0m\u001b[0m\n\u001b[0m\u001b[0;32m      2\u001b[0m \u001b[1;32mfor\u001b[0m \u001b[0mx\u001b[0m \u001b[1;32min\u001b[0m \u001b[0mdf\u001b[0m\u001b[1;33m.\u001b[0m\u001b[0mindex\u001b[0m\u001b[1;33m:\u001b[0m\u001b[1;33m\u001b[0m\u001b[1;33m\u001b[0m\u001b[0m\n\u001b[0;32m      3\u001b[0m     \u001b[1;32mif\u001b[0m \u001b[0mdf\u001b[0m\u001b[1;33m.\u001b[0m\u001b[0mloc\u001b[0m\u001b[1;33m[\u001b[0m\u001b[0mx\u001b[0m\u001b[1;33m,\u001b[0m\u001b[1;34m'FoodType'\u001b[0m\u001b[1;33m]\u001b[0m \u001b[1;33m!=\u001b[0m \u001b[1;34m'fruit'\u001b[0m\u001b[1;32mand\u001b[0m \u001b[0mdf\u001b[0m\u001b[1;33m.\u001b[0m\u001b[0mloc\u001b[0m\u001b[1;33m[\u001b[0m\u001b[0mx\u001b[0m\u001b[1;33m,\u001b[0m\u001b[1;34m'FoodType'\u001b[0m\u001b[1;33m]\u001b[0m \u001b[1;33m!=\u001b[0m \u001b[1;34m'vegetable'\u001b[0m\u001b[1;33m:\u001b[0m\u001b[1;33m\u001b[0m\u001b[1;33m\u001b[0m\u001b[0m\n\u001b[0;32m      4\u001b[0m         \u001b[0mdf\u001b[0m\u001b[1;33m.\u001b[0m\u001b[0mdrop\u001b[0m\u001b[1;33m(\u001b[0m\u001b[0mx\u001b[0m\u001b[1;33m,\u001b[0m\u001b[0minplace\u001b[0m\u001b[1;33m=\u001b[0m\u001b[1;32mTrue\u001b[0m\u001b[1;33m)\u001b[0m\u001b[1;33m\u001b[0m\u001b[1;33m\u001b[0m\u001b[0m\n\u001b[0;32m      5\u001b[0m         \u001b[0mprint\u001b[0m\u001b[1;33m(\u001b[0m\u001b[0mdf\u001b[0m\u001b[1;33m)\u001b[0m\u001b[1;33m\u001b[0m\u001b[1;33m\u001b[0m\u001b[0m\n",
      "\u001b[1;31mNameError\u001b[0m: name 'df' is not defined"
     ]
    }
   ],
   "source": [
    "\n",
    "        \n",
    "    "
   ]
  },
  {
   "cell_type": "code",
   "execution_count": 8,
   "id": "860e1cec",
   "metadata": {},
   "outputs": [
    {
     "ename": "NameError",
     "evalue": "name 'df' is not defined",
     "output_type": "error",
     "traceback": [
      "\u001b[1;31m---------------------------------------------------------------------------\u001b[0m",
      "\u001b[1;31mNameError\u001b[0m                                 Traceback (most recent call last)",
      "\u001b[1;32mC:\\Users\\AWH28~1\\AppData\\Local\\Temp/ipykernel_8964/3707871773.py\u001b[0m in \u001b[0;36m<module>\u001b[1;34m\u001b[0m\n\u001b[1;32m----> 1\u001b[1;33m \u001b[0mprint\u001b[0m\u001b[1;33m(\u001b[0m\u001b[0mdf\u001b[0m\u001b[1;33m)\u001b[0m\u001b[1;33m\u001b[0m\u001b[1;33m\u001b[0m\u001b[0m\n\u001b[0m\u001b[0;32m      2\u001b[0m \u001b[1;32mfor\u001b[0m \u001b[0mx\u001b[0m \u001b[1;32min\u001b[0m \u001b[0mdf\u001b[0m\u001b[1;33m.\u001b[0m\u001b[0mindex\u001b[0m\u001b[1;33m:\u001b[0m\u001b[1;33m\u001b[0m\u001b[1;33m\u001b[0m\u001b[0m\n\u001b[0;32m      3\u001b[0m     \u001b[1;32mif\u001b[0m \u001b[0mdf\u001b[0m\u001b[1;33m.\u001b[0m\u001b[0mloc\u001b[0m\u001b[1;33m[\u001b[0m\u001b[0mx\u001b[0m\u001b[1;33m,\u001b[0m\u001b[1;34m'FoodType'\u001b[0m\u001b[1;33m]\u001b[0m \u001b[1;33m!=\u001b[0m \u001b[1;34m'fruit'\u001b[0m \u001b[1;32mand\u001b[0m \u001b[0mdf\u001b[0m\u001b[1;33m.\u001b[0m\u001b[0mloc\u001b[0m\u001b[1;33m[\u001b[0m\u001b[0mx\u001b[0m\u001b[1;33m,\u001b[0m\u001b[1;34m'FoodType'\u001b[0m\u001b[1;33m]\u001b[0m \u001b[1;33m!=\u001b[0m \u001b[1;34m'vegetable'\u001b[0m\u001b[1;33m:\u001b[0m\u001b[1;33m\u001b[0m\u001b[1;33m\u001b[0m\u001b[0m\n\u001b[0;32m      4\u001b[0m         \u001b[0mdf\u001b[0m\u001b[1;33m.\u001b[0m\u001b[0mdrop\u001b[0m\u001b[1;33m(\u001b[0m\u001b[0mx\u001b[0m\u001b[1;33m,\u001b[0m\u001b[0minplace\u001b[0m\u001b[1;33m=\u001b[0m\u001b[1;32mTrue\u001b[0m\u001b[1;33m)\u001b[0m\u001b[1;33m\u001b[0m\u001b[1;33m\u001b[0m\u001b[0m\n\u001b[0;32m      5\u001b[0m         \u001b[0mprint\u001b[0m\u001b[1;33m(\u001b[0m\u001b[0mdf\u001b[0m\u001b[1;33m)\u001b[0m\u001b[1;33m\u001b[0m\u001b[1;33m\u001b[0m\u001b[0m\n",
      "\u001b[1;31mNameError\u001b[0m: name 'df' is not defined"
     ]
    }
   ],
   "source": []
  },
  {
   "cell_type": "code",
   "execution_count": null,
   "id": "5a56a3a9",
   "metadata": {},
   "outputs": [],
   "source": []
  }
 ],
 "metadata": {
  "kernelspec": {
   "display_name": "Python 3 (ipykernel)",
   "language": "python",
   "name": "python3"
  },
  "language_info": {
   "codemirror_mode": {
    "name": "ipython",
    "version": 3
   },
   "file_extension": ".py",
   "mimetype": "text/x-python",
   "name": "python",
   "nbconvert_exporter": "python",
   "pygments_lexer": "ipython3",
   "version": "3.9.7"
  }
 },
 "nbformat": 4,
 "nbformat_minor": 5
}
