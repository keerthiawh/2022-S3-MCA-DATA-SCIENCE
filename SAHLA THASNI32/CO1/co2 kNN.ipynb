{
 "cells": [
  {
   "cell_type": "code",
   "execution_count": 1,
   "id": "58f50975",
   "metadata": {},
   "outputs": [
    {
     "name": "stdout",
     "output_type": "stream",
     "text": [
      "[[10  9]\n",
      " [ 1  4]\n",
      " [10  1]\n",
      " [ 7 10]\n",
      " [ 3 10]\n",
      " [ 1  1]\n",
      " [ 2  8]\n",
      " [ 3  1]\n",
      " [ 8  5]\n",
      " [ 3  7]\n",
      " [ 1  9]\n",
      " [ 3  6]\n",
      " [ 7  3]\n",
      " [10  7]\n",
      " [ 2  3]]\n",
      "['fruit' 'protein' 'fruit' 'vegetable' 'vegetable' 'protein' 'vegetable'\n",
      " 'protein' 'fruit' 'vegetable' 'vegetable' 'protein' 'fruit' 'fruit'\n",
      " 'protein']\n"
     ]
    }
   ],
   "source": [
    "from sklearn.neighbors import KNeighborsClassifier\n",
    "from sklearn.metrics import accuracy_score,confusion_matrix,ConfusionMatrixDisplay\n",
    "from sklearn.model_selection import train_test_split\n",
    "from sklearn.preprocessing import LabelEncoder\n",
    "import pandas as pd\n",
    "import matplotlib.pyplot as plt\n",
    "\n",
    "data=pd.read_csv('food (1).csv')\n",
    "x=data.iloc[:,1:3].values\n",
    "print(x)\n",
    "y=data.iloc[:,3].values\n",
    "print(y)"
   ]
  },
  {
   "cell_type": "code",
   "execution_count": 3,
   "id": "98e0ca02",
   "metadata": {},
   "outputs": [
    {
     "name": "stdout",
     "output_type": "stream",
     "text": [
      "  Ingredient  Sweetness  Crunchiness   FoodType\n",
      "0      apple         10            9      fruit\n",
      "1      bacon          1            4    protein\n",
      "2     banana         10            1      fruit\n",
      "3     carrot          7           10  vegetable\n",
      "4     celery          3           10  vegetable\n"
     ]
    }
   ],
   "source": [
    "print(data.head(5))\n"
   ]
  },
  {
   "cell_type": "code",
   "execution_count": 4,
   "id": "7d05b64a",
   "metadata": {},
   "outputs": [
    {
     "name": "stdout",
     "output_type": "stream",
     "text": [
      "   Ingredient  Sweetness  Crunchiness   FoodType\n",
      "10    lettuce          1            9  vegetable\n",
      "11       nuts          3            6    protein\n",
      "12     orange          7            3      fruit\n",
      "13       pear         10            7      fruit\n",
      "14     shrimp          2            3    protein\n"
     ]
    }
   ],
   "source": [
    "print(data.tail(5))"
   ]
  },
  {
   "cell_type": "code",
   "execution_count": 5,
   "id": "7c1bf9f9",
   "metadata": {},
   "outputs": [
    {
     "name": "stdout",
     "output_type": "stream",
     "text": [
      "<class 'pandas.core.frame.DataFrame'>\n",
      "RangeIndex: 15 entries, 0 to 14\n",
      "Data columns (total 4 columns):\n",
      " #   Column       Non-Null Count  Dtype \n",
      "---  ------       --------------  ----- \n",
      " 0   Ingredient   15 non-null     object\n",
      " 1   Sweetness    15 non-null     int64 \n",
      " 2   Crunchiness  15 non-null     int64 \n",
      " 3   FoodType     15 non-null     object\n",
      "dtypes: int64(2), object(2)\n",
      "memory usage: 608.0+ bytes\n",
      "None\n"
     ]
    }
   ],
   "source": [
    "print(data.info())"
   ]
  },
  {
   "cell_type": "code",
   "execution_count": 21,
   "id": "39a0b189",
   "metadata": {},
   "outputs": [
    {
     "name": "stdout",
     "output_type": "stream",
     "text": [
      "[0 1 0 2 2 1 2 1 0 2 2 1 0 0 1]\n",
      "[0 0 0 2]\n",
      "---Test class--\n",
      " [0 0 0 2]\n",
      "\n",
      "---predict class---\n",
      " [0 1 0 2]\n",
      "[[0.4 0.2 0.4]\n",
      " [0.4 0.6 0. ]\n",
      " [0.4 0.2 0.4]\n",
      " [0.2 0.2 0.6]]\n"
     ]
    }
   ],
   "source": [
    "le=LabelEncoder()\n",
    "y_new=le.fit_transform(y)\n",
    "print(y_new)\n",
    "x_train,x_test,y_train,y_test=train_test_split(x,y_new,test_size=.25,random_state=25)\n",
    "print(y_test)\n",
    "Knn=KNeighborsClassifier(n_neighbors=5)\n",
    "Knn.fit(x_train,y_train)\n",
    "y_predict = Knn.predict(x_test)\n",
    "print(\"---Test class--\\n\",y_test)\n",
    "print(\"\\n---predict class---\\n\",y_predict)\n",
    "print(Knn.predict_proba(x_test))"
   ]
  },
  {
   "cell_type": "code",
   "execution_count": 3,
   "id": "b205fcdc",
   "metadata": {},
   "outputs": [
    {
     "ename": "NameError",
     "evalue": "name 'confusion_matrix' is not defined",
     "output_type": "error",
     "traceback": [
      "\u001b[1;31m---------------------------------------------------------------------------\u001b[0m",
      "\u001b[1;31mNameError\u001b[0m                                 Traceback (most recent call last)",
      "\u001b[1;32mC:\\Users\\AWH28~1\\AppData\\Local\\Temp/ipykernel_19536/2964084646.py\u001b[0m in \u001b[0;36m<module>\u001b[1;34m\u001b[0m\n\u001b[1;32m----> 1\u001b[1;33m \u001b[0mcm\u001b[0m\u001b[1;33m=\u001b[0m\u001b[0mconfusion_matrix\u001b[0m\u001b[1;33m(\u001b[0m\u001b[0my_test\u001b[0m\u001b[1;33m,\u001b[0m\u001b[0my_predict\u001b[0m\u001b[1;33m,\u001b[0m\u001b[0mnormalize\u001b[0m\u001b[1;33m=\u001b[0m\u001b[1;32mNone\u001b[0m\u001b[1;33m,\u001b[0m\u001b[0mlabels\u001b[0m\u001b[1;33m=\u001b[0m\u001b[0mKnn\u001b[0m\u001b[1;33m.\u001b[0m\u001b[0mclasses_\u001b[0m\u001b[1;33m)\u001b[0m\u001b[1;33m\u001b[0m\u001b[1;33m\u001b[0m\u001b[0m\n\u001b[0m\u001b[0;32m      2\u001b[0m \u001b[0mprint\u001b[0m\u001b[1;33m(\u001b[0m\u001b[0mcm\u001b[0m\u001b[1;33m)\u001b[0m\u001b[1;33m\u001b[0m\u001b[1;33m\u001b[0m\u001b[0m\n\u001b[0;32m      3\u001b[0m \u001b[0mcm_dis\u001b[0m\u001b[1;33m=\u001b[0m\u001b[0mConfusionMatrixDisplay\u001b[0m\u001b[1;33m(\u001b[0m\u001b[0mconfusion_matrix\u001b[0m\u001b[1;33m=\u001b[0m\u001b[0mcm\u001b[0m\u001b[1;33m,\u001b[0m\u001b[0mdisplay_labels\u001b[0m\u001b[1;33m=\u001b[0m\u001b[0mKnn\u001b[0m\u001b[1;33m.\u001b[0m\u001b[0mclasses_\u001b[0m\u001b[1;33m)\u001b[0m\u001b[1;33m\u001b[0m\u001b[1;33m\u001b[0m\u001b[0m\n\u001b[0;32m      4\u001b[0m \u001b[0mcm_dis\u001b[0m\u001b[1;33m.\u001b[0m\u001b[0mplot\u001b[0m\u001b[1;33m(\u001b[0m\u001b[1;33m)\u001b[0m\u001b[1;33m\u001b[0m\u001b[1;33m\u001b[0m\u001b[0m\n\u001b[0;32m      5\u001b[0m \u001b[0mplt\u001b[0m\u001b[1;33m.\u001b[0m\u001b[0mshow\u001b[0m\u001b[1;33m(\u001b[0m\u001b[1;33m)\u001b[0m\u001b[1;33m\u001b[0m\u001b[1;33m\u001b[0m\u001b[0m\n",
      "\u001b[1;31mNameError\u001b[0m: name 'confusion_matrix' is not defined"
     ]
    }
   ],
   "source": [
    "cm=confusion_matrix(y_test,y_predict,normalize=None,labels=Knn.classes_)\n",
    "print(cm)\n",
    "cm_dis=ConfusionMatrixDisplay(confusion_matrix=cm,display_labels=Knn.classes_)\n",
    "cm_dis.plot()\n",
    "plt.show()"
   ]
  },
  {
   "cell_type": "code",
   "execution_count": null,
   "id": "81cff647",
   "metadata": {},
   "outputs": [],
   "source": []
  }
 ],
 "metadata": {
  "kernelspec": {
   "display_name": "Python 3 (ipykernel)",
   "language": "python",
   "name": "python3"
  },
  "language_info": {
   "codemirror_mode": {
    "name": "ipython",
    "version": 3
   },
   "file_extension": ".py",
   "mimetype": "text/x-python",
   "name": "python",
   "nbconvert_exporter": "python",
   "pygments_lexer": "ipython3",
   "version": "3.9.7"
  }
 },
 "nbformat": 4,
 "nbformat_minor": 5
}
