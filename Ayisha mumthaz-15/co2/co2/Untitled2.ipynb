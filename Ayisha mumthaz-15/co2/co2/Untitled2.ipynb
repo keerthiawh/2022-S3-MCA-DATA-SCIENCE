{
 "cells": [
  {
   "cell_type": "code",
   "execution_count": 1,
   "id": "7fb73e13",
   "metadata": {},
   "outputs": [
    {
     "name": "stdout",
     "output_type": "stream",
     "text": [
      "    Ingredient  Sweetness  Crunchiness   FoodType\n",
      "0        apple       10.0            9      fruit\n",
      "1        bacon        1.0            4    protein\n",
      "2       banana       10.0            1      fruit\n",
      "3       carrot        7.0           10  vegetable\n",
      "4       celery        NaN           10  vegetable\n",
      "5       cheese        1.0            1    protein\n",
      "6     cucumber        2.0            8  vegetable\n",
      "7         fish        3.0            1        123\n",
      "8        grape        8.0            5      fruit\n",
      "9   green bean        3.0            7  vegetable\n",
      "10     lettuce        6.0            9  vegetable\n",
      "11        nuts        3.0            6    protein\n",
      "12      orange        7.0            3      fruit\n",
      "13        pear       10.0            7      fruit\n",
      "14      shrimp        2.0            3    protein\n",
      "15      shrimp        2.0            3    protein\n",
      "16      banana       10.0            1      fruit\n"
     ]
    }
   ],
   "source": [
    "import pandas as pd\n",
    "df=pd.read_csv('food_cleaning.csv')\n",
    "print(df)"
   ]
  },
  {
   "cell_type": "code",
   "execution_count": 2,
   "id": "3fbd3ae3",
   "metadata": {},
   "outputs": [
    {
     "name": "stdout",
     "output_type": "stream",
     "text": [
      "    Ingredient  Sweetness  Crunchiness   FoodType\n",
      "0        apple       10.0            9      fruit\n",
      "1        bacon        1.0            4    protein\n",
      "2       banana       10.0            1      fruit\n",
      "3       carrot        7.0           10  vegetable\n",
      "5       cheese        1.0            1    protein\n",
      "6     cucumber        2.0            8  vegetable\n",
      "7         fish        3.0            1        123\n",
      "8        grape        8.0            5      fruit\n",
      "9   green bean        3.0            7  vegetable\n",
      "10     lettuce        6.0            9  vegetable\n",
      "11        nuts        3.0            6    protein\n",
      "12      orange        7.0            3      fruit\n",
      "13        pear       10.0            7      fruit\n",
      "14      shrimp        2.0            3    protein\n",
      "15      shrimp        2.0            3    protein\n",
      "16      banana       10.0            1      fruit\n"
     ]
    }
   ],
   "source": [
    "newdata=df.dropna()\n",
    "print(newdata)"
   ]
  },
  {
   "cell_type": "code",
   "execution_count": 3,
   "id": "843821e5",
   "metadata": {},
   "outputs": [
    {
     "data": {
      "text/plain": [
       "True"
      ]
     },
     "execution_count": 3,
     "metadata": {},
     "output_type": "execute_result"
    }
   ],
   "source": [
    "#\n",
    "df.duplicated().any()"
   ]
  },
  {
   "cell_type": "code",
   "execution_count": 4,
   "id": "1c89e7da",
   "metadata": {},
   "outputs": [
    {
     "name": "stdout",
     "output_type": "stream",
     "text": [
      "0     False\n",
      "1     False\n",
      "2     False\n",
      "3     False\n",
      "4     False\n",
      "5     False\n",
      "6     False\n",
      "7     False\n",
      "8     False\n",
      "9     False\n",
      "10    False\n",
      "11    False\n",
      "12    False\n",
      "13    False\n",
      "14    False\n",
      "15     True\n",
      "16     True\n",
      "dtype: bool\n"
     ]
    }
   ],
   "source": [
    "print(df.duplicated())"
   ]
  },
  {
   "cell_type": "code",
   "execution_count": null,
   "id": "3228b67f",
   "metadata": {},
   "outputs": [],
   "source": []
  },
  {
   "cell_type": "code",
   "execution_count": null,
   "id": "f1d11ca7",
   "metadata": {},
   "outputs": [],
   "source": []
  },
  {
   "cell_type": "code",
   "execution_count": 5,
   "id": "a8dab5e6",
   "metadata": {},
   "outputs": [
    {
     "name": "stdout",
     "output_type": "stream",
     "text": [
      "    Ingredient  Sweetness  Crunchiness   FoodType\n",
      "0        apple       10.0          9.0      fruit\n",
      "1        bacon        1.0          4.0    protein\n",
      "2       banana       10.0          1.0      fruit\n",
      "3       carrot        7.0         10.0  vegetable\n",
      "4       celery        NaN         10.0  vegetable\n",
      "5       cheese        1.0          1.0    protein\n",
      "6     cucumber        2.0          8.0  vegetable\n",
      "7         fish        3.0          1.0        123\n",
      "8        grape        8.0          5.0      fruit\n",
      "9   green bean        3.0          7.0  vegetable\n",
      "10     lettuce        6.0          9.0  vegetable\n",
      "11        nuts        3.0          6.0    protein\n",
      "12      orange        7.0          3.0      fruit\n",
      "13        pear       10.0          7.0      fruit\n",
      "14      shrimp        2.0          3.0    protein\n",
      "15      shrimp        2.0          3.0    protein\n",
      "16      banana       10.0          1.0      fruit\n"
     ]
    }
   ],
   "source": [
    "df['Crunchiness']=df['Crunchiness'].astype('float')\n",
    "print(df)"
   ]
  },
  {
   "cell_type": "code",
   "execution_count": 6,
   "id": "0a285c06",
   "metadata": {},
   "outputs": [
    {
     "name": "stdout",
     "output_type": "stream",
     "text": [
      "    Ingredient  Sweetness  Crunchiness   FoodType\n",
      "0        apple       10.0          9.0      fruit\n",
      "2       banana       10.0          1.0      fruit\n",
      "3       carrot        7.0         10.0  vegetable\n",
      "4       celery        NaN         10.0  vegetable\n",
      "6     cucumber        2.0          8.0  vegetable\n",
      "8        grape        8.0          5.0      fruit\n",
      "9   green bean        3.0          7.0  vegetable\n",
      "10     lettuce        6.0          9.0  vegetable\n",
      "12      orange        7.0          3.0      fruit\n",
      "13        pear       10.0          7.0      fruit\n",
      "16      banana       10.0          1.0      fruit\n"
     ]
    }
   ],
   "source": [
    "for x in df.index:\n",
    "    if df.loc[x,'FoodType'] != 'fruit' and df.loc[x,'FoodType'] != 'vegetable' and df.loc[x,'FoodType'] != 'FoodType':\n",
    "        df.drop(x, inplace=True)\n",
    "print(df)"
   ]
  },
  {
   "cell_type": "code",
   "execution_count": 10,
   "id": "505185b3",
   "metadata": {},
   "outputs": [],
   "source": [
    "df['Sweetness'].fillna(3,inplace=True )"
   ]
  },
  {
   "cell_type": "code",
   "execution_count": 11,
   "id": "229d4fdb",
   "metadata": {},
   "outputs": [
    {
     "name": "stdout",
     "output_type": "stream",
     "text": [
      "    Ingredient  Sweetness  Crunchiness   FoodType\n",
      "0        apple       10.0          9.0      fruit\n",
      "2       banana       10.0          1.0      fruit\n",
      "3       carrot        7.0         10.0  vegetable\n",
      "4       celery        3.0         10.0  vegetable\n",
      "6     cucumber        2.0          8.0  vegetable\n",
      "8        grape        8.0          5.0      fruit\n",
      "9   green bean        3.0          7.0  vegetable\n",
      "10     lettuce        6.0          9.0  vegetable\n",
      "12      orange        7.0          3.0      fruit\n",
      "13        pear       10.0          7.0      fruit\n",
      "16      banana       10.0          1.0      fruit\n"
     ]
    }
   ],
   "source": [
    "print(df)"
   ]
  },
  {
   "cell_type": "code",
   "execution_count": null,
   "id": "1c7c8b8e",
   "metadata": {},
   "outputs": [],
   "source": []
  }
 ],
 "metadata": {
  "kernelspec": {
   "display_name": "Python 3 (ipykernel)",
   "language": "python",
   "name": "python3"
  },
  "language_info": {
   "codemirror_mode": {
    "name": "ipython",
    "version": 3
   },
   "file_extension": ".py",
   "mimetype": "text/x-python",
   "name": "python",
   "nbconvert_exporter": "python",
   "pygments_lexer": "ipython3",
   "version": "3.9.7"
  }
 },
 "nbformat": 4,
 "nbformat_minor": 5
}
