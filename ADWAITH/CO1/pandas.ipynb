{
 "cells": [
  {
   "cell_type": "code",
   "execution_count": 4,
   "id": "ee4e6515",
   "metadata": {},
   "outputs": [
    {
     "name": "stdout",
     "output_type": "stream",
     "text": [
      "    Ingredient  Sweetness  Crunchiness   FoodType\n",
      "0        apple         10            9      fruit\n",
      "1        bacon          1            4    protein\n",
      "2       banana         10            1      fruit\n",
      "3       carrot          7           10  vegetable\n",
      "4       celery          3           10  vegetable\n",
      "5       cheese          1            1    protein\n",
      "6     cucumber          2            8  vegetable\n",
      "7         fish          3            1    protein\n",
      "8        grape          8            5      fruit\n",
      "9   green bean          3            7  vegetable\n",
      "10     lettuce          1            9  vegetable\n",
      "11        nuts          3            6    protein\n",
      "12      orange          7            3      fruit\n",
      "13        pear         10            7      fruit\n",
      "14      shrimp          2            3    protein\n",
      "<class 'pandas.core.frame.DataFrame'>\n",
      "RangeIndex: 15 entries, 0 to 14\n",
      "Data columns (total 4 columns):\n",
      " #   Column       Non-Null Count  Dtype \n",
      "---  ------       --------------  ----- \n",
      " 0   Ingredient   15 non-null     object\n",
      " 1   Sweetness    15 non-null     int64 \n",
      " 2   Crunchiness  15 non-null     int64 \n",
      " 3   FoodType     15 non-null     object\n",
      "dtypes: int64(2), object(2)\n",
      "memory usage: 608.0+ bytes\n"
     ]
    }
   ],
   "source": [
    "import pandas as pd\n",
    "df = pd.read_csv('food.csv') \n",
    "print(df)\n",
    "df.info()\n"
   ]
  },
  {
   "cell_type": "code",
   "execution_count": 6,
   "id": "5e7c3689",
   "metadata": {},
   "outputs": [
    {
     "name": "stdout",
     "output_type": "stream",
     "text": [
      "  Ingredient  Sweetness  Crunchiness   FoodType\n",
      "0      apple         10            9      fruit\n",
      "1      bacon          1            4    protein\n",
      "2     banana         10            1      fruit\n",
      "3     carrot          7           10  vegetable\n",
      "4     celery          3           10  vegetable\n"
     ]
    }
   ],
   "source": [
    "import pandas as pd\n",
    "df = pd.read_csv('food.csv')\n",
    "print(df.head())"
   ]
  },
  {
   "cell_type": "code",
   "execution_count": 7,
   "id": "26570657",
   "metadata": {},
   "outputs": [
    {
     "name": "stdout",
     "output_type": "stream",
     "text": [
      "   Ingredient  Sweetness  Crunchiness   FoodType\n",
      "10    lettuce          1            9  vegetable\n",
      "11       nuts          3            6    protein\n",
      "12     orange          7            3      fruit\n",
      "13       pear         10            7      fruit\n",
      "14     shrimp          2            3    protein\n"
     ]
    }
   ],
   "source": [
    "import pandas as pd\n",
    "df = pd.read_csv('food.csv')\n",
    "print(df.tail())"
   ]
  },
  {
   "cell_type": "code",
   "execution_count": 9,
   "id": "c9942bb6",
   "metadata": {},
   "outputs": [
    {
     "name": "stdout",
     "output_type": "stream",
     "text": [
      "(15, 4)\n"
     ]
    }
   ],
   "source": [
    "import pandas as pd\n",
    "df = pd.read_csv('food.csv')\n",
    "print(df.shape)"
   ]
  },
  {
   "cell_type": "code",
   "execution_count": 13,
   "id": "4006766f",
   "metadata": {},
   "outputs": [
    {
     "name": "stdout",
     "output_type": "stream",
     "text": [
      "       Sweetness  Crunchiness\n",
      "count  15.000000    15.000000\n",
      "mean    4.733333     5.600000\n",
      "std     3.514595     3.290679\n",
      "min     1.000000     1.000000\n",
      "25%     2.000000     3.000000\n",
      "50%     3.000000     6.000000\n",
      "75%     7.500000     8.500000\n",
      "max    10.000000    10.000000\n"
     ]
    }
   ],
   "source": [
    "import pandas as pd\n",
    "df = pd.read_csv('food.csv')\n",
    "print(df.describe())"
   ]
  },
  {
   "cell_type": "code",
   "execution_count": 12,
   "id": "a574d1cb",
   "metadata": {},
   "outputs": [
    {
     "name": "stdout",
     "output_type": "stream",
     "text": [
      "             Sweetness  Crunchiness\n",
      "Sweetness     1.000000     0.070407\n",
      "Crunchiness   0.070407     1.000000\n"
     ]
    }
   ],
   "source": [
    "import pandas as pd\n",
    "df = pd.read_csv('food.csv')\n",
    "print(df.corr())"
   ]
  },
  {
   "cell_type": "code",
   "execution_count": 20,
   "id": "94642e80",
   "metadata": {},
   "outputs": [
    {
     "name": "stdout",
     "output_type": "stream",
     "text": [
      "  Ingredient  Sweetness  Crunchiness   FoodType\n",
      "1      bacon          1            4    protein\n",
      "2     banana         10            1      fruit\n",
      "3     carrot          7           10  vegetable\n",
      "4     celery          3           10  vegetable\n",
      "5     cheese          1            1    protein\n"
     ]
    }
   ],
   "source": [
    "import pandas as pd\n",
    "df = pd.read_csv('food.csv')\n",
    "print(df.iloc[1: 6])"
   ]
  },
  {
   "cell_type": "code",
   "execution_count": 16,
   "id": "be07943f",
   "metadata": {},
   "outputs": [
    {
     "name": "stdout",
     "output_type": "stream",
     "text": [
      "    Ingredient  Sweetness  Crunchiness   FoodType\n",
      "0        apple         10            9      fruit\n",
      "1        bacon          1            4    protein\n",
      "2       banana         10            1      fruit\n",
      "3       carrot          7           10  vegetable\n",
      "4       celery          3           10  vegetable\n",
      "5       cheese          1            1    protein\n",
      "6     cucumber          2            8  vegetable\n",
      "7         fish          3            1    protein\n",
      "8        grape          8            5      fruit\n",
      "9   green bean          3            7  vegetable\n",
      "10     lettuce          1            9  vegetable\n",
      "11        nuts          3            6    protein\n",
      "12      orange          7            3      fruit\n",
      "13        pear         10            7      fruit\n",
      "14      shrimp          2            3    protein\n"
     ]
    }
   ],
   "source": [
    "import pandas as pd\n",
    "df = pd.read_csv('food.csv')\n",
    "newdf = df.dropna()\n",
    "print(newdf)"
   ]
  },
  {
   "cell_type": "code",
   "execution_count": 22,
   "id": "fc82dc30",
   "metadata": {},
   "outputs": [
    {
     "name": "stdout",
     "output_type": "stream",
     "text": [
      "   ROLL NO ADMISSION NO REGISTER NUMBER         DEGREE  SEM ACADEMIC YEAR\n",
      "0        1      A22 656   AWH22MCA-2001  MCA TWO YEARS   S1   2022 - 2023\n",
      "1        2    A22LAP623   AWH22MCA-2002  MCA TWO YEARS   S1   2022 - 2023\n",
      "2        3  A22 LAP 619   2003-AWH22MCA  MCA TWO YEARS   S1   2022 - 2023\n",
      "3        4  A22 LAP 620   AWH22MCA-2004  MCA TWO YEARS   S1   2022 - 2023\n",
      "4        5  A22 LAP 618   AWH22MCA-2007  MCA TWO YEARS   S1   2022 - 2023\n",
      "5        6      A22 654   AWH22MCA-2006          10000   S1   2022 - 2023\n",
      "6        7  A22 LAP 621   AWH22MCA-2005  MCA TWO YEARS   S1   2022 - 2023\n",
      "7        8    A22LAP627   AWH22MCA-2008  MCA TWO YEARS   S1   2022 - 2023\n",
      "8       AA      A22 640   AWH22MCA-2009  MCA TWO YEARS  123         22-23\n",
      "9       10      A22G607   AWH22MCA-2010  MCA TWO YEARS   S1   2022 - 2023\n",
      "10      10      A22G607   AWH22MCA-2010  MCA TWO YEARS   S1   2022 - 2023\n",
      "11       6      A22 654   AWH22MCA-2006          10000   S1   2022 - 2023\n"
     ]
    }
   ],
   "source": [
    "import pandas as pd\n",
    "df = pd.read_csv('food.csv')\n",
    "newdf = df.fillna(10000)\n",
    "print(newdf)"
   ]
  },
  {
   "cell_type": "code",
   "execution_count": 26,
   "id": "de69205e",
   "metadata": {},
   "outputs": [
    {
     "data": {
      "text/plain": [
       "Ingredient     object\n",
       "Sweetness       int64\n",
       "Crunchiness     int64\n",
       "FoodType       object\n",
       "dtype: object"
      ]
     },
     "execution_count": 26,
     "metadata": {},
     "output_type": "execute_result"
    }
   ],
   "source": [
    "\n",
    "import pandas as pd\n",
    "df = pd.read_csv('food1.csv')\n",
    "df.dtypes"
   ]
  },
  {
   "cell_type": "code",
   "execution_count": 34,
   "id": "b97501a3",
   "metadata": {},
   "outputs": [
    {
     "name": "stdout",
     "output_type": "stream",
     "text": [
      "Ingredient      object\n",
      "Sweetness        int64\n",
      "Crunchiness    float64\n",
      "FoodType        object\n",
      "dtype: object\n"
     ]
    }
   ],
   "source": [
    "df[\"Crunchiness\"]=df[\"Crunchiness\"].astype(\"float\")\n",
    "print(df.dtypes)"
   ]
  },
  {
   "cell_type": "code",
   "execution_count": null,
   "id": "e6efa914",
   "metadata": {},
   "outputs": [],
   "source": []
  }
 ],
 "metadata": {
  "kernelspec": {
   "display_name": "Python 3 (ipykernel)",
   "language": "python",
   "name": "python3"
  },
  "language_info": {
   "codemirror_mode": {
    "name": "ipython",
    "version": 3
   },
   "file_extension": ".py",
   "mimetype": "text/x-python",
   "name": "python",
   "nbconvert_exporter": "python",
   "pygments_lexer": "ipython3",
   "version": "3.9.7"
  }
 },
 "nbformat": 4,
 "nbformat_minor": 5
}
